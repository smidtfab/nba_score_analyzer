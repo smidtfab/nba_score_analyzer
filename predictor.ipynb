{
 "nbformat": 4,
 "nbformat_minor": 2,
 "metadata": {
  "language_info": {
   "name": "python",
   "codemirror_mode": {
    "name": "ipython",
    "version": 3
   },
   "version": "3.8.2-final"
  },
  "orig_nbformat": 2,
  "file_extension": ".py",
  "mimetype": "text/x-python",
  "name": "python",
  "npconvert_exporter": "python",
  "pygments_lexer": "ipython3",
  "version": 3,
  "kernelspec": {
   "name": "python38264bitnsconda5906bd2dc1be4fac85b3821c63f25579",
   "display_name": "Python 3.8.2 64-bit ('NS': conda)"
  }
 },
 "cells": [
  {
   "cell_type": "code",
   "execution_count": 1,
   "metadata": {},
   "outputs": [
    {
     "output_type": "stream",
     "name": "stdout",
     "text": "{'_id': ObjectId('5e8b3c9055dca7119bcd0e8f'), 'GAME_DATE_EST': '2019-10-22T00:00:00', 'GAME_SEQUENCE': '1', 'GAME_ID': '0021900001', 'TEAM_ID': '1610612740', 'TEAM_ABBREVIATION': 'NOP', 'TEAM_CITY_NAME': 'New Orleans', 'TEAM_NAME': 'Pelicans', 'TEAM_WINS_LOSSES': '0-1', 'PTS_QTR1': '30', 'PTS_QTR2': '31', 'PTS_QTR3': '25', 'PTS_QTR4': '31', 'PTS_OT1': '5', 'PTS_OT2': '0', 'PTS_OT3': '0', 'PTS_OT4': '0', 'PTS_OT5': '0', 'PTS_OT6': '0', 'PTS_OT7': '0', 'PTS_OT8': '0', 'PTS_OT9': '0', 'PTS_OT10': '0', 'PTS': '122', 'FG_PCT': '0.422', 'FT_PCT': '0.85', 'FG3_PCT': '0.422', 'AST': '30', 'REB': '53', 'TOV': '19'}\n                          _id        GAME_DATE_EST GAME_SEQUENCE     GAME_ID  \\\n0    5e8b3c9055dca7119bcd0e8f  2019-10-22T00:00:00             1  0021900001   \n1    5e8b3c9055dca7119bcd0e91  2019-10-22T00:00:00             1  0021900001   \n2    5e8b3c9055dca7119bcd0e93  2019-10-22T00:00:00             2  0021900002   \n3    5e8b3c9055dca7119bcd0e95  2019-10-22T00:00:00             2  0021900002   \n4    5e8b3c9155dca7119bcd0e97  2019-10-23T00:00:00             1  0021900003   \n..                        ...                  ...           ...         ...   \n527  5e8b3cc155dca7119bcd12b1  2019-11-27T00:00:00            12  0021900264   \n528  5e8b3cc155dca7119bcd12b3  2019-11-27T00:00:00            13  0021900265   \n529  5e8b3cc155dca7119bcd12b5  2019-11-27T00:00:00            13  0021900265   \n530  5e8b3cc155dca7119bcd12b7  2019-11-27T00:00:00            14  0021900266   \n531  5e8b3cc155dca7119bcd12b9  2019-11-27T00:00:00            14  0021900266   \n\n        TEAM_ID TEAM_ABBREVIATION TEAM_CITY_NAME      TEAM_NAME  \\\n0    1610612740               NOP    New Orleans       Pelicans   \n1    1610612761               TOR        Toronto        Raptors   \n2    1610612747               LAL    Los Angeles         Lakers   \n3    1610612746               LAC             LA       Clippers   \n4    1610612741               CHI        Chicago          Bulls   \n..          ...               ...            ...            ...   \n527  1610612740               NOP    New Orleans       Pelicans   \n528  1610612760               OKC  Oklahoma City        Thunder   \n529  1610612757               POR       Portland  Trail Blazers   \n530  1610612741               CHI        Chicago          Bulls   \n531  1610612744               GSW   Golden State       Warriors   \n\n    TEAM_WINS_LOSSES PTS_QTR1  ... PTS_OT8 PTS_OT9 PTS_OT10  PTS FG_PCT  \\\n0                0-1       30  ...       0       0        0  122  0.422   \n1                1-0       27  ...       0       0        0  130  0.408   \n2                0-1       25  ...       0       0        0  102  0.435   \n3                1-0       22  ...       0       0        0  112  0.519   \n4                0-1       28  ...       0       0        0  125  0.467   \n..               ...      ...  ...     ...     ...      ...  ...    ...   \n527             6-12       38  ...       0       0        0  110  0.405   \n528             6-11       26  ...       0       0        0  119  0.443   \n529             7-12       42  ...       0       0        0  136  0.521   \n530             6-13       17  ...       0       0        0   90  0.382   \n531             4-15       25  ...       0       0        0  104  0.457   \n\n    FT_PCT FG3_PCT AST REB TOV  \n0     0.85   0.422  30  53  19  \n1    0.842    0.35  23  57  16  \n2    0.714   0.394  20  41  14  \n3    0.708   0.355  24  45  14  \n4    0.818     0.3  25  49  10  \n..     ...     ...  ..  ..  ..  \n527  0.833   0.425  20  42  19  \n528  0.789   0.314  19  38   6  \n529    1.0   0.467  23  54   9  \n530  0.667   0.345  20  42  17  \n531  0.731   0.379  31  54  20  \n\n[532 rows x 30 columns]\n"
    }
   ],
   "source": [
    "from games_db import GamesDB\n",
    "\n",
    "# create db instance to retrieve stored games\n",
    "gamesDB = GamesDB()\n",
    "\n",
    "# get all games from mongodb as a list of dictionaries\n",
    "nba_games_raw = gamesDB.retrieve_all()\n",
    "print(nba_games_raw[0])\n",
    "\n",
    "# convert list of dictionaries into df\n",
    "games_df = gamesDB.convert_to_df(nba_games_raw)\n",
    "print(games_df)"
   ]
  },
  {
   "cell_type": "code",
   "execution_count": null,
   "metadata": {},
   "outputs": [],
   "source": []
  }
 ]
}