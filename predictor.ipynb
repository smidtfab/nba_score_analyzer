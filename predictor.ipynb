{
 "nbformat": 4,
 "nbformat_minor": 2,
 "metadata": {
  "language_info": {
   "name": "python",
   "codemirror_mode": {
    "name": "ipython",
    "version": 3
   },
   "version": "3.8.2-final"
  },
  "orig_nbformat": 2,
  "file_extension": ".py",
  "mimetype": "text/x-python",
  "name": "python",
  "npconvert_exporter": "python",
  "pygments_lexer": "ipython3",
  "version": 3,
  "kernelspec": {
   "name": "python38264bitnsconda5906bd2dc1be4fac85b3821c63f25579",
   "display_name": "Python 3.8.2 64-bit ('NS': conda)"
  }
 },
 "cells": [
  {
   "cell_type": "code",
   "execution_count": 1,
   "metadata": {},
   "outputs": [],
   "source": [
    "from games_db import GamesDB\n",
    "\n",
    "import numpy as np\n",
    "import pandas as pd"
   ]
  },
  {
   "cell_type": "code",
   "execution_count": 2,
   "metadata": {},
   "outputs": [
    {
     "output_type": "stream",
     "name": "stdout",
     "text": "{'_id': ObjectId('5e8b3c9055dca7119bcd0e8f'), 'GAME_DATE_EST': '2019-10-22T00:00:00', 'GAME_SEQUENCE': '1', 'GAME_ID': '0021900001', 'TEAM_ID': '1610612740', 'TEAM_ABBREVIATION': 'NOP', 'TEAM_CITY_NAME': 'New Orleans', 'TEAM_NAME': 'Pelicans', 'TEAM_WINS_LOSSES': '0-1', 'PTS_QTR1': '30', 'PTS_QTR2': '31', 'PTS_QTR3': '25', 'PTS_QTR4': '31', 'PTS_OT1': '5', 'PTS_OT2': '0', 'PTS_OT3': '0', 'PTS_OT4': '0', 'PTS_OT5': '0', 'PTS_OT6': '0', 'PTS_OT7': '0', 'PTS_OT8': '0', 'PTS_OT9': '0', 'PTS_OT10': '0', 'PTS': '122', 'FG_PCT': '0.422', 'FT_PCT': '0.85', 'FG3_PCT': '0.422', 'AST': '30', 'REB': '53', 'TOV': '19'}\n                           _id        GAME_DATE_EST GAME_SEQUENCE     GAME_ID  \\\n0     5e8b3c9055dca7119bcd0e8f  2019-10-22T00:00:00             1  0021900001   \n1     5e8b3c9055dca7119bcd0e91  2019-10-22T00:00:00             1  0021900001   \n2     5e8b3c9055dca7119bcd0e93  2019-10-22T00:00:00             2  0021900002   \n3     5e8b3c9055dca7119bcd0e95  2019-10-22T00:00:00             2  0021900002   \n4     5e8b3c9155dca7119bcd0e97  2019-10-23T00:00:00             1  0021900003   \n...                        ...                  ...           ...         ...   \n1939  5e8c6c652371b2dbaa0b4c42  2020-03-11T00:00:00             5  0021900970   \n1940  5e8c6c652371b2dbaa0b4c44  2020-03-11T00:00:00             5  0021900970   \n1941  5e8c6c652371b2dbaa0b4c46  2020-03-11T00:00:00             6  0021900973   \n1942  5e8c6c652371b2dbaa0b4c48  2020-03-11T00:00:00             6  0021900973   \n1943  5e8cc2f5fe274128a4fb69e9  2020-02-16T00:00:00             1  0031900001   \n\n         TEAM_ID TEAM_ABBREVIATION TEAM_CITY_NAME  TEAM_NAME TEAM_WINS_LOSSES  \\\n0     1610612740               NOP    New Orleans   Pelicans              0-1   \n1     1610612761               TOR        Toronto    Raptors              1-0   \n2     1610612747               LAL    Los Angeles     Lakers              0-1   \n3     1610612746               LAC             LA   Clippers              1-0   \n4     1610612741               CHI        Chicago      Bulls              0-1   \n...          ...               ...            ...        ...              ...   \n1939  1610612766               CHA      Charlotte    Hornets            23-42   \n1940  1610612748               MIA          Miami       Heat            41-24   \n1941  1610612743               DEN         Denver    Nuggets            43-22   \n1942  1610612742               DAL         Dallas  Mavericks            40-27   \n1943  1610616834               LBN           Team     LeBron              1-0   \n\n     PTS_QTR1  ... PTS_OT8 PTS_OT9 PTS_OT10  PTS FG_PCT FT_PCT FG3_PCT AST  \\\n0          30  ...       0       0        0  122  0.422   0.85   0.422  30   \n1          27  ...       0       0        0  130  0.408  0.842    0.35  23   \n2          25  ...       0       0        0  102  0.435  0.714   0.394  20   \n3          22  ...       0       0        0  112  0.519  0.708   0.355  24   \n4          28  ...       0       0        0  125  0.467  0.818     0.3  25   \n...       ...  ...     ...     ...      ...  ...    ...    ...     ...  ..   \n1939       22  ...       0       0        0  109  0.451  0.818     0.5  20   \n1940       40  ...       0       0        0   98  0.464  0.833   0.341  32   \n1941       29  ...       0       0        0   97   0.47  0.625   0.359  23   \n1942       33  ...       0       0        0  113  0.457  0.739   0.343  23   \n1943       53  ...       0       0        0  157    0.5   0.55   0.343  39   \n\n     REB TOV  \n0     53  19  \n1     57  16  \n2     41  14  \n3     45  14  \n4     49  10  \n...   ..  ..  \n1939  50  14  \n1940  36  14  \n1941  40  15  \n1942  52  10  \n1943  49  18  \n\n[1944 rows x 30 columns]\n"
    }
   ],
   "source": [
    "# create db instance to retrieve stored games\n",
    "gamesDB = GamesDB()\n",
    "\n",
    "# get all games from mongodb as a list of dictionaries\n",
    "nba_games_raw = gamesDB.retrieve_all()\n",
    "print(nba_games_raw[0])\n",
    "\n",
    "# convert list of dictionaries into df\n",
    "games_df = gamesDB.convert_to_df(nba_games_raw)\n",
    "print(games_df)"
   ]
  },
  {
   "cell_type": "code",
   "execution_count": 3,
   "metadata": {},
   "outputs": [
    {
     "output_type": "stream",
     "name": "stdout",
     "text": "(1944, 30)\nIndex(['_id', 'GAME_DATE_EST', 'GAME_SEQUENCE', 'GAME_ID', 'TEAM_ID',\n       'TEAM_ABBREVIATION', 'TEAM_CITY_NAME', 'TEAM_NAME', 'TEAM_WINS_LOSSES',\n       'PTS_QTR1', 'PTS_QTR2', 'PTS_QTR3', 'PTS_QTR4', 'PTS_OT1', 'PTS_OT2',\n       'PTS_OT3', 'PTS_OT4', 'PTS_OT5', 'PTS_OT6', 'PTS_OT7', 'PTS_OT8',\n       'PTS_OT9', 'PTS_OT10', 'PTS', 'FG_PCT', 'FT_PCT', 'FG3_PCT', 'AST',\n       'REB', 'TOV'],\n      dtype='object')\n_id                  object\nGAME_DATE_EST        object\nGAME_SEQUENCE        object\nGAME_ID              object\nTEAM_ID              object\nTEAM_ABBREVIATION    object\nTEAM_CITY_NAME       object\nTEAM_NAME            object\nTEAM_WINS_LOSSES     object\nPTS_QTR1             object\nPTS_QTR2             object\nPTS_QTR3             object\nPTS_QTR4             object\nPTS_OT1              object\nPTS_OT2              object\nPTS_OT3              object\nPTS_OT4              object\nPTS_OT5              object\nPTS_OT6              object\nPTS_OT7              object\nPTS_OT8              object\nPTS_OT9              object\nPTS_OT10             object\nPTS                  object\nFG_PCT               object\nFT_PCT               object\nFG3_PCT              object\nAST                  object\nREB                  object\nTOV                  object\ndtype: object\n"
    }
   ],
   "source": [
    "print(games_df.shape)\n",
    "print(games_df.columns)\n",
    "print(games_df.dtypes)"
   ]
  },
  {
   "cell_type": "code",
   "execution_count": 4,
   "metadata": {},
   "outputs": [],
   "source": [
    "obj_cols = ['PTS_QTR1', 'PTS_QTR2', 'PTS_QTR3', 'PTS_QTR4', 'PTS_OT1', 'PTS_OT2', 'PTS_OT3', 'PTS_OT4', 'PTS_OT5', 'PTS_OT6', 'PTS_OT7', 'PTS_OT8', 'PTS_OT9', 'PTS_OT10', 'PTS', 'FG_PCT', 'FT_PCT', 'FG3_PCT', 'AST', 'REB', 'TOV']\n",
    "\n",
    "games_df[obj_cols] = games_df[obj_cols].apply(pd.to_numeric, errors='coerce')\n",
    "\n",
    "str_cols = ['GAME_DATE_EST', 'GAME_SEQUENCE', 'GAME_ID', 'TEAM_ID', 'TEAM_ID', 'TEAM_ABBREVIATION', 'TEAM_CITY_NAME', 'TEAM_NAME', 'TEAM_WINS_LOSSES']\n",
    "\n",
    "games_df[str_cols] = games_df[str_cols].astype('str')"
   ]
  },
  {
   "cell_type": "code",
   "execution_count": 5,
   "metadata": {},
   "outputs": [
    {
     "output_type": "stream",
     "name": "stdout",
     "text": "_id        GAME_DATE_EST GAME_SEQUENCE     GAME_ID  \\\n0   5e8b3c9055dca7119bcd0e8f  2019-10-22T00:00:00             1  0021900001   \n1   5e8b3c9055dca7119bcd0e91  2019-10-22T00:00:00             1  0021900001   \n2   5e8b3c9055dca7119bcd0e93  2019-10-22T00:00:00             2  0021900002   \n3   5e8b3c9055dca7119bcd0e95  2019-10-22T00:00:00             2  0021900002   \n4   5e8b3c9155dca7119bcd0e97  2019-10-23T00:00:00             1  0021900003   \n5   5e8b3c9155dca7119bcd0e99  2019-10-23T00:00:00             1  0021900003   \n6   5e8b3c9155dca7119bcd0e9b  2019-10-23T00:00:00             2  0021900004   \n7   5e8b3c9155dca7119bcd0e9d  2019-10-23T00:00:00             2  0021900004   \n8   5e8b3c9155dca7119bcd0e9f  2019-10-23T00:00:00             3  0021900005   \n9   5e8b3c9155dca7119bcd0ea1  2019-10-23T00:00:00             3  0021900005   \n10  5e8b3c9155dca7119bcd0ea3  2019-10-23T00:00:00             4  0021900006   \n11  5e8b3c9155dca7119bcd0ea5  2019-10-23T00:00:00             4  0021900006   \n\n       TEAM_ID TEAM_ABBREVIATION TEAM_CITY_NAME     TEAM_NAME  \\\n0   1610612740               NOP    New Orleans      Pelicans   \n1   1610612761               TOR        Toronto       Raptors   \n2   1610612747               LAL    Los Angeles        Lakers   \n3   1610612746               LAC             LA      Clippers   \n4   1610612741               CHI        Chicago         Bulls   \n5   1610612766               CHA      Charlotte       Hornets   \n6   1610612765               DET        Detroit       Pistons   \n7   1610612754               IND        Indiana        Pacers   \n8   1610612739               CLE      Cleveland     Cavaliers   \n9   1610612753               ORL        Orlando         Magic   \n10  1610612750               MIN      Minnesota  Timberwolves   \n11  1610612751               BKN       Brooklyn          Nets   \n\n   TEAM_WINS_LOSSES  PTS_QTR1  ...  PTS_OT8  PTS_OT9  PTS_OT10  PTS  FG_PCT  \\\n0               0-1        30  ...        0        0         0  122   0.422   \n1               1-0        27  ...        0        0         0  130   0.408   \n2               0-1        25  ...        0        0         0  102   0.435   \n3               1-0        22  ...        0        0         0  112   0.519   \n4               0-1        28  ...        0        0         0  125   0.467   \n5               1-0        37  ...        0        0         0  126   0.511   \n6               1-0        27  ...        0        0         0  119   0.526   \n7               0-1        24  ...        0        0         0  110   0.461   \n8               0-1        24  ...        0        0         0   85   0.375   \n9               1-0        28  ...        0        0         0   94   0.430   \n10              1-0        33  ...        0        0         0  127   0.426   \n11              0-1        22  ...        0        0         0  126   0.475   \n\n    FT_PCT  FG3_PCT  AST  REB  TOV  \n0    0.850    0.422   30   53   19  \n1    0.842    0.350   23   57   16  \n2    0.714    0.394   20   41   14  \n3    0.708    0.355   24   45   14  \n4    0.818    0.300   25   49   10  \n5    0.813    0.523   28   41   19  \n6    0.788    0.458   26   45   18  \n7    0.833    0.381   26   36   15  \n8    0.667    0.265   20   54   16  \n9    0.579    0.300   24   46   13  \n10   0.786    0.302   23   52   13  \n11   0.577    0.441   19   48   16  \n\n[12 rows x 30 columns]\n"
    }
   ],
   "source": [
    "print(games_df.head(12))"
   ]
  },
  {
   "cell_type": "code",
   "execution_count": 6,
   "metadata": {},
   "outputs": [
    {
     "output_type": "execute_result",
     "data": {
      "text/plain": "          PTS_QTR1     PTS_QTR2     PTS_QTR3     PTS_QTR4      PTS_OT1  \\\ncount  1944.000000  1944.000000  1944.000000  1944.000000  1944.000000   \nmean     27.898663    28.100823    27.697531    27.072016     0.675412   \nstd       6.016149     5.818769     6.118497     6.080770     2.807624   \nmin       9.000000    10.000000    10.000000     6.000000     0.000000   \n25%      24.000000    24.000000    23.000000    23.000000     0.000000   \n50%      28.000000    28.000000    28.000000    27.000000     0.000000   \n75%      32.000000    32.000000    32.000000    31.000000     0.000000   \nmax      53.000000    51.000000    49.000000    51.000000    21.000000   \n\n           PTS_OT2  PTS_OT3  PTS_OT4  PTS_OT5  PTS_OT6  ...  PTS_OT8  PTS_OT9  \\\ncount  1944.000000   1944.0   1944.0   1944.0   1944.0  ...   1944.0   1944.0   \nmean      0.047840      0.0      0.0      0.0      0.0  ...      0.0      0.0   \nstd       0.695752      0.0      0.0      0.0      0.0  ...      0.0      0.0   \nmin       0.000000      0.0      0.0      0.0      0.0  ...      0.0      0.0   \n25%       0.000000      0.0      0.0      0.0      0.0  ...      0.0      0.0   \n50%       0.000000      0.0      0.0      0.0      0.0  ...      0.0      0.0   \n75%       0.000000      0.0      0.0      0.0      0.0  ...      0.0      0.0   \nmax      14.000000      0.0      0.0      0.0      0.0  ...      0.0      0.0   \n\n       PTS_OT10          PTS       FG_PCT       FT_PCT      FG3_PCT  \\\ncount    1944.0  1944.000000  1944.000000  1944.000000  1944.000000   \nmean        0.0   111.492284     0.460948     0.768782     0.356963   \nstd         0.0    12.485336     0.054985     0.101776     0.085486   \nmin         0.0    73.000000     0.269000     0.375000     0.094000   \n25%         0.0   103.000000     0.422000     0.704000     0.300000   \n50%         0.0   111.000000     0.460000     0.774000     0.357000   \n75%         0.0   120.000000     0.500000     0.839000     0.415000   \nmax         0.0   159.000000     0.674000     1.000000     0.680000   \n\n               AST          REB          TOV  \ncount  1944.000000  1944.000000  1944.000000  \nmean     24.361626    44.864712    13.885802  \nstd       4.921555     6.736318     4.061205  \nmin      11.000000    25.000000     3.000000  \n25%      21.000000    40.000000    11.000000  \n50%      24.000000    45.000000    14.000000  \n75%      28.000000    49.000000    17.000000  \nmax      43.000000    67.000000    28.000000  \n\n[8 rows x 21 columns]",
      "text/html": "<div>\n<style scoped>\n    .dataframe tbody tr th:only-of-type {\n        vertical-align: middle;\n    }\n\n    .dataframe tbody tr th {\n        vertical-align: top;\n    }\n\n    .dataframe thead th {\n        text-align: right;\n    }\n</style>\n<table border=\"1\" class=\"dataframe\">\n  <thead>\n    <tr style=\"text-align: right;\">\n      <th></th>\n      <th>PTS_QTR1</th>\n      <th>PTS_QTR2</th>\n      <th>PTS_QTR3</th>\n      <th>PTS_QTR4</th>\n      <th>PTS_OT1</th>\n      <th>PTS_OT2</th>\n      <th>PTS_OT3</th>\n      <th>PTS_OT4</th>\n      <th>PTS_OT5</th>\n      <th>PTS_OT6</th>\n      <th>...</th>\n      <th>PTS_OT8</th>\n      <th>PTS_OT9</th>\n      <th>PTS_OT10</th>\n      <th>PTS</th>\n      <th>FG_PCT</th>\n      <th>FT_PCT</th>\n      <th>FG3_PCT</th>\n      <th>AST</th>\n      <th>REB</th>\n      <th>TOV</th>\n    </tr>\n  </thead>\n  <tbody>\n    <tr>\n      <th>count</th>\n      <td>1944.000000</td>\n      <td>1944.000000</td>\n      <td>1944.000000</td>\n      <td>1944.000000</td>\n      <td>1944.000000</td>\n      <td>1944.000000</td>\n      <td>1944.0</td>\n      <td>1944.0</td>\n      <td>1944.0</td>\n      <td>1944.0</td>\n      <td>...</td>\n      <td>1944.0</td>\n      <td>1944.0</td>\n      <td>1944.0</td>\n      <td>1944.000000</td>\n      <td>1944.000000</td>\n      <td>1944.000000</td>\n      <td>1944.000000</td>\n      <td>1944.000000</td>\n      <td>1944.000000</td>\n      <td>1944.000000</td>\n    </tr>\n    <tr>\n      <th>mean</th>\n      <td>27.898663</td>\n      <td>28.100823</td>\n      <td>27.697531</td>\n      <td>27.072016</td>\n      <td>0.675412</td>\n      <td>0.047840</td>\n      <td>0.0</td>\n      <td>0.0</td>\n      <td>0.0</td>\n      <td>0.0</td>\n      <td>...</td>\n      <td>0.0</td>\n      <td>0.0</td>\n      <td>0.0</td>\n      <td>111.492284</td>\n      <td>0.460948</td>\n      <td>0.768782</td>\n      <td>0.356963</td>\n      <td>24.361626</td>\n      <td>44.864712</td>\n      <td>13.885802</td>\n    </tr>\n    <tr>\n      <th>std</th>\n      <td>6.016149</td>\n      <td>5.818769</td>\n      <td>6.118497</td>\n      <td>6.080770</td>\n      <td>2.807624</td>\n      <td>0.695752</td>\n      <td>0.0</td>\n      <td>0.0</td>\n      <td>0.0</td>\n      <td>0.0</td>\n      <td>...</td>\n      <td>0.0</td>\n      <td>0.0</td>\n      <td>0.0</td>\n      <td>12.485336</td>\n      <td>0.054985</td>\n      <td>0.101776</td>\n      <td>0.085486</td>\n      <td>4.921555</td>\n      <td>6.736318</td>\n      <td>4.061205</td>\n    </tr>\n    <tr>\n      <th>min</th>\n      <td>9.000000</td>\n      <td>10.000000</td>\n      <td>10.000000</td>\n      <td>6.000000</td>\n      <td>0.000000</td>\n      <td>0.000000</td>\n      <td>0.0</td>\n      <td>0.0</td>\n      <td>0.0</td>\n      <td>0.0</td>\n      <td>...</td>\n      <td>0.0</td>\n      <td>0.0</td>\n      <td>0.0</td>\n      <td>73.000000</td>\n      <td>0.269000</td>\n      <td>0.375000</td>\n      <td>0.094000</td>\n      <td>11.000000</td>\n      <td>25.000000</td>\n      <td>3.000000</td>\n    </tr>\n    <tr>\n      <th>25%</th>\n      <td>24.000000</td>\n      <td>24.000000</td>\n      <td>23.000000</td>\n      <td>23.000000</td>\n      <td>0.000000</td>\n      <td>0.000000</td>\n      <td>0.0</td>\n      <td>0.0</td>\n      <td>0.0</td>\n      <td>0.0</td>\n      <td>...</td>\n      <td>0.0</td>\n      <td>0.0</td>\n      <td>0.0</td>\n      <td>103.000000</td>\n      <td>0.422000</td>\n      <td>0.704000</td>\n      <td>0.300000</td>\n      <td>21.000000</td>\n      <td>40.000000</td>\n      <td>11.000000</td>\n    </tr>\n    <tr>\n      <th>50%</th>\n      <td>28.000000</td>\n      <td>28.000000</td>\n      <td>28.000000</td>\n      <td>27.000000</td>\n      <td>0.000000</td>\n      <td>0.000000</td>\n      <td>0.0</td>\n      <td>0.0</td>\n      <td>0.0</td>\n      <td>0.0</td>\n      <td>...</td>\n      <td>0.0</td>\n      <td>0.0</td>\n      <td>0.0</td>\n      <td>111.000000</td>\n      <td>0.460000</td>\n      <td>0.774000</td>\n      <td>0.357000</td>\n      <td>24.000000</td>\n      <td>45.000000</td>\n      <td>14.000000</td>\n    </tr>\n    <tr>\n      <th>75%</th>\n      <td>32.000000</td>\n      <td>32.000000</td>\n      <td>32.000000</td>\n      <td>31.000000</td>\n      <td>0.000000</td>\n      <td>0.000000</td>\n      <td>0.0</td>\n      <td>0.0</td>\n      <td>0.0</td>\n      <td>0.0</td>\n      <td>...</td>\n      <td>0.0</td>\n      <td>0.0</td>\n      <td>0.0</td>\n      <td>120.000000</td>\n      <td>0.500000</td>\n      <td>0.839000</td>\n      <td>0.415000</td>\n      <td>28.000000</td>\n      <td>49.000000</td>\n      <td>17.000000</td>\n    </tr>\n    <tr>\n      <th>max</th>\n      <td>53.000000</td>\n      <td>51.000000</td>\n      <td>49.000000</td>\n      <td>51.000000</td>\n      <td>21.000000</td>\n      <td>14.000000</td>\n      <td>0.0</td>\n      <td>0.0</td>\n      <td>0.0</td>\n      <td>0.0</td>\n      <td>...</td>\n      <td>0.0</td>\n      <td>0.0</td>\n      <td>0.0</td>\n      <td>159.000000</td>\n      <td>0.674000</td>\n      <td>1.000000</td>\n      <td>0.680000</td>\n      <td>43.000000</td>\n      <td>67.000000</td>\n      <td>28.000000</td>\n    </tr>\n  </tbody>\n</table>\n<p>8 rows × 21 columns</p>\n</div>"
     },
     "metadata": {},
     "execution_count": 6
    }
   ],
   "source": [
    "games_df.describe()"
   ]
  },
  {
   "cell_type": "code",
   "execution_count": 7,
   "metadata": {
    "tags": [
     "outputPrepend",
     "outputPrepend",
     "outputPrepend",
     "outputPrepend",
     "outputPrepend",
     "outputPrepend",
     "outputPrepend",
     "outputPrepend",
     "outputPrepend",
     "outputPrepend",
     "outputPrepend",
     "outputPrepend",
     "outputPrepend",
     "outputPrepend",
     "outputPrepend",
     "outputPrepend",
     "outputPrepend",
     "outputPrepend",
     "outputPrepend",
     "outputPrepend",
     "outputPrepend",
     "outputPrepend",
     "outputPrepend",
     "outputPrepend",
     "outputPrepend",
     "outputPrepend",
     "outputPrepend",
     "outputPrepend",
     "outputPrepend",
     "outputPrepend",
     "outputPrepend",
     "outputPrepend",
     "outputPrepend",
     "outputPrepend",
     "outputPrepend",
     "outputPrepend",
     "outputPrepend",
     "outputPrepend",
     "outputPrepend",
     "outputPrepend",
     "outputPrepend",
     "outputPrepend",
     "outputPrepend",
     "outputPrepend",
     "outputPrepend",
     "outputPrepend",
     "outputPrepend",
     "outputPrepend",
     "outputPrepend",
     "outputPrepend",
     "outputPrepend",
     "outputPrepend",
     "outputPrepend",
     "outputPrepend",
     "outputPrepend",
     "outputPrepend",
     "outputPrepend",
     "outputPrepend",
     "outputPrepend",
     "outputPrepend",
     "outputPrepend",
     "outputPrepend",
     "outputPrepend",
     "outputPrepend",
     "outputPrepend",
     "outputPrepend",
     "outputPrepend",
     "outputPrepend",
     "outputPrepend",
     "outputPrepend",
     "outputPrepend",
     "outputPrepend",
     "outputPrepend",
     "outputPrepend",
     "outputPrepend",
     "outputPrepend",
     "outputPrepend",
     "outputPrepend",
     "outputPrepend",
     "outputPrepend",
     "outputPrepend",
     "outputPrepend",
     "outputPrepend",
     "outputPrepend",
     "outputPrepend",
     "outputPrepend",
     "outputPrepend",
     "outputPrepend",
     "outputPrepend",
     "outputPrepend",
     "outputPrepend",
     "outputPrepend",
     "outputPrepend",
     "outputPrepend",
     "outputPrepend",
     "outputPrepend",
     "outputPrepend",
     "outputPrepend",
     "outputPrepend",
     "outputPrepend",
     "outputPrepend",
     "outputPrepend",
     "outputPrepend",
     "outputPrepend",
     "outputPrepend",
     "outputPrepend",
     "outputPrepend",
     "outputPrepend",
     "outputPrepend",
     "outputPrepend",
     "outputPrepend",
     "outputPrepend",
     "outputPrepend",
     "outputPrepend",
     "outputPrepend",
     "outputPrepend",
     "outputPrepend",
     "outputPrepend",
     "outputPrepend",
     "outputPrepend",
     "outputPrepend",
     "outputPrepend",
     "outputPrepend",
     "outputPrepend",
     "outputPrepend",
     "outputPrepend",
     "outputPrepend",
     "outputPrepend",
     "outputPrepend",
     "outputPrepend",
     "outputPrepend",
     "outputPrepend",
     "outputPrepend",
     "outputPrepend",
     "outputPrepend",
     "outputPrepend",
     "outputPrepend",
     "outputPrepend",
     "outputPrepend",
     "outputPrepend",
     "outputPrepend",
     "outputPrepend",
     "outputPrepend",
     "outputPrepend",
     "outputPrepend",
     "outputPrepend",
     "outputPrepend",
     "outputPrepend",
     "outputPrepend",
     "outputPrepend",
     "outputPrepend",
     "outputPrepend",
     "outputPrepend",
     "outputPrepend",
     "outputPrepend",
     "outputPrepend",
     "outputPrepend",
     "outputPrepend",
     "outputPrepend",
     "outputPrepend",
     "outputPrepend",
     "outputPrepend",
     "outputPrepend",
     "outputPrepend",
     "outputPrepend",
     "outputPrepend",
     "outputPrepend",
     "outputPrepend",
     "outputPrepend",
     "outputPrepend",
     "outputPrepend",
     "outputPrepend",
     "outputPrepend",
     "outputPrepend",
     "outputPrepend",
     "outputPrepend",
     "outputPrepend",
     "outputPrepend",
     "outputPrepend",
     "outputPrepend",
     "outputPrepend",
     "outputPrepend",
     "outputPrepend",
     "outputPrepend",
     "outputPrepend",
     "outputPrepend",
     "outputPrepend",
     "outputPrepend",
     "outputPrepend",
     "outputPrepend",
     "outputPrepend",
     "outputPrepend",
     "outputPrepend",
     "outputPrepend",
     "outputPrepend",
     "outputPrepend",
     "outputPrepend",
     "outputPrepend",
     "outputPrepend",
     "outputPrepend",
     "outputPrepend",
     "outputPrepend",
     "outputPrepend",
     "outputPrepend",
     "outputPrepend",
     "outputPrepend",
     "outputPrepend",
     "outputPrepend",
     "outputPrepend",
     "outputPrepend"
    ]
   },
   "outputs": [
    {
     "output_type": "stream",
     "name": "stdout",
     "text": "1944\n"
    }
   ],
   "source": [
    "win_col = []\n",
    "\n",
    "# loop through df and assign binary var who won\n",
    "for index, row in games_df.iterrows():\n",
    "    # get opponent for game id \n",
    "    game_id = row['GAME_ID']\n",
    "    team_id = row['TEAM_ID']\n",
    "    opponent_row = games_df[(games_df['GAME_ID'] == game_id) & (games_df['TEAM_ID'] != team_id)]\n",
    "    opponent_score = int(opponent_row['PTS'].values[0])\n",
    "\n",
    "    row_score = int(row['PTS'])\n",
    "\n",
    "    # get score of opponent and assign winner \n",
    "    is_winner = 1 if opponent_score < row_score else 0\n",
    "    win_col.append(is_winner)\n",
    "\n",
    "print(len(win_col))\n",
    "\n",
    "games_df[\"IS_WINNER\"] = win_col"
   ]
  },
  {
   "cell_type": "code",
   "execution_count": 8,
   "metadata": {},
   "outputs": [
    {
     "output_type": "execute_result",
     "data": {
      "text/plain": "                           _id        GAME_DATE_EST GAME_SEQUENCE     GAME_ID  \\\n1943  5e8cc2f5fe274128a4fb69e9  2020-02-16T00:00:00             1  0031900001   \n\n         TEAM_ID TEAM_ABBREVIATION TEAM_CITY_NAME TEAM_NAME TEAM_WINS_LOSSES  \\\n1943  1610616834               LBN           Team    LeBron              1-0   \n\n      PTS_QTR1  ...  PTS_OT9  PTS_OT10  PTS  FG_PCT  FT_PCT  FG3_PCT  AST  \\\n1943        53  ...        0         0  157     0.5    0.55    0.343   39   \n\n      REB  TOV  IS_WINNER  \n1943   49   18          1  \n\n[1 rows x 31 columns]",
      "text/html": "<div>\n<style scoped>\n    .dataframe tbody tr th:only-of-type {\n        vertical-align: middle;\n    }\n\n    .dataframe tbody tr th {\n        vertical-align: top;\n    }\n\n    .dataframe thead th {\n        text-align: right;\n    }\n</style>\n<table border=\"1\" class=\"dataframe\">\n  <thead>\n    <tr style=\"text-align: right;\">\n      <th></th>\n      <th>_id</th>\n      <th>GAME_DATE_EST</th>\n      <th>GAME_SEQUENCE</th>\n      <th>GAME_ID</th>\n      <th>TEAM_ID</th>\n      <th>TEAM_ABBREVIATION</th>\n      <th>TEAM_CITY_NAME</th>\n      <th>TEAM_NAME</th>\n      <th>TEAM_WINS_LOSSES</th>\n      <th>PTS_QTR1</th>\n      <th>...</th>\n      <th>PTS_OT9</th>\n      <th>PTS_OT10</th>\n      <th>PTS</th>\n      <th>FG_PCT</th>\n      <th>FT_PCT</th>\n      <th>FG3_PCT</th>\n      <th>AST</th>\n      <th>REB</th>\n      <th>TOV</th>\n      <th>IS_WINNER</th>\n    </tr>\n  </thead>\n  <tbody>\n    <tr>\n      <th>1943</th>\n      <td>5e8cc2f5fe274128a4fb69e9</td>\n      <td>2020-02-16T00:00:00</td>\n      <td>1</td>\n      <td>0031900001</td>\n      <td>1610616834</td>\n      <td>LBN</td>\n      <td>Team</td>\n      <td>LeBron</td>\n      <td>1-0</td>\n      <td>53</td>\n      <td>...</td>\n      <td>0</td>\n      <td>0</td>\n      <td>157</td>\n      <td>0.5</td>\n      <td>0.55</td>\n      <td>0.343</td>\n      <td>39</td>\n      <td>49</td>\n      <td>18</td>\n      <td>1</td>\n    </tr>\n  </tbody>\n</table>\n<p>1 rows × 31 columns</p>\n</div>"
     },
     "metadata": {},
     "execution_count": 8
    }
   ],
   "source": [
    "games_df[(games_df['TEAM_ID'] == \"1610616834\")]"
   ]
  },
  {
   "cell_type": "code",
   "execution_count": 9,
   "metadata": {},
   "outputs": [
    {
     "output_type": "stream",
     "name": "stdout",
     "text": "[{'_id': ObjectId('5e8c6c462371b2dbaa0b49d5'), 'TEAM_CITY_NAME': 'Team', 'GAME_DATE_EST': '2020-02-16T00:00:00', 'PTS_OT10': '0', 'TEAM_ID': '1610616833', 'REB': '61', 'TEAM_NAME': 'Giannis', 'TEAM_WINS_LOSSES': '0-1', 'GAME_SEQUENCE': '1', 'TEAM_ABBREVIATION': 'GNS', 'PTS_OT8': '0', 'PTS_OT9': '0', 'PTS_OT2': '0', 'PTS_OT3': '0', 'PTS_OT1': '0', 'PTS': '155', 'PTS_OT7': '0', 'PTS_OT4': '0', 'PTS_OT5': '0', 'TOV': '21', 'GAME_ID': '0031900001', 'FT_PCT': '0.632', 'PTS_OT6': '0', 'FG_PCT': '0.537', 'AST': '38', 'FG3_PCT': '0.275', 'PTS_QTR3': '41', 'PTS_QTR2': '51', 'PTS_QTR1': '41', 'PTS_QTR4': '22'}]\n"
    }
   ],
   "source": [
    "print(list(gamesDB.games_db.find({\"TEAM_ID\":\"1610616833\"})))"
   ]
  },
  {
   "cell_type": "code",
   "execution_count": 10,
   "metadata": {},
   "outputs": [
    {
     "output_type": "execute_result",
     "data": {
      "text/plain": "          PTS_QTR1     PTS_QTR2     PTS_QTR3     PTS_QTR4      PTS_OT1  \\\ncount  1944.000000  1944.000000  1944.000000  1944.000000  1944.000000   \nmean     27.898663    28.100823    27.697531    27.072016     0.675412   \nstd       6.016149     5.818769     6.118497     6.080770     2.807624   \nmin       9.000000    10.000000    10.000000     6.000000     0.000000   \n25%      24.000000    24.000000    23.000000    23.000000     0.000000   \n50%      28.000000    28.000000    28.000000    27.000000     0.000000   \n75%      32.000000    32.000000    32.000000    31.000000     0.000000   \nmax      53.000000    51.000000    49.000000    51.000000    21.000000   \n\n           PTS_OT2  PTS_OT3  PTS_OT4  PTS_OT5  PTS_OT6  ...  PTS_OT9  \\\ncount  1944.000000   1944.0   1944.0   1944.0   1944.0  ...   1944.0   \nmean      0.047840      0.0      0.0      0.0      0.0  ...      0.0   \nstd       0.695752      0.0      0.0      0.0      0.0  ...      0.0   \nmin       0.000000      0.0      0.0      0.0      0.0  ...      0.0   \n25%       0.000000      0.0      0.0      0.0      0.0  ...      0.0   \n50%       0.000000      0.0      0.0      0.0      0.0  ...      0.0   \n75%       0.000000      0.0      0.0      0.0      0.0  ...      0.0   \nmax      14.000000      0.0      0.0      0.0      0.0  ...      0.0   \n\n       PTS_OT10          PTS       FG_PCT       FT_PCT      FG3_PCT  \\\ncount    1944.0  1944.000000  1944.000000  1944.000000  1944.000000   \nmean        0.0   111.492284     0.460948     0.768782     0.356963   \nstd         0.0    12.485336     0.054985     0.101776     0.085486   \nmin         0.0    73.000000     0.269000     0.375000     0.094000   \n25%         0.0   103.000000     0.422000     0.704000     0.300000   \n50%         0.0   111.000000     0.460000     0.774000     0.357000   \n75%         0.0   120.000000     0.500000     0.839000     0.415000   \nmax         0.0   159.000000     0.674000     1.000000     0.680000   \n\n               AST          REB          TOV    IS_WINNER  \ncount  1944.000000  1944.000000  1944.000000  1944.000000  \nmean     24.361626    44.864712    13.885802     0.500000  \nstd       4.921555     6.736318     4.061205     0.500129  \nmin      11.000000    25.000000     3.000000     0.000000  \n25%      21.000000    40.000000    11.000000     0.000000  \n50%      24.000000    45.000000    14.000000     0.500000  \n75%      28.000000    49.000000    17.000000     1.000000  \nmax      43.000000    67.000000    28.000000     1.000000  \n\n[8 rows x 22 columns]",
      "text/html": "<div>\n<style scoped>\n    .dataframe tbody tr th:only-of-type {\n        vertical-align: middle;\n    }\n\n    .dataframe tbody tr th {\n        vertical-align: top;\n    }\n\n    .dataframe thead th {\n        text-align: right;\n    }\n</style>\n<table border=\"1\" class=\"dataframe\">\n  <thead>\n    <tr style=\"text-align: right;\">\n      <th></th>\n      <th>PTS_QTR1</th>\n      <th>PTS_QTR2</th>\n      <th>PTS_QTR3</th>\n      <th>PTS_QTR4</th>\n      <th>PTS_OT1</th>\n      <th>PTS_OT2</th>\n      <th>PTS_OT3</th>\n      <th>PTS_OT4</th>\n      <th>PTS_OT5</th>\n      <th>PTS_OT6</th>\n      <th>...</th>\n      <th>PTS_OT9</th>\n      <th>PTS_OT10</th>\n      <th>PTS</th>\n      <th>FG_PCT</th>\n      <th>FT_PCT</th>\n      <th>FG3_PCT</th>\n      <th>AST</th>\n      <th>REB</th>\n      <th>TOV</th>\n      <th>IS_WINNER</th>\n    </tr>\n  </thead>\n  <tbody>\n    <tr>\n      <th>count</th>\n      <td>1944.000000</td>\n      <td>1944.000000</td>\n      <td>1944.000000</td>\n      <td>1944.000000</td>\n      <td>1944.000000</td>\n      <td>1944.000000</td>\n      <td>1944.0</td>\n      <td>1944.0</td>\n      <td>1944.0</td>\n      <td>1944.0</td>\n      <td>...</td>\n      <td>1944.0</td>\n      <td>1944.0</td>\n      <td>1944.000000</td>\n      <td>1944.000000</td>\n      <td>1944.000000</td>\n      <td>1944.000000</td>\n      <td>1944.000000</td>\n      <td>1944.000000</td>\n      <td>1944.000000</td>\n      <td>1944.000000</td>\n    </tr>\n    <tr>\n      <th>mean</th>\n      <td>27.898663</td>\n      <td>28.100823</td>\n      <td>27.697531</td>\n      <td>27.072016</td>\n      <td>0.675412</td>\n      <td>0.047840</td>\n      <td>0.0</td>\n      <td>0.0</td>\n      <td>0.0</td>\n      <td>0.0</td>\n      <td>...</td>\n      <td>0.0</td>\n      <td>0.0</td>\n      <td>111.492284</td>\n      <td>0.460948</td>\n      <td>0.768782</td>\n      <td>0.356963</td>\n      <td>24.361626</td>\n      <td>44.864712</td>\n      <td>13.885802</td>\n      <td>0.500000</td>\n    </tr>\n    <tr>\n      <th>std</th>\n      <td>6.016149</td>\n      <td>5.818769</td>\n      <td>6.118497</td>\n      <td>6.080770</td>\n      <td>2.807624</td>\n      <td>0.695752</td>\n      <td>0.0</td>\n      <td>0.0</td>\n      <td>0.0</td>\n      <td>0.0</td>\n      <td>...</td>\n      <td>0.0</td>\n      <td>0.0</td>\n      <td>12.485336</td>\n      <td>0.054985</td>\n      <td>0.101776</td>\n      <td>0.085486</td>\n      <td>4.921555</td>\n      <td>6.736318</td>\n      <td>4.061205</td>\n      <td>0.500129</td>\n    </tr>\n    <tr>\n      <th>min</th>\n      <td>9.000000</td>\n      <td>10.000000</td>\n      <td>10.000000</td>\n      <td>6.000000</td>\n      <td>0.000000</td>\n      <td>0.000000</td>\n      <td>0.0</td>\n      <td>0.0</td>\n      <td>0.0</td>\n      <td>0.0</td>\n      <td>...</td>\n      <td>0.0</td>\n      <td>0.0</td>\n      <td>73.000000</td>\n      <td>0.269000</td>\n      <td>0.375000</td>\n      <td>0.094000</td>\n      <td>11.000000</td>\n      <td>25.000000</td>\n      <td>3.000000</td>\n      <td>0.000000</td>\n    </tr>\n    <tr>\n      <th>25%</th>\n      <td>24.000000</td>\n      <td>24.000000</td>\n      <td>23.000000</td>\n      <td>23.000000</td>\n      <td>0.000000</td>\n      <td>0.000000</td>\n      <td>0.0</td>\n      <td>0.0</td>\n      <td>0.0</td>\n      <td>0.0</td>\n      <td>...</td>\n      <td>0.0</td>\n      <td>0.0</td>\n      <td>103.000000</td>\n      <td>0.422000</td>\n      <td>0.704000</td>\n      <td>0.300000</td>\n      <td>21.000000</td>\n      <td>40.000000</td>\n      <td>11.000000</td>\n      <td>0.000000</td>\n    </tr>\n    <tr>\n      <th>50%</th>\n      <td>28.000000</td>\n      <td>28.000000</td>\n      <td>28.000000</td>\n      <td>27.000000</td>\n      <td>0.000000</td>\n      <td>0.000000</td>\n      <td>0.0</td>\n      <td>0.0</td>\n      <td>0.0</td>\n      <td>0.0</td>\n      <td>...</td>\n      <td>0.0</td>\n      <td>0.0</td>\n      <td>111.000000</td>\n      <td>0.460000</td>\n      <td>0.774000</td>\n      <td>0.357000</td>\n      <td>24.000000</td>\n      <td>45.000000</td>\n      <td>14.000000</td>\n      <td>0.500000</td>\n    </tr>\n    <tr>\n      <th>75%</th>\n      <td>32.000000</td>\n      <td>32.000000</td>\n      <td>32.000000</td>\n      <td>31.000000</td>\n      <td>0.000000</td>\n      <td>0.000000</td>\n      <td>0.0</td>\n      <td>0.0</td>\n      <td>0.0</td>\n      <td>0.0</td>\n      <td>...</td>\n      <td>0.0</td>\n      <td>0.0</td>\n      <td>120.000000</td>\n      <td>0.500000</td>\n      <td>0.839000</td>\n      <td>0.415000</td>\n      <td>28.000000</td>\n      <td>49.000000</td>\n      <td>17.000000</td>\n      <td>1.000000</td>\n    </tr>\n    <tr>\n      <th>max</th>\n      <td>53.000000</td>\n      <td>51.000000</td>\n      <td>49.000000</td>\n      <td>51.000000</td>\n      <td>21.000000</td>\n      <td>14.000000</td>\n      <td>0.0</td>\n      <td>0.0</td>\n      <td>0.0</td>\n      <td>0.0</td>\n      <td>...</td>\n      <td>0.0</td>\n      <td>0.0</td>\n      <td>159.000000</td>\n      <td>0.674000</td>\n      <td>1.000000</td>\n      <td>0.680000</td>\n      <td>43.000000</td>\n      <td>67.000000</td>\n      <td>28.000000</td>\n      <td>1.000000</td>\n    </tr>\n  </tbody>\n</table>\n<p>8 rows × 22 columns</p>\n</div>"
     },
     "metadata": {},
     "execution_count": 10
    }
   ],
   "source": [
    "games_df.describe()"
   ]
  },
  {
   "cell_type": "code",
   "execution_count": 11,
   "metadata": {},
   "outputs": [
    {
     "output_type": "execute_result",
     "data": {
      "text/plain": "                        _id        GAME_DATE_EST GAME_SEQUENCE     GAME_ID  \\\n0  5e8b3c9055dca7119bcd0e8f  2019-10-22T00:00:00             1  0021900001   \n1  5e8b3c9055dca7119bcd0e91  2019-10-22T00:00:00             1  0021900001   \n2  5e8b3c9055dca7119bcd0e93  2019-10-22T00:00:00             2  0021900002   \n3  5e8b3c9055dca7119bcd0e95  2019-10-22T00:00:00             2  0021900002   \n4  5e8b3c9155dca7119bcd0e97  2019-10-23T00:00:00             1  0021900003   \n\n      TEAM_ID TEAM_ABBREVIATION TEAM_CITY_NAME TEAM_NAME TEAM_WINS_LOSSES  \\\n0  1610612740               NOP    New Orleans  Pelicans              0-1   \n1  1610612761               TOR        Toronto   Raptors              1-0   \n2  1610612747               LAL    Los Angeles    Lakers              0-1   \n3  1610612746               LAC             LA  Clippers              1-0   \n4  1610612741               CHI        Chicago     Bulls              0-1   \n\n   PTS_QTR1  ...  PTS_OT9  PTS_OT10  PTS  FG_PCT  FT_PCT  FG3_PCT  AST  REB  \\\n0        30  ...        0         0  122   0.422   0.850    0.422   30   53   \n1        27  ...        0         0  130   0.408   0.842    0.350   23   57   \n2        25  ...        0         0  102   0.435   0.714    0.394   20   41   \n3        22  ...        0         0  112   0.519   0.708    0.355   24   45   \n4        28  ...        0         0  125   0.467   0.818    0.300   25   49   \n\n   TOV  IS_WINNER  \n0   19          0  \n1   16          1  \n2   14          0  \n3   14          1  \n4   10          0  \n\n[5 rows x 31 columns]",
      "text/html": "<div>\n<style scoped>\n    .dataframe tbody tr th:only-of-type {\n        vertical-align: middle;\n    }\n\n    .dataframe tbody tr th {\n        vertical-align: top;\n    }\n\n    .dataframe thead th {\n        text-align: right;\n    }\n</style>\n<table border=\"1\" class=\"dataframe\">\n  <thead>\n    <tr style=\"text-align: right;\">\n      <th></th>\n      <th>_id</th>\n      <th>GAME_DATE_EST</th>\n      <th>GAME_SEQUENCE</th>\n      <th>GAME_ID</th>\n      <th>TEAM_ID</th>\n      <th>TEAM_ABBREVIATION</th>\n      <th>TEAM_CITY_NAME</th>\n      <th>TEAM_NAME</th>\n      <th>TEAM_WINS_LOSSES</th>\n      <th>PTS_QTR1</th>\n      <th>...</th>\n      <th>PTS_OT9</th>\n      <th>PTS_OT10</th>\n      <th>PTS</th>\n      <th>FG_PCT</th>\n      <th>FT_PCT</th>\n      <th>FG3_PCT</th>\n      <th>AST</th>\n      <th>REB</th>\n      <th>TOV</th>\n      <th>IS_WINNER</th>\n    </tr>\n  </thead>\n  <tbody>\n    <tr>\n      <th>0</th>\n      <td>5e8b3c9055dca7119bcd0e8f</td>\n      <td>2019-10-22T00:00:00</td>\n      <td>1</td>\n      <td>0021900001</td>\n      <td>1610612740</td>\n      <td>NOP</td>\n      <td>New Orleans</td>\n      <td>Pelicans</td>\n      <td>0-1</td>\n      <td>30</td>\n      <td>...</td>\n      <td>0</td>\n      <td>0</td>\n      <td>122</td>\n      <td>0.422</td>\n      <td>0.850</td>\n      <td>0.422</td>\n      <td>30</td>\n      <td>53</td>\n      <td>19</td>\n      <td>0</td>\n    </tr>\n    <tr>\n      <th>1</th>\n      <td>5e8b3c9055dca7119bcd0e91</td>\n      <td>2019-10-22T00:00:00</td>\n      <td>1</td>\n      <td>0021900001</td>\n      <td>1610612761</td>\n      <td>TOR</td>\n      <td>Toronto</td>\n      <td>Raptors</td>\n      <td>1-0</td>\n      <td>27</td>\n      <td>...</td>\n      <td>0</td>\n      <td>0</td>\n      <td>130</td>\n      <td>0.408</td>\n      <td>0.842</td>\n      <td>0.350</td>\n      <td>23</td>\n      <td>57</td>\n      <td>16</td>\n      <td>1</td>\n    </tr>\n    <tr>\n      <th>2</th>\n      <td>5e8b3c9055dca7119bcd0e93</td>\n      <td>2019-10-22T00:00:00</td>\n      <td>2</td>\n      <td>0021900002</td>\n      <td>1610612747</td>\n      <td>LAL</td>\n      <td>Los Angeles</td>\n      <td>Lakers</td>\n      <td>0-1</td>\n      <td>25</td>\n      <td>...</td>\n      <td>0</td>\n      <td>0</td>\n      <td>102</td>\n      <td>0.435</td>\n      <td>0.714</td>\n      <td>0.394</td>\n      <td>20</td>\n      <td>41</td>\n      <td>14</td>\n      <td>0</td>\n    </tr>\n    <tr>\n      <th>3</th>\n      <td>5e8b3c9055dca7119bcd0e95</td>\n      <td>2019-10-22T00:00:00</td>\n      <td>2</td>\n      <td>0021900002</td>\n      <td>1610612746</td>\n      <td>LAC</td>\n      <td>LA</td>\n      <td>Clippers</td>\n      <td>1-0</td>\n      <td>22</td>\n      <td>...</td>\n      <td>0</td>\n      <td>0</td>\n      <td>112</td>\n      <td>0.519</td>\n      <td>0.708</td>\n      <td>0.355</td>\n      <td>24</td>\n      <td>45</td>\n      <td>14</td>\n      <td>1</td>\n    </tr>\n    <tr>\n      <th>4</th>\n      <td>5e8b3c9155dca7119bcd0e97</td>\n      <td>2019-10-23T00:00:00</td>\n      <td>1</td>\n      <td>0021900003</td>\n      <td>1610612741</td>\n      <td>CHI</td>\n      <td>Chicago</td>\n      <td>Bulls</td>\n      <td>0-1</td>\n      <td>28</td>\n      <td>...</td>\n      <td>0</td>\n      <td>0</td>\n      <td>125</td>\n      <td>0.467</td>\n      <td>0.818</td>\n      <td>0.300</td>\n      <td>25</td>\n      <td>49</td>\n      <td>10</td>\n      <td>0</td>\n    </tr>\n  </tbody>\n</table>\n<p>5 rows × 31 columns</p>\n</div>"
     },
     "metadata": {},
     "execution_count": 11
    }
   ],
   "source": [
    "games_df.head()"
   ]
  },
  {
   "cell_type": "markdown",
   "metadata": {},
   "source": [
    "## Exploratory Data Analysis"
   ]
  },
  {
   "cell_type": "code",
   "execution_count": 12,
   "metadata": {},
   "outputs": [
    {
     "output_type": "execute_result",
     "data": {
      "text/plain": "          PTS_QTR1     PTS_QTR2     PTS_QTR3     PTS_QTR4      PTS_OT1  \\\ncount  1944.000000  1944.000000  1944.000000  1944.000000  1944.000000   \nmean     27.898663    28.100823    27.697531    27.072016     0.675412   \nstd       6.016149     5.818769     6.118497     6.080770     2.807624   \nmin       9.000000    10.000000    10.000000     6.000000     0.000000   \n25%      24.000000    24.000000    23.000000    23.000000     0.000000   \n50%      28.000000    28.000000    28.000000    27.000000     0.000000   \n75%      32.000000    32.000000    32.000000    31.000000     0.000000   \nmax      53.000000    51.000000    49.000000    51.000000    21.000000   \n\n           PTS_OT2  PTS_OT3  PTS_OT4  PTS_OT5  PTS_OT6  ...  PTS_OT9  \\\ncount  1944.000000   1944.0   1944.0   1944.0   1944.0  ...   1944.0   \nmean      0.047840      0.0      0.0      0.0      0.0  ...      0.0   \nstd       0.695752      0.0      0.0      0.0      0.0  ...      0.0   \nmin       0.000000      0.0      0.0      0.0      0.0  ...      0.0   \n25%       0.000000      0.0      0.0      0.0      0.0  ...      0.0   \n50%       0.000000      0.0      0.0      0.0      0.0  ...      0.0   \n75%       0.000000      0.0      0.0      0.0      0.0  ...      0.0   \nmax      14.000000      0.0      0.0      0.0      0.0  ...      0.0   \n\n       PTS_OT10          PTS       FG_PCT       FT_PCT      FG3_PCT  \\\ncount    1944.0  1944.000000  1944.000000  1944.000000  1944.000000   \nmean        0.0   111.492284     0.460948     0.768782     0.356963   \nstd         0.0    12.485336     0.054985     0.101776     0.085486   \nmin         0.0    73.000000     0.269000     0.375000     0.094000   \n25%         0.0   103.000000     0.422000     0.704000     0.300000   \n50%         0.0   111.000000     0.460000     0.774000     0.357000   \n75%         0.0   120.000000     0.500000     0.839000     0.415000   \nmax         0.0   159.000000     0.674000     1.000000     0.680000   \n\n               AST          REB          TOV    IS_WINNER  \ncount  1944.000000  1944.000000  1944.000000  1944.000000  \nmean     24.361626    44.864712    13.885802     0.500000  \nstd       4.921555     6.736318     4.061205     0.500129  \nmin      11.000000    25.000000     3.000000     0.000000  \n25%      21.000000    40.000000    11.000000     0.000000  \n50%      24.000000    45.000000    14.000000     0.500000  \n75%      28.000000    49.000000    17.000000     1.000000  \nmax      43.000000    67.000000    28.000000     1.000000  \n\n[8 rows x 22 columns]",
      "text/html": "<div>\n<style scoped>\n    .dataframe tbody tr th:only-of-type {\n        vertical-align: middle;\n    }\n\n    .dataframe tbody tr th {\n        vertical-align: top;\n    }\n\n    .dataframe thead th {\n        text-align: right;\n    }\n</style>\n<table border=\"1\" class=\"dataframe\">\n  <thead>\n    <tr style=\"text-align: right;\">\n      <th></th>\n      <th>PTS_QTR1</th>\n      <th>PTS_QTR2</th>\n      <th>PTS_QTR3</th>\n      <th>PTS_QTR4</th>\n      <th>PTS_OT1</th>\n      <th>PTS_OT2</th>\n      <th>PTS_OT3</th>\n      <th>PTS_OT4</th>\n      <th>PTS_OT5</th>\n      <th>PTS_OT6</th>\n      <th>...</th>\n      <th>PTS_OT9</th>\n      <th>PTS_OT10</th>\n      <th>PTS</th>\n      <th>FG_PCT</th>\n      <th>FT_PCT</th>\n      <th>FG3_PCT</th>\n      <th>AST</th>\n      <th>REB</th>\n      <th>TOV</th>\n      <th>IS_WINNER</th>\n    </tr>\n  </thead>\n  <tbody>\n    <tr>\n      <th>count</th>\n      <td>1944.000000</td>\n      <td>1944.000000</td>\n      <td>1944.000000</td>\n      <td>1944.000000</td>\n      <td>1944.000000</td>\n      <td>1944.000000</td>\n      <td>1944.0</td>\n      <td>1944.0</td>\n      <td>1944.0</td>\n      <td>1944.0</td>\n      <td>...</td>\n      <td>1944.0</td>\n      <td>1944.0</td>\n      <td>1944.000000</td>\n      <td>1944.000000</td>\n      <td>1944.000000</td>\n      <td>1944.000000</td>\n      <td>1944.000000</td>\n      <td>1944.000000</td>\n      <td>1944.000000</td>\n      <td>1944.000000</td>\n    </tr>\n    <tr>\n      <th>mean</th>\n      <td>27.898663</td>\n      <td>28.100823</td>\n      <td>27.697531</td>\n      <td>27.072016</td>\n      <td>0.675412</td>\n      <td>0.047840</td>\n      <td>0.0</td>\n      <td>0.0</td>\n      <td>0.0</td>\n      <td>0.0</td>\n      <td>...</td>\n      <td>0.0</td>\n      <td>0.0</td>\n      <td>111.492284</td>\n      <td>0.460948</td>\n      <td>0.768782</td>\n      <td>0.356963</td>\n      <td>24.361626</td>\n      <td>44.864712</td>\n      <td>13.885802</td>\n      <td>0.500000</td>\n    </tr>\n    <tr>\n      <th>std</th>\n      <td>6.016149</td>\n      <td>5.818769</td>\n      <td>6.118497</td>\n      <td>6.080770</td>\n      <td>2.807624</td>\n      <td>0.695752</td>\n      <td>0.0</td>\n      <td>0.0</td>\n      <td>0.0</td>\n      <td>0.0</td>\n      <td>...</td>\n      <td>0.0</td>\n      <td>0.0</td>\n      <td>12.485336</td>\n      <td>0.054985</td>\n      <td>0.101776</td>\n      <td>0.085486</td>\n      <td>4.921555</td>\n      <td>6.736318</td>\n      <td>4.061205</td>\n      <td>0.500129</td>\n    </tr>\n    <tr>\n      <th>min</th>\n      <td>9.000000</td>\n      <td>10.000000</td>\n      <td>10.000000</td>\n      <td>6.000000</td>\n      <td>0.000000</td>\n      <td>0.000000</td>\n      <td>0.0</td>\n      <td>0.0</td>\n      <td>0.0</td>\n      <td>0.0</td>\n      <td>...</td>\n      <td>0.0</td>\n      <td>0.0</td>\n      <td>73.000000</td>\n      <td>0.269000</td>\n      <td>0.375000</td>\n      <td>0.094000</td>\n      <td>11.000000</td>\n      <td>25.000000</td>\n      <td>3.000000</td>\n      <td>0.000000</td>\n    </tr>\n    <tr>\n      <th>25%</th>\n      <td>24.000000</td>\n      <td>24.000000</td>\n      <td>23.000000</td>\n      <td>23.000000</td>\n      <td>0.000000</td>\n      <td>0.000000</td>\n      <td>0.0</td>\n      <td>0.0</td>\n      <td>0.0</td>\n      <td>0.0</td>\n      <td>...</td>\n      <td>0.0</td>\n      <td>0.0</td>\n      <td>103.000000</td>\n      <td>0.422000</td>\n      <td>0.704000</td>\n      <td>0.300000</td>\n      <td>21.000000</td>\n      <td>40.000000</td>\n      <td>11.000000</td>\n      <td>0.000000</td>\n    </tr>\n    <tr>\n      <th>50%</th>\n      <td>28.000000</td>\n      <td>28.000000</td>\n      <td>28.000000</td>\n      <td>27.000000</td>\n      <td>0.000000</td>\n      <td>0.000000</td>\n      <td>0.0</td>\n      <td>0.0</td>\n      <td>0.0</td>\n      <td>0.0</td>\n      <td>...</td>\n      <td>0.0</td>\n      <td>0.0</td>\n      <td>111.000000</td>\n      <td>0.460000</td>\n      <td>0.774000</td>\n      <td>0.357000</td>\n      <td>24.000000</td>\n      <td>45.000000</td>\n      <td>14.000000</td>\n      <td>0.500000</td>\n    </tr>\n    <tr>\n      <th>75%</th>\n      <td>32.000000</td>\n      <td>32.000000</td>\n      <td>32.000000</td>\n      <td>31.000000</td>\n      <td>0.000000</td>\n      <td>0.000000</td>\n      <td>0.0</td>\n      <td>0.0</td>\n      <td>0.0</td>\n      <td>0.0</td>\n      <td>...</td>\n      <td>0.0</td>\n      <td>0.0</td>\n      <td>120.000000</td>\n      <td>0.500000</td>\n      <td>0.839000</td>\n      <td>0.415000</td>\n      <td>28.000000</td>\n      <td>49.000000</td>\n      <td>17.000000</td>\n      <td>1.000000</td>\n    </tr>\n    <tr>\n      <th>max</th>\n      <td>53.000000</td>\n      <td>51.000000</td>\n      <td>49.000000</td>\n      <td>51.000000</td>\n      <td>21.000000</td>\n      <td>14.000000</td>\n      <td>0.0</td>\n      <td>0.0</td>\n      <td>0.0</td>\n      <td>0.0</td>\n      <td>...</td>\n      <td>0.0</td>\n      <td>0.0</td>\n      <td>159.000000</td>\n      <td>0.674000</td>\n      <td>1.000000</td>\n      <td>0.680000</td>\n      <td>43.000000</td>\n      <td>67.000000</td>\n      <td>28.000000</td>\n      <td>1.000000</td>\n    </tr>\n  </tbody>\n</table>\n<p>8 rows × 22 columns</p>\n</div>"
     },
     "metadata": {},
     "execution_count": 12
    }
   ],
   "source": [
    "games_df.describe()"
   ]
  },
  {
   "cell_type": "code",
   "execution_count": 13,
   "metadata": {},
   "outputs": [
    {
     "output_type": "execute_result",
     "data": {
      "text/plain": "1    972\n0    972\nName: IS_WINNER, dtype: int64"
     },
     "metadata": {},
     "execution_count": 13
    }
   ],
   "source": [
    "games_df['IS_WINNER'].value_counts()"
   ]
  },
  {
   "cell_type": "code",
   "execution_count": 14,
   "metadata": {},
   "outputs": [
    {
     "output_type": "execute_result",
     "data": {
      "text/plain": "            PTS_QTR1   PTS_QTR2   PTS_QTR3   PTS_QTR4   PTS_OT1   PTS_OT2  \\\nIS_WINNER                                                                   \n0          26.385802  26.816872  26.220165  25.750000  0.530864  0.037037   \n1          29.411523  29.384774  29.174897  28.394033  0.819959  0.058642   \n\n           PTS_OT3  PTS_OT4  PTS_OT5  PTS_OT6  ...  PTS_OT8  PTS_OT9  \\\nIS_WINNER                                      ...                     \n0              0.0      0.0      0.0      0.0  ...      0.0      0.0   \n1              0.0      0.0      0.0      0.0  ...      0.0      0.0   \n\n           PTS_OT10         PTS    FG_PCT    FT_PCT   FG3_PCT        AST  \\\nIS_WINNER                                                                  \n0               0.0  105.740741  0.435853  0.759907  0.328004  23.109053   \n1               0.0  117.243827  0.486042  0.777656  0.385922  25.614198   \n\n                 REB        TOV  \nIS_WINNER                        \n0          42.662551  14.091564  \n1          47.066872  13.680041  \n\n[2 rows x 21 columns]",
      "text/html": "<div>\n<style scoped>\n    .dataframe tbody tr th:only-of-type {\n        vertical-align: middle;\n    }\n\n    .dataframe tbody tr th {\n        vertical-align: top;\n    }\n\n    .dataframe thead th {\n        text-align: right;\n    }\n</style>\n<table border=\"1\" class=\"dataframe\">\n  <thead>\n    <tr style=\"text-align: right;\">\n      <th></th>\n      <th>PTS_QTR1</th>\n      <th>PTS_QTR2</th>\n      <th>PTS_QTR3</th>\n      <th>PTS_QTR4</th>\n      <th>PTS_OT1</th>\n      <th>PTS_OT2</th>\n      <th>PTS_OT3</th>\n      <th>PTS_OT4</th>\n      <th>PTS_OT5</th>\n      <th>PTS_OT6</th>\n      <th>...</th>\n      <th>PTS_OT8</th>\n      <th>PTS_OT9</th>\n      <th>PTS_OT10</th>\n      <th>PTS</th>\n      <th>FG_PCT</th>\n      <th>FT_PCT</th>\n      <th>FG3_PCT</th>\n      <th>AST</th>\n      <th>REB</th>\n      <th>TOV</th>\n    </tr>\n    <tr>\n      <th>IS_WINNER</th>\n      <th></th>\n      <th></th>\n      <th></th>\n      <th></th>\n      <th></th>\n      <th></th>\n      <th></th>\n      <th></th>\n      <th></th>\n      <th></th>\n      <th></th>\n      <th></th>\n      <th></th>\n      <th></th>\n      <th></th>\n      <th></th>\n      <th></th>\n      <th></th>\n      <th></th>\n      <th></th>\n      <th></th>\n    </tr>\n  </thead>\n  <tbody>\n    <tr>\n      <th>0</th>\n      <td>26.385802</td>\n      <td>26.816872</td>\n      <td>26.220165</td>\n      <td>25.750000</td>\n      <td>0.530864</td>\n      <td>0.037037</td>\n      <td>0.0</td>\n      <td>0.0</td>\n      <td>0.0</td>\n      <td>0.0</td>\n      <td>...</td>\n      <td>0.0</td>\n      <td>0.0</td>\n      <td>0.0</td>\n      <td>105.740741</td>\n      <td>0.435853</td>\n      <td>0.759907</td>\n      <td>0.328004</td>\n      <td>23.109053</td>\n      <td>42.662551</td>\n      <td>14.091564</td>\n    </tr>\n    <tr>\n      <th>1</th>\n      <td>29.411523</td>\n      <td>29.384774</td>\n      <td>29.174897</td>\n      <td>28.394033</td>\n      <td>0.819959</td>\n      <td>0.058642</td>\n      <td>0.0</td>\n      <td>0.0</td>\n      <td>0.0</td>\n      <td>0.0</td>\n      <td>...</td>\n      <td>0.0</td>\n      <td>0.0</td>\n      <td>0.0</td>\n      <td>117.243827</td>\n      <td>0.486042</td>\n      <td>0.777656</td>\n      <td>0.385922</td>\n      <td>25.614198</td>\n      <td>47.066872</td>\n      <td>13.680041</td>\n    </tr>\n  </tbody>\n</table>\n<p>2 rows × 21 columns</p>\n</div>"
     },
     "metadata": {},
     "execution_count": 14
    }
   ],
   "source": [
    "games_df.groupby('IS_WINNER').mean()"
   ]
  },
  {
   "cell_type": "code",
   "execution_count": 15,
   "metadata": {},
   "outputs": [
    {
     "output_type": "stream",
     "name": "stdout",
     "text": "_id                   object\nGAME_DATE_EST         object\nGAME_SEQUENCE         object\nGAME_ID               object\nTEAM_ID               object\nTEAM_ABBREVIATION     object\nTEAM_CITY_NAME        object\nTEAM_NAME             object\nTEAM_WINS_LOSSES      object\nPTS_QTR1               int64\nPTS_QTR2               int64\nPTS_QTR3               int64\nPTS_QTR4               int64\nPTS_OT1                int64\nPTS_OT2                int64\nPTS_OT3                int64\nPTS_OT4                int64\nPTS_OT5                int64\nPTS_OT6                int64\nPTS_OT7                int64\nPTS_OT8                int64\nPTS_OT9                int64\nPTS_OT10               int64\nPTS                    int64\nFG_PCT               float64\nFT_PCT               float64\nFG3_PCT              float64\nAST                    int64\nREB                    int64\nTOV                    int64\nIS_WINNER              int64\ndtype: object\n"
    }
   ],
   "source": [
    "print(games_df.dtypes)"
   ]
  },
  {
   "cell_type": "markdown",
   "metadata": {},
   "source": [
    "### Feature Engineering"
   ]
  },
  {
   "cell_type": "code",
   "execution_count": 24,
   "metadata": {},
   "outputs": [],
   "source": [
    "# create unique list of team ids\n",
    "unique_team_ids = games_df['TEAM_ID'].unique()\n",
    "\n",
    "# create a data frame dictionary to store data frames by team_id\n",
    "games_by_team = {elem : pd.DataFrame for elem in unique_team_ids}\n",
    "\n",
    "for key in games_by_team.keys():\n",
    "    games_by_team[key] = games_df[:][games_df['TEAM_ID'] == key]"
   ]
  },
  {
   "cell_type": "code",
   "execution_count": 26,
   "metadata": {},
   "outputs": [
    {
     "output_type": "execute_result",
     "data": {
      "text/plain": "                           _id        GAME_DATE_EST GAME_SEQUENCE     GAME_ID  \\\n24    5e8b3c9155dca7119bcd0ebf  2019-10-23T00:00:00            11  0021900013   \n45    5e8b3c9455dca7119bcd0ee9  2019-10-25T00:00:00             7  0021900023   \n98    5e8b3c9855dca7119bcd0f53  2019-10-28T00:00:00            10  0021900050   \n105   5e8b3c9955dca7119bcd0f61  2019-10-29T00:00:00             2  0021900053   \n132   5e8b3c9c55dca7119bcd0f98  2019-10-31T00:00:00             2  0021900067   \n...                        ...                  ...           ...         ...   \n1824  5e8c6c5c2371b2dbaa0b4b52  2020-03-03T00:00:00             5  0021900913   \n1849  5e8c6c5f2371b2dbaa0b4b86  2020-03-05T00:00:00             1  0021900926   \n1881  5e8c6c602371b2dbaa0b4bc6  2020-03-07T00:00:00             3  0021900942   \n1914  5e8c6c642371b2dbaa0b4c08  2020-03-09T00:00:00             2  0021900958   \n1941  5e8c6c652371b2dbaa0b4c46  2020-03-11T00:00:00             6  0021900973   \n\n         TEAM_ID TEAM_ABBREVIATION TEAM_CITY_NAME TEAM_NAME TEAM_WINS_LOSSES  \\\n24    1610612743               DEN         Denver   Nuggets              1-0   \n45    1610612743               DEN         Denver   Nuggets              2-0   \n98    1610612743               DEN         Denver   Nuggets              3-0   \n105   1610612743               DEN         Denver   Nuggets              3-1   \n132   1610612743               DEN         Denver   Nuggets              3-2   \n...          ...               ...            ...       ...              ...   \n1824  1610612743               DEN         Denver   Nuggets            41-20   \n1849  1610612743               DEN         Denver   Nuggets            42-20   \n1881  1610612743               DEN         Denver   Nuggets            42-21   \n1914  1610612743               DEN         Denver   Nuggets            43-21   \n1941  1610612743               DEN         Denver   Nuggets            43-22   \n\n      PTS_QTR1  ...  PTS_OT9  PTS_OT10  PTS  FG_PCT  FT_PCT  FG3_PCT  AST  \\\n24          24  ...        0         0  108   0.420   0.815    0.563   24   \n45          15  ...        0         0  108   0.391   0.806    0.259   21   \n98          21  ...        0         0  101   0.367   0.905    0.278   19   \n105         31  ...        0         0  106   0.473   0.692    0.344   24   \n132         30  ...        0         0  107   0.483   0.875    0.269   24   \n...        ...  ...      ...       ...  ...     ...     ...      ...  ...   \n1824        25  ...        0         0  100   0.448   0.731    0.150   22   \n1849        31  ...        0         0  114   0.530   0.900    0.308   29   \n1881        33  ...        0         0  102   0.506   0.375    0.406   28   \n1914        39  ...        0         0  109   0.436   0.917    0.390   28   \n1941        29  ...        0         0   97   0.470   0.625    0.359   23   \n\n      REB  TOV  IS_WINNER  \n24     45   19          1  \n45     45   14          1  \n98     54   10          1  \n105    50   10          0  \n132    35   14          0  \n...   ...  ...        ...  \n1824   53   15          0  \n1849   38   12          1  \n1881   33   17          0  \n1914   48   12          1  \n1941   40   15          0  \n\n[65 rows x 31 columns]",
      "text/html": "<div>\n<style scoped>\n    .dataframe tbody tr th:only-of-type {\n        vertical-align: middle;\n    }\n\n    .dataframe tbody tr th {\n        vertical-align: top;\n    }\n\n    .dataframe thead th {\n        text-align: right;\n    }\n</style>\n<table border=\"1\" class=\"dataframe\">\n  <thead>\n    <tr style=\"text-align: right;\">\n      <th></th>\n      <th>_id</th>\n      <th>GAME_DATE_EST</th>\n      <th>GAME_SEQUENCE</th>\n      <th>GAME_ID</th>\n      <th>TEAM_ID</th>\n      <th>TEAM_ABBREVIATION</th>\n      <th>TEAM_CITY_NAME</th>\n      <th>TEAM_NAME</th>\n      <th>TEAM_WINS_LOSSES</th>\n      <th>PTS_QTR1</th>\n      <th>...</th>\n      <th>PTS_OT9</th>\n      <th>PTS_OT10</th>\n      <th>PTS</th>\n      <th>FG_PCT</th>\n      <th>FT_PCT</th>\n      <th>FG3_PCT</th>\n      <th>AST</th>\n      <th>REB</th>\n      <th>TOV</th>\n      <th>IS_WINNER</th>\n    </tr>\n  </thead>\n  <tbody>\n    <tr>\n      <th>24</th>\n      <td>5e8b3c9155dca7119bcd0ebf</td>\n      <td>2019-10-23T00:00:00</td>\n      <td>11</td>\n      <td>0021900013</td>\n      <td>1610612743</td>\n      <td>DEN</td>\n      <td>Denver</td>\n      <td>Nuggets</td>\n      <td>1-0</td>\n      <td>24</td>\n      <td>...</td>\n      <td>0</td>\n      <td>0</td>\n      <td>108</td>\n      <td>0.420</td>\n      <td>0.815</td>\n      <td>0.563</td>\n      <td>24</td>\n      <td>45</td>\n      <td>19</td>\n      <td>1</td>\n    </tr>\n    <tr>\n      <th>45</th>\n      <td>5e8b3c9455dca7119bcd0ee9</td>\n      <td>2019-10-25T00:00:00</td>\n      <td>7</td>\n      <td>0021900023</td>\n      <td>1610612743</td>\n      <td>DEN</td>\n      <td>Denver</td>\n      <td>Nuggets</td>\n      <td>2-0</td>\n      <td>15</td>\n      <td>...</td>\n      <td>0</td>\n      <td>0</td>\n      <td>108</td>\n      <td>0.391</td>\n      <td>0.806</td>\n      <td>0.259</td>\n      <td>21</td>\n      <td>45</td>\n      <td>14</td>\n      <td>1</td>\n    </tr>\n    <tr>\n      <th>98</th>\n      <td>5e8b3c9855dca7119bcd0f53</td>\n      <td>2019-10-28T00:00:00</td>\n      <td>10</td>\n      <td>0021900050</td>\n      <td>1610612743</td>\n      <td>DEN</td>\n      <td>Denver</td>\n      <td>Nuggets</td>\n      <td>3-0</td>\n      <td>21</td>\n      <td>...</td>\n      <td>0</td>\n      <td>0</td>\n      <td>101</td>\n      <td>0.367</td>\n      <td>0.905</td>\n      <td>0.278</td>\n      <td>19</td>\n      <td>54</td>\n      <td>10</td>\n      <td>1</td>\n    </tr>\n    <tr>\n      <th>105</th>\n      <td>5e8b3c9955dca7119bcd0f61</td>\n      <td>2019-10-29T00:00:00</td>\n      <td>2</td>\n      <td>0021900053</td>\n      <td>1610612743</td>\n      <td>DEN</td>\n      <td>Denver</td>\n      <td>Nuggets</td>\n      <td>3-1</td>\n      <td>31</td>\n      <td>...</td>\n      <td>0</td>\n      <td>0</td>\n      <td>106</td>\n      <td>0.473</td>\n      <td>0.692</td>\n      <td>0.344</td>\n      <td>24</td>\n      <td>50</td>\n      <td>10</td>\n      <td>0</td>\n    </tr>\n    <tr>\n      <th>132</th>\n      <td>5e8b3c9c55dca7119bcd0f98</td>\n      <td>2019-10-31T00:00:00</td>\n      <td>2</td>\n      <td>0021900067</td>\n      <td>1610612743</td>\n      <td>DEN</td>\n      <td>Denver</td>\n      <td>Nuggets</td>\n      <td>3-2</td>\n      <td>30</td>\n      <td>...</td>\n      <td>0</td>\n      <td>0</td>\n      <td>107</td>\n      <td>0.483</td>\n      <td>0.875</td>\n      <td>0.269</td>\n      <td>24</td>\n      <td>35</td>\n      <td>14</td>\n      <td>0</td>\n    </tr>\n    <tr>\n      <th>...</th>\n      <td>...</td>\n      <td>...</td>\n      <td>...</td>\n      <td>...</td>\n      <td>...</td>\n      <td>...</td>\n      <td>...</td>\n      <td>...</td>\n      <td>...</td>\n      <td>...</td>\n      <td>...</td>\n      <td>...</td>\n      <td>...</td>\n      <td>...</td>\n      <td>...</td>\n      <td>...</td>\n      <td>...</td>\n      <td>...</td>\n      <td>...</td>\n      <td>...</td>\n      <td>...</td>\n    </tr>\n    <tr>\n      <th>1824</th>\n      <td>5e8c6c5c2371b2dbaa0b4b52</td>\n      <td>2020-03-03T00:00:00</td>\n      <td>5</td>\n      <td>0021900913</td>\n      <td>1610612743</td>\n      <td>DEN</td>\n      <td>Denver</td>\n      <td>Nuggets</td>\n      <td>41-20</td>\n      <td>25</td>\n      <td>...</td>\n      <td>0</td>\n      <td>0</td>\n      <td>100</td>\n      <td>0.448</td>\n      <td>0.731</td>\n      <td>0.150</td>\n      <td>22</td>\n      <td>53</td>\n      <td>15</td>\n      <td>0</td>\n    </tr>\n    <tr>\n      <th>1849</th>\n      <td>5e8c6c5f2371b2dbaa0b4b86</td>\n      <td>2020-03-05T00:00:00</td>\n      <td>1</td>\n      <td>0021900926</td>\n      <td>1610612743</td>\n      <td>DEN</td>\n      <td>Denver</td>\n      <td>Nuggets</td>\n      <td>42-20</td>\n      <td>31</td>\n      <td>...</td>\n      <td>0</td>\n      <td>0</td>\n      <td>114</td>\n      <td>0.530</td>\n      <td>0.900</td>\n      <td>0.308</td>\n      <td>29</td>\n      <td>38</td>\n      <td>12</td>\n      <td>1</td>\n    </tr>\n    <tr>\n      <th>1881</th>\n      <td>5e8c6c602371b2dbaa0b4bc6</td>\n      <td>2020-03-07T00:00:00</td>\n      <td>3</td>\n      <td>0021900942</td>\n      <td>1610612743</td>\n      <td>DEN</td>\n      <td>Denver</td>\n      <td>Nuggets</td>\n      <td>42-21</td>\n      <td>33</td>\n      <td>...</td>\n      <td>0</td>\n      <td>0</td>\n      <td>102</td>\n      <td>0.506</td>\n      <td>0.375</td>\n      <td>0.406</td>\n      <td>28</td>\n      <td>33</td>\n      <td>17</td>\n      <td>0</td>\n    </tr>\n    <tr>\n      <th>1914</th>\n      <td>5e8c6c642371b2dbaa0b4c08</td>\n      <td>2020-03-09T00:00:00</td>\n      <td>2</td>\n      <td>0021900958</td>\n      <td>1610612743</td>\n      <td>DEN</td>\n      <td>Denver</td>\n      <td>Nuggets</td>\n      <td>43-21</td>\n      <td>39</td>\n      <td>...</td>\n      <td>0</td>\n      <td>0</td>\n      <td>109</td>\n      <td>0.436</td>\n      <td>0.917</td>\n      <td>0.390</td>\n      <td>28</td>\n      <td>48</td>\n      <td>12</td>\n      <td>1</td>\n    </tr>\n    <tr>\n      <th>1941</th>\n      <td>5e8c6c652371b2dbaa0b4c46</td>\n      <td>2020-03-11T00:00:00</td>\n      <td>6</td>\n      <td>0021900973</td>\n      <td>1610612743</td>\n      <td>DEN</td>\n      <td>Denver</td>\n      <td>Nuggets</td>\n      <td>43-22</td>\n      <td>29</td>\n      <td>...</td>\n      <td>0</td>\n      <td>0</td>\n      <td>97</td>\n      <td>0.470</td>\n      <td>0.625</td>\n      <td>0.359</td>\n      <td>23</td>\n      <td>40</td>\n      <td>15</td>\n      <td>0</td>\n    </tr>\n  </tbody>\n</table>\n<p>65 rows × 31 columns</p>\n</div>"
     },
     "metadata": {},
     "execution_count": 26
    }
   ],
   "source": [
    "games_by_team['1610612743']"
   ]
  },
  {
   "cell_type": "code",
   "execution_count": 78,
   "metadata": {},
   "outputs": [
    {
     "output_type": "execute_result",
     "data": {
      "text/plain": "                           _id        GAME_DATE_EST GAME_SEQUENCE     GAME_ID  \\\n16    5e8b3c9155dca7119bcd0eaf  2019-10-23T00:00:00             7  0021900009   \n42    5e8b3c9455dca7119bcd0ee3  2019-10-25T00:00:00             6  0021900022   \n64    5e8b3c9555dca7119bcd0f0f  2019-10-26T00:00:00             8  0021900033   \n121   5e8b3c9a55dca7119bcd0f82  2019-10-30T00:00:00             7  0021900061   \n159   5e8b3c9f55dca7119bcd0fce  2019-11-02T00:00:00             4  0021900080   \n...                        ...                  ...           ...         ...   \n1829  5e8c6c5c2371b2dbaa0b4b5c  2020-03-03T00:00:00             8  0021900916   \n1847  5e8c6c5d2371b2dbaa0b4b80  2020-03-04T00:00:00             9  0021900925   \n1858  5e8c6c602371b2dbaa0b4b98  2020-03-06T00:00:00             1  0021900930   \n1900  5e8c6c622371b2dbaa0b4bec  2020-03-08T00:00:00             6  0021900951   \n1920  5e8c6c652371b2dbaa0b4c14  2020-03-10T00:00:00             2  0021900961   \n\n         TEAM_ID TEAM_ABBREVIATION TEAM_CITY_NAME TEAM_NAME TEAM_WINS_LOSSES  \\\n16    1610612764               WAS     Washington   Wizards              0-1   \n42    1610612764               WAS     Washington   Wizards              1-1   \n64    1610612764               WAS     Washington   Wizards              1-2   \n121   1610612764               WAS     Washington   Wizards              1-3   \n159   1610612764               WAS     Washington   Wizards              1-4   \n...          ...               ...            ...       ...              ...   \n1829  1610612764               WAS     Washington   Wizards            22-38   \n1847  1610612764               WAS     Washington   Wizards            22-39   \n1858  1610612764               WAS     Washington   Wizards            23-39   \n1900  1610612764               WAS     Washington   Wizards            23-40   \n1920  1610612764               WAS     Washington   Wizards            24-40   \n\n      PTS_QTR1  ...  PTS_OT9  PTS_OT10  PTS  FG_PCT  FT_PCT  FG3_PCT  AST  \\\n16          25  ...        0         0  100   0.398   0.833    0.268   26   \n42          28  ...        0         0   97   0.402   0.800    0.268   21   \n64          26  ...        0         0  122   0.495   0.706    0.471   30   \n121         34  ...        0         0  158   0.626   0.828    0.556   31   \n159         34  ...        0         0  109   0.389   0.852    0.343   21   \n...        ...  ...      ...       ...  ...     ...     ...      ...  ...   \n1829        23  ...        0         0  126   0.513   0.824    0.421   28   \n1847        30  ...        0         0  104   0.388   0.619    0.314   27   \n1858        33  ...        0         0  118   0.474   0.886    0.484   24   \n1900        23  ...        0         0   89   0.333   0.857    0.404   19   \n1920        36  ...        0         0  122   0.473   0.844    0.400   23   \n\n      REB  TOV  IS_WINNER  \n16     47   17          0  \n42     47   15          1  \n64     41   12          0  \n121    40   19          0  \n159    39   17          0  \n...   ...  ...        ...  \n1829   31   14          0  \n1847   48   10          0  \n1858   38   16          1  \n1900   29   13          0  \n1920   37   16          1  \n\n[64 rows x 31 columns]",
      "text/html": "<div>\n<style scoped>\n    .dataframe tbody tr th:only-of-type {\n        vertical-align: middle;\n    }\n\n    .dataframe tbody tr th {\n        vertical-align: top;\n    }\n\n    .dataframe thead th {\n        text-align: right;\n    }\n</style>\n<table border=\"1\" class=\"dataframe\">\n  <thead>\n    <tr style=\"text-align: right;\">\n      <th></th>\n      <th>_id</th>\n      <th>GAME_DATE_EST</th>\n      <th>GAME_SEQUENCE</th>\n      <th>GAME_ID</th>\n      <th>TEAM_ID</th>\n      <th>TEAM_ABBREVIATION</th>\n      <th>TEAM_CITY_NAME</th>\n      <th>TEAM_NAME</th>\n      <th>TEAM_WINS_LOSSES</th>\n      <th>PTS_QTR1</th>\n      <th>...</th>\n      <th>PTS_OT9</th>\n      <th>PTS_OT10</th>\n      <th>PTS</th>\n      <th>FG_PCT</th>\n      <th>FT_PCT</th>\n      <th>FG3_PCT</th>\n      <th>AST</th>\n      <th>REB</th>\n      <th>TOV</th>\n      <th>IS_WINNER</th>\n    </tr>\n  </thead>\n  <tbody>\n    <tr>\n      <th>16</th>\n      <td>5e8b3c9155dca7119bcd0eaf</td>\n      <td>2019-10-23T00:00:00</td>\n      <td>7</td>\n      <td>0021900009</td>\n      <td>1610612764</td>\n      <td>WAS</td>\n      <td>Washington</td>\n      <td>Wizards</td>\n      <td>0-1</td>\n      <td>25</td>\n      <td>...</td>\n      <td>0</td>\n      <td>0</td>\n      <td>100</td>\n      <td>0.398</td>\n      <td>0.833</td>\n      <td>0.268</td>\n      <td>26</td>\n      <td>47</td>\n      <td>17</td>\n      <td>0</td>\n    </tr>\n    <tr>\n      <th>42</th>\n      <td>5e8b3c9455dca7119bcd0ee3</td>\n      <td>2019-10-25T00:00:00</td>\n      <td>6</td>\n      <td>0021900022</td>\n      <td>1610612764</td>\n      <td>WAS</td>\n      <td>Washington</td>\n      <td>Wizards</td>\n      <td>1-1</td>\n      <td>28</td>\n      <td>...</td>\n      <td>0</td>\n      <td>0</td>\n      <td>97</td>\n      <td>0.402</td>\n      <td>0.800</td>\n      <td>0.268</td>\n      <td>21</td>\n      <td>47</td>\n      <td>15</td>\n      <td>1</td>\n    </tr>\n    <tr>\n      <th>64</th>\n      <td>5e8b3c9555dca7119bcd0f0f</td>\n      <td>2019-10-26T00:00:00</td>\n      <td>8</td>\n      <td>0021900033</td>\n      <td>1610612764</td>\n      <td>WAS</td>\n      <td>Washington</td>\n      <td>Wizards</td>\n      <td>1-2</td>\n      <td>26</td>\n      <td>...</td>\n      <td>0</td>\n      <td>0</td>\n      <td>122</td>\n      <td>0.495</td>\n      <td>0.706</td>\n      <td>0.471</td>\n      <td>30</td>\n      <td>41</td>\n      <td>12</td>\n      <td>0</td>\n    </tr>\n    <tr>\n      <th>121</th>\n      <td>5e8b3c9a55dca7119bcd0f82</td>\n      <td>2019-10-30T00:00:00</td>\n      <td>7</td>\n      <td>0021900061</td>\n      <td>1610612764</td>\n      <td>WAS</td>\n      <td>Washington</td>\n      <td>Wizards</td>\n      <td>1-3</td>\n      <td>34</td>\n      <td>...</td>\n      <td>0</td>\n      <td>0</td>\n      <td>158</td>\n      <td>0.626</td>\n      <td>0.828</td>\n      <td>0.556</td>\n      <td>31</td>\n      <td>40</td>\n      <td>19</td>\n      <td>0</td>\n    </tr>\n    <tr>\n      <th>159</th>\n      <td>5e8b3c9f55dca7119bcd0fce</td>\n      <td>2019-11-02T00:00:00</td>\n      <td>4</td>\n      <td>0021900080</td>\n      <td>1610612764</td>\n      <td>WAS</td>\n      <td>Washington</td>\n      <td>Wizards</td>\n      <td>1-4</td>\n      <td>34</td>\n      <td>...</td>\n      <td>0</td>\n      <td>0</td>\n      <td>109</td>\n      <td>0.389</td>\n      <td>0.852</td>\n      <td>0.343</td>\n      <td>21</td>\n      <td>39</td>\n      <td>17</td>\n      <td>0</td>\n    </tr>\n    <tr>\n      <th>...</th>\n      <td>...</td>\n      <td>...</td>\n      <td>...</td>\n      <td>...</td>\n      <td>...</td>\n      <td>...</td>\n      <td>...</td>\n      <td>...</td>\n      <td>...</td>\n      <td>...</td>\n      <td>...</td>\n      <td>...</td>\n      <td>...</td>\n      <td>...</td>\n      <td>...</td>\n      <td>...</td>\n      <td>...</td>\n      <td>...</td>\n      <td>...</td>\n      <td>...</td>\n      <td>...</td>\n    </tr>\n    <tr>\n      <th>1829</th>\n      <td>5e8c6c5c2371b2dbaa0b4b5c</td>\n      <td>2020-03-03T00:00:00</td>\n      <td>8</td>\n      <td>0021900916</td>\n      <td>1610612764</td>\n      <td>WAS</td>\n      <td>Washington</td>\n      <td>Wizards</td>\n      <td>22-38</td>\n      <td>23</td>\n      <td>...</td>\n      <td>0</td>\n      <td>0</td>\n      <td>126</td>\n      <td>0.513</td>\n      <td>0.824</td>\n      <td>0.421</td>\n      <td>28</td>\n      <td>31</td>\n      <td>14</td>\n      <td>0</td>\n    </tr>\n    <tr>\n      <th>1847</th>\n      <td>5e8c6c5d2371b2dbaa0b4b80</td>\n      <td>2020-03-04T00:00:00</td>\n      <td>9</td>\n      <td>0021900925</td>\n      <td>1610612764</td>\n      <td>WAS</td>\n      <td>Washington</td>\n      <td>Wizards</td>\n      <td>22-39</td>\n      <td>30</td>\n      <td>...</td>\n      <td>0</td>\n      <td>0</td>\n      <td>104</td>\n      <td>0.388</td>\n      <td>0.619</td>\n      <td>0.314</td>\n      <td>27</td>\n      <td>48</td>\n      <td>10</td>\n      <td>0</td>\n    </tr>\n    <tr>\n      <th>1858</th>\n      <td>5e8c6c602371b2dbaa0b4b98</td>\n      <td>2020-03-06T00:00:00</td>\n      <td>1</td>\n      <td>0021900930</td>\n      <td>1610612764</td>\n      <td>WAS</td>\n      <td>Washington</td>\n      <td>Wizards</td>\n      <td>23-39</td>\n      <td>33</td>\n      <td>...</td>\n      <td>0</td>\n      <td>0</td>\n      <td>118</td>\n      <td>0.474</td>\n      <td>0.886</td>\n      <td>0.484</td>\n      <td>24</td>\n      <td>38</td>\n      <td>16</td>\n      <td>1</td>\n    </tr>\n    <tr>\n      <th>1900</th>\n      <td>5e8c6c622371b2dbaa0b4bec</td>\n      <td>2020-03-08T00:00:00</td>\n      <td>6</td>\n      <td>0021900951</td>\n      <td>1610612764</td>\n      <td>WAS</td>\n      <td>Washington</td>\n      <td>Wizards</td>\n      <td>23-40</td>\n      <td>23</td>\n      <td>...</td>\n      <td>0</td>\n      <td>0</td>\n      <td>89</td>\n      <td>0.333</td>\n      <td>0.857</td>\n      <td>0.404</td>\n      <td>19</td>\n      <td>29</td>\n      <td>13</td>\n      <td>0</td>\n    </tr>\n    <tr>\n      <th>1920</th>\n      <td>5e8c6c652371b2dbaa0b4c14</td>\n      <td>2020-03-10T00:00:00</td>\n      <td>2</td>\n      <td>0021900961</td>\n      <td>1610612764</td>\n      <td>WAS</td>\n      <td>Washington</td>\n      <td>Wizards</td>\n      <td>24-40</td>\n      <td>36</td>\n      <td>...</td>\n      <td>0</td>\n      <td>0</td>\n      <td>122</td>\n      <td>0.473</td>\n      <td>0.844</td>\n      <td>0.400</td>\n      <td>23</td>\n      <td>37</td>\n      <td>16</td>\n      <td>1</td>\n    </tr>\n  </tbody>\n</table>\n<p>64 rows × 31 columns</p>\n</div>"
     },
     "metadata": {},
     "execution_count": 78
    }
   ],
   "source": [
    "games_by_team['1610612764']"
   ]
  },
  {
   "cell_type": "code",
   "execution_count": null,
   "metadata": {},
   "outputs": [],
   "source": [
    "# calculate running average \n",
    "def running_avg(data):\n",
    "    running_avg = []\n",
    "\n",
    "    for i in range(len(data)):\n",
    "        avg = sum(data[:i+1]) / (i + 1)\n",
    "        running_avg.append(avg)\n",
    "    return running_avg\n",
    "    \n",
    "print(running_avg(games_by_team['1610612743']['PTS']))"
   ]
  },
  {
   "cell_type": "code",
   "execution_count": 88,
   "metadata": {},
   "outputs": [
    {
     "output_type": "stream",
     "name": "stdout",
     "text": "Shape of data feature dfs: (65, 31) and (65, 22)\n"
    }
   ],
   "source": [
    "print(\"Shape of data feature dfs: {} and {}\".format(games_by_team['1610612743'].shape, avg_features.shape))"
   ]
  },
  {
   "cell_type": "code",
   "execution_count": 92,
   "metadata": {},
   "outputs": [
    {
     "output_type": "stream",
     "name": "stdout",
     "text": "Calculating features for team: 1610612740\nNumeric columns: Index(['PTS_QTR1', 'PTS_QTR2', 'PTS_QTR3', 'PTS_QTR4', 'PTS_OT1', 'PTS_OT2',\n       'PTS_OT3', 'PTS_OT4', 'PTS_OT5', 'PTS_OT6', 'PTS_OT7', 'PTS_OT8',\n       'PTS_OT9', 'PTS_OT10', 'PTS', 'FG_PCT', 'FT_PCT', 'FG3_PCT', 'AST',\n       'REB', 'TOV', 'IS_WINNER'],\n      dtype='object')\nCalculating features for team: 1610612761\nNumeric columns: Index(['PTS_QTR1', 'PTS_QTR2', 'PTS_QTR3', 'PTS_QTR4', 'PTS_OT1', 'PTS_OT2',\n       'PTS_OT3', 'PTS_OT4', 'PTS_OT5', 'PTS_OT6', 'PTS_OT7', 'PTS_OT8',\n       'PTS_OT9', 'PTS_OT10', 'PTS', 'FG_PCT', 'FT_PCT', 'FG3_PCT', 'AST',\n       'REB', 'TOV', 'IS_WINNER'],\n      dtype='object')\nCalculating features for team: 1610612747\nNumeric columns: Index(['PTS_QTR1', 'PTS_QTR2', 'PTS_QTR3', 'PTS_QTR4', 'PTS_OT1', 'PTS_OT2',\n       'PTS_OT3', 'PTS_OT4', 'PTS_OT5', 'PTS_OT6', 'PTS_OT7', 'PTS_OT8',\n       'PTS_OT9', 'PTS_OT10', 'PTS', 'FG_PCT', 'FT_PCT', 'FG3_PCT', 'AST',\n       'REB', 'TOV', 'IS_WINNER'],\n      dtype='object')\nCalculating features for team: 1610612746\nNumeric columns: Index(['PTS_QTR1', 'PTS_QTR2', 'PTS_QTR3', 'PTS_QTR4', 'PTS_OT1', 'PTS_OT2',\n       'PTS_OT3', 'PTS_OT4', 'PTS_OT5', 'PTS_OT6', 'PTS_OT7', 'PTS_OT8',\n       'PTS_OT9', 'PTS_OT10', 'PTS', 'FG_PCT', 'FT_PCT', 'FG3_PCT', 'AST',\n       'REB', 'TOV', 'IS_WINNER'],\n      dtype='object')\nCalculating features for team: 1610612741\nNumeric columns: Index(['PTS_QTR1', 'PTS_QTR2', 'PTS_QTR3', 'PTS_QTR4', 'PTS_OT1', 'PTS_OT2',\n       'PTS_OT3', 'PTS_OT4', 'PTS_OT5', 'PTS_OT6', 'PTS_OT7', 'PTS_OT8',\n       'PTS_OT9', 'PTS_OT10', 'PTS', 'FG_PCT', 'FT_PCT', 'FG3_PCT', 'AST',\n       'REB', 'TOV', 'IS_WINNER'],\n      dtype='object')\nCalculating features for team: 1610612766\nNumeric columns: Index(['PTS_QTR1', 'PTS_QTR2', 'PTS_QTR3', 'PTS_QTR4', 'PTS_OT1', 'PTS_OT2',\n       'PTS_OT3', 'PTS_OT4', 'PTS_OT5', 'PTS_OT6', 'PTS_OT7', 'PTS_OT8',\n       'PTS_OT9', 'PTS_OT10', 'PTS', 'FG_PCT', 'FT_PCT', 'FG3_PCT', 'AST',\n       'REB', 'TOV', 'IS_WINNER'],\n      dtype='object')\nCalculating features for team: 1610612765\nNumeric columns: Index(['PTS_QTR1', 'PTS_QTR2', 'PTS_QTR3', 'PTS_QTR4', 'PTS_OT1', 'PTS_OT2',\n       'PTS_OT3', 'PTS_OT4', 'PTS_OT5', 'PTS_OT6', 'PTS_OT7', 'PTS_OT8',\n       'PTS_OT9', 'PTS_OT10', 'PTS', 'FG_PCT', 'FT_PCT', 'FG3_PCT', 'AST',\n       'REB', 'TOV', 'IS_WINNER'],\n      dtype='object')\nCalculating features for team: 1610612754\nNumeric columns: Index(['PTS_QTR1', 'PTS_QTR2', 'PTS_QTR3', 'PTS_QTR4', 'PTS_OT1', 'PTS_OT2',\n       'PTS_OT3', 'PTS_OT4', 'PTS_OT5', 'PTS_OT6', 'PTS_OT7', 'PTS_OT8',\n       'PTS_OT9', 'PTS_OT10', 'PTS', 'FG_PCT', 'FT_PCT', 'FG3_PCT', 'AST',\n       'REB', 'TOV', 'IS_WINNER'],\n      dtype='object')\nCalculating features for team: 1610612739\nNumeric columns: Index(['PTS_QTR1', 'PTS_QTR2', 'PTS_QTR3', 'PTS_QTR4', 'PTS_OT1', 'PTS_OT2',\n       'PTS_OT3', 'PTS_OT4', 'PTS_OT5', 'PTS_OT6', 'PTS_OT7', 'PTS_OT8',\n       'PTS_OT9', 'PTS_OT10', 'PTS', 'FG_PCT', 'FT_PCT', 'FG3_PCT', 'AST',\n       'REB', 'TOV', 'IS_WINNER'],\n      dtype='object')\nCalculating features for team: 1610612753\nNumeric columns: Index(['PTS_QTR1', 'PTS_QTR2', 'PTS_QTR3', 'PTS_QTR4', 'PTS_OT1', 'PTS_OT2',\n       'PTS_OT3', 'PTS_OT4', 'PTS_OT5', 'PTS_OT6', 'PTS_OT7', 'PTS_OT8',\n       'PTS_OT9', 'PTS_OT10', 'PTS', 'FG_PCT', 'FT_PCT', 'FG3_PCT', 'AST',\n       'REB', 'TOV', 'IS_WINNER'],\n      dtype='object')\nCalculating features for team: 1610612750\nNumeric columns: Index(['PTS_QTR1', 'PTS_QTR2', 'PTS_QTR3', 'PTS_QTR4', 'PTS_OT1', 'PTS_OT2',\n       'PTS_OT3', 'PTS_OT4', 'PTS_OT5', 'PTS_OT6', 'PTS_OT7', 'PTS_OT8',\n       'PTS_OT9', 'PTS_OT10', 'PTS', 'FG_PCT', 'FT_PCT', 'FG3_PCT', 'AST',\n       'REB', 'TOV', 'IS_WINNER'],\n      dtype='object')\nCalculating features for team: 1610612751\nNumeric columns: Index(['PTS_QTR1', 'PTS_QTR2', 'PTS_QTR3', 'PTS_QTR4', 'PTS_OT1', 'PTS_OT2',\n       'PTS_OT3', 'PTS_OT4', 'PTS_OT5', 'PTS_OT6', 'PTS_OT7', 'PTS_OT8',\n       'PTS_OT9', 'PTS_OT10', 'PTS', 'FG_PCT', 'FT_PCT', 'FG3_PCT', 'AST',\n       'REB', 'TOV', 'IS_WINNER'],\n      dtype='object')\nCalculating features for team: 1610612763\nNumeric columns: Index(['PTS_QTR1', 'PTS_QTR2', 'PTS_QTR3', 'PTS_QTR4', 'PTS_OT1', 'PTS_OT2',\n       'PTS_OT3', 'PTS_OT4', 'PTS_OT5', 'PTS_OT6', 'PTS_OT7', 'PTS_OT8',\n       'PTS_OT9', 'PTS_OT10', 'PTS', 'FG_PCT', 'FT_PCT', 'FG3_PCT', 'AST',\n       'REB', 'TOV', 'IS_WINNER'],\n      dtype='object')\nCalculating features for team: 1610612748\nNumeric columns: Index(['PTS_QTR1', 'PTS_QTR2', 'PTS_QTR3', 'PTS_QTR4', 'PTS_OT1', 'PTS_OT2',\n       'PTS_OT3', 'PTS_OT4', 'PTS_OT5', 'PTS_OT6', 'PTS_OT7', 'PTS_OT8',\n       'PTS_OT9', 'PTS_OT10', 'PTS', 'FG_PCT', 'FT_PCT', 'FG3_PCT', 'AST',\n       'REB', 'TOV', 'IS_WINNER'],\n      dtype='object')\nCalculating features for team: 1610612738\nNumeric columns: Index(['PTS_QTR1', 'PTS_QTR2', 'PTS_QTR3', 'PTS_QTR4', 'PTS_OT1', 'PTS_OT2',\n       'PTS_OT3', 'PTS_OT4', 'PTS_OT5', 'PTS_OT6', 'PTS_OT7', 'PTS_OT8',\n       'PTS_OT9', 'PTS_OT10', 'PTS', 'FG_PCT', 'FT_PCT', 'FG3_PCT', 'AST',\n       'REB', 'TOV', 'IS_WINNER'],\n      dtype='object')\nCalculating features for team: 1610612755\nNumeric columns: Index(['PTS_QTR1', 'PTS_QTR2', 'PTS_QTR3', 'PTS_QTR4', 'PTS_OT1', 'PTS_OT2',\n       'PTS_OT3', 'PTS_OT4', 'PTS_OT5', 'PTS_OT6', 'PTS_OT7', 'PTS_OT8',\n       'PTS_OT9', 'PTS_OT10', 'PTS', 'FG_PCT', 'FT_PCT', 'FG3_PCT', 'AST',\n       'REB', 'TOV', 'IS_WINNER'],\n      dtype='object')\nCalculating features for team: 1610612764\nNumeric columns: Index(['PTS_QTR1', 'PTS_QTR2', 'PTS_QTR3', 'PTS_QTR4', 'PTS_OT1', 'PTS_OT2',\n       'PTS_OT3', 'PTS_OT4', 'PTS_OT5', 'PTS_OT6', 'PTS_OT7', 'PTS_OT8',\n       'PTS_OT9', 'PTS_OT10', 'PTS', 'FG_PCT', 'FT_PCT', 'FG3_PCT', 'AST',\n       'REB', 'TOV', 'IS_WINNER'],\n      dtype='object')\nCalculating features for team: 1610612742\nNumeric columns: Index(['PTS_QTR1', 'PTS_QTR2', 'PTS_QTR3', 'PTS_QTR4', 'PTS_OT1', 'PTS_OT2',\n       'PTS_OT3', 'PTS_OT4', 'PTS_OT5', 'PTS_OT6', 'PTS_OT7', 'PTS_OT8',\n       'PTS_OT9', 'PTS_OT10', 'PTS', 'FG_PCT', 'FT_PCT', 'FG3_PCT', 'AST',\n       'REB', 'TOV', 'IS_WINNER'],\n      dtype='object')\nCalculating features for team: 1610612752\nNumeric columns: Index(['PTS_QTR1', 'PTS_QTR2', 'PTS_QTR3', 'PTS_QTR4', 'PTS_OT1', 'PTS_OT2',\n       'PTS_OT3', 'PTS_OT4', 'PTS_OT5', 'PTS_OT6', 'PTS_OT7', 'PTS_OT8',\n       'PTS_OT9', 'PTS_OT10', 'PTS', 'FG_PCT', 'FT_PCT', 'FG3_PCT', 'AST',\n       'REB', 'TOV', 'IS_WINNER'],\n      dtype='object')\nCalculating features for team: 1610612759\nNumeric columns: Index(['PTS_QTR1', 'PTS_QTR2', 'PTS_QTR3', 'PTS_QTR4', 'PTS_OT1', 'PTS_OT2',\n       'PTS_OT3', 'PTS_OT4', 'PTS_OT5', 'PTS_OT6', 'PTS_OT7', 'PTS_OT8',\n       'PTS_OT9', 'PTS_OT10', 'PTS', 'FG_PCT', 'FT_PCT', 'FG3_PCT', 'AST',\n       'REB', 'TOV', 'IS_WINNER'],\n      dtype='object')\nCalculating features for team: 1610612760\nNumeric columns: Index(['PTS_QTR1', 'PTS_QTR2', 'PTS_QTR3', 'PTS_QTR4', 'PTS_OT1', 'PTS_OT2',\n       'PTS_OT3', 'PTS_OT4', 'PTS_OT5', 'PTS_OT6', 'PTS_OT7', 'PTS_OT8',\n       'PTS_OT9', 'PTS_OT10', 'PTS', 'FG_PCT', 'FT_PCT', 'FG3_PCT', 'AST',\n       'REB', 'TOV', 'IS_WINNER'],\n      dtype='object')\nCalculating features for team: 1610612762\nNumeric columns: Index(['PTS_QTR1', 'PTS_QTR2', 'PTS_QTR3', 'PTS_QTR4', 'PTS_OT1', 'PTS_OT2',\n       'PTS_OT3', 'PTS_OT4', 'PTS_OT5', 'PTS_OT6', 'PTS_OT7', 'PTS_OT8',\n       'PTS_OT9', 'PTS_OT10', 'PTS', 'FG_PCT', 'FT_PCT', 'FG3_PCT', 'AST',\n       'REB', 'TOV', 'IS_WINNER'],\n      dtype='object')\nCalculating features for team: 1610612758\nNumeric columns: Index(['PTS_QTR1', 'PTS_QTR2', 'PTS_QTR3', 'PTS_QTR4', 'PTS_OT1', 'PTS_OT2',\n       'PTS_OT3', 'PTS_OT4', 'PTS_OT5', 'PTS_OT6', 'PTS_OT7', 'PTS_OT8',\n       'PTS_OT9', 'PTS_OT10', 'PTS', 'FG_PCT', 'FT_PCT', 'FG3_PCT', 'AST',\n       'REB', 'TOV', 'IS_WINNER'],\n      dtype='object')\nCalculating features for team: 1610612756\nNumeric columns: Index(['PTS_QTR1', 'PTS_QTR2', 'PTS_QTR3', 'PTS_QTR4', 'PTS_OT1', 'PTS_OT2',\n       'PTS_OT3', 'PTS_OT4', 'PTS_OT5', 'PTS_OT6', 'PTS_OT7', 'PTS_OT8',\n       'PTS_OT9', 'PTS_OT10', 'PTS', 'FG_PCT', 'FT_PCT', 'FG3_PCT', 'AST',\n       'REB', 'TOV', 'IS_WINNER'],\n      dtype='object')\nCalculating features for team: 1610612743\nNumeric columns: Index(['PTS_QTR1', 'PTS_QTR2', 'PTS_QTR3', 'PTS_QTR4', 'PTS_OT1', 'PTS_OT2',\n       'PTS_OT3', 'PTS_OT4', 'PTS_OT5', 'PTS_OT6', 'PTS_OT7', 'PTS_OT8',\n       'PTS_OT9', 'PTS_OT10', 'PTS', 'FG_PCT', 'FT_PCT', 'FG3_PCT', 'AST',\n       'REB', 'TOV', 'IS_WINNER'],\n      dtype='object')\nCalculating features for team: 1610612757\nNumeric columns: Index(['PTS_QTR1', 'PTS_QTR2', 'PTS_QTR3', 'PTS_QTR4', 'PTS_OT1', 'PTS_OT2',\n       'PTS_OT3', 'PTS_OT4', 'PTS_OT5', 'PTS_OT6', 'PTS_OT7', 'PTS_OT8',\n       'PTS_OT9', 'PTS_OT10', 'PTS', 'FG_PCT', 'FT_PCT', 'FG3_PCT', 'AST',\n       'REB', 'TOV', 'IS_WINNER'],\n      dtype='object')\nCalculating features for team: 1610612737\nNumeric columns: Index(['PTS_QTR1', 'PTS_QTR2', 'PTS_QTR3', 'PTS_QTR4', 'PTS_OT1', 'PTS_OT2',\n       'PTS_OT3', 'PTS_OT4', 'PTS_OT5', 'PTS_OT6', 'PTS_OT7', 'PTS_OT8',\n       'PTS_OT9', 'PTS_OT10', 'PTS', 'FG_PCT', 'FT_PCT', 'FG3_PCT', 'AST',\n       'REB', 'TOV', 'IS_WINNER'],\n      dtype='object')\nCalculating features for team: 1610612749\nNumeric columns: Index(['PTS_QTR1', 'PTS_QTR2', 'PTS_QTR3', 'PTS_QTR4', 'PTS_OT1', 'PTS_OT2',\n       'PTS_OT3', 'PTS_OT4', 'PTS_OT5', 'PTS_OT6', 'PTS_OT7', 'PTS_OT8',\n       'PTS_OT9', 'PTS_OT10', 'PTS', 'FG_PCT', 'FT_PCT', 'FG3_PCT', 'AST',\n       'REB', 'TOV', 'IS_WINNER'],\n      dtype='object')\nCalculating features for team: 1610612745\nNumeric columns: Index(['PTS_QTR1', 'PTS_QTR2', 'PTS_QTR3', 'PTS_QTR4', 'PTS_OT1', 'PTS_OT2',\n       'PTS_OT3', 'PTS_OT4', 'PTS_OT5', 'PTS_OT6', 'PTS_OT7', 'PTS_OT8',\n       'PTS_OT9', 'PTS_OT10', 'PTS', 'FG_PCT', 'FT_PCT', 'FG3_PCT', 'AST',\n       'REB', 'TOV', 'IS_WINNER'],\n      dtype='object')\nCalculating features for team: 1610612744\nNumeric columns: Index(['PTS_QTR1', 'PTS_QTR2', 'PTS_QTR3', 'PTS_QTR4', 'PTS_OT1', 'PTS_OT2',\n       'PTS_OT3', 'PTS_OT4', 'PTS_OT5', 'PTS_OT6', 'PTS_OT7', 'PTS_OT8',\n       'PTS_OT9', 'PTS_OT10', 'PTS', 'FG_PCT', 'FT_PCT', 'FG3_PCT', 'AST',\n       'REB', 'TOV', 'IS_WINNER'],\n      dtype='object')\nCalculating features for team: 1610616833\nNumeric columns: Index(['PTS_QTR1', 'PTS_QTR2', 'PTS_QTR3', 'PTS_QTR4', 'PTS_OT1', 'PTS_OT2',\n       'PTS_OT3', 'PTS_OT4', 'PTS_OT5', 'PTS_OT6', 'PTS_OT7', 'PTS_OT8',\n       'PTS_OT9', 'PTS_OT10', 'PTS', 'FG_PCT', 'FT_PCT', 'FG3_PCT', 'AST',\n       'REB', 'TOV', 'IS_WINNER'],\n      dtype='object')\nCalculating features for team: 1610616834\nNumeric columns: Index(['PTS_QTR1', 'PTS_QTR2', 'PTS_QTR3', 'PTS_QTR4', 'PTS_OT1', 'PTS_OT2',\n       'PTS_OT3', 'PTS_OT4', 'PTS_OT5', 'PTS_OT6', 'PTS_OT7', 'PTS_OT8',\n       'PTS_OT9', 'PTS_OT10', 'PTS', 'FG_PCT', 'FT_PCT', 'FG3_PCT', 'AST',\n       'REB', 'TOV', 'IS_WINNER'],\n      dtype='object')\n"
    }
   ],
   "source": [
    "def calc_dynamic_features(games_dic):\n",
    "\n",
    "    for df_key in games_dic.keys():\n",
    "        print(\"Calculating features for team: {}\".format(df_key))\n",
    "\n",
    "        # for every numeric column calculate running average\n",
    "        cols = games_by_team[df_key].select_dtypes([np.number]).columns\n",
    "        print(\"Numeric columns: {}\".format(cols))\n",
    "\n",
    "        data = {}\n",
    "\n",
    "        # calculate average at point t \n",
    "        for col in cols:\n",
    "            data[col + '_AVG'] = running_avg(games_by_team[df_key][col])\n",
    "\n",
    "        avg_features = pd.DataFrame(data)\n",
    "\n",
    "        # concatenate new features to old df\n",
    "        games_by_team[df_key] = pd.concat([games_by_team[df_key], avg_features.set_index(games_by_team[df_key].index)], axis=1)\n",
    "\n",
    "calc_dynamic_features(games_by_team)"
   ]
  },
  {
   "cell_type": "code",
   "execution_count": 90,
   "metadata": {},
   "outputs": [
    {
     "output_type": "execute_result",
     "data": {
      "text/plain": "                           _id        GAME_DATE_EST GAME_SEQUENCE     GAME_ID  \\\n24    5e8b3c9155dca7119bcd0ebf  2019-10-23T00:00:00            11  0021900013   \n45    5e8b3c9455dca7119bcd0ee9  2019-10-25T00:00:00             7  0021900023   \n98    5e8b3c9855dca7119bcd0f53  2019-10-28T00:00:00            10  0021900050   \n105   5e8b3c9955dca7119bcd0f61  2019-10-29T00:00:00             2  0021900053   \n132   5e8b3c9c55dca7119bcd0f98  2019-10-31T00:00:00             2  0021900067   \n...                        ...                  ...           ...         ...   \n1824  5e8c6c5c2371b2dbaa0b4b52  2020-03-03T00:00:00             5  0021900913   \n1849  5e8c6c5f2371b2dbaa0b4b86  2020-03-05T00:00:00             1  0021900926   \n1881  5e8c6c602371b2dbaa0b4bc6  2020-03-07T00:00:00             3  0021900942   \n1914  5e8c6c642371b2dbaa0b4c08  2020-03-09T00:00:00             2  0021900958   \n1941  5e8c6c652371b2dbaa0b4c46  2020-03-11T00:00:00             6  0021900973   \n\n         TEAM_ID TEAM_ABBREVIATION TEAM_CITY_NAME TEAM_NAME TEAM_WINS_LOSSES  \\\n24    1610612743               DEN         Denver   Nuggets              1-0   \n45    1610612743               DEN         Denver   Nuggets              2-0   \n98    1610612743               DEN         Denver   Nuggets              3-0   \n105   1610612743               DEN         Denver   Nuggets              3-1   \n132   1610612743               DEN         Denver   Nuggets              3-2   \n...          ...               ...            ...       ...              ...   \n1824  1610612743               DEN         Denver   Nuggets            41-20   \n1849  1610612743               DEN         Denver   Nuggets            42-20   \n1881  1610612743               DEN         Denver   Nuggets            42-21   \n1914  1610612743               DEN         Denver   Nuggets            43-21   \n1941  1610612743               DEN         Denver   Nuggets            43-22   \n\n      PTS_QTR1  ...  PTS_OT9_AVG  PTS_OT10_AVG     PTS_AVG  FG_PCT_AVG  \\\n24          24  ...          0.0           0.0  108.000000    0.420000   \n45          15  ...          0.0           0.0  108.000000    0.405500   \n98          21  ...          0.0           0.0  105.666667    0.392667   \n105         31  ...          0.0           0.0  105.750000    0.412750   \n132         30  ...          0.0           0.0  106.000000    0.426800   \n...        ...  ...          ...           ...         ...         ...   \n1824        25  ...          0.0           0.0  110.721311    0.471213   \n1849        31  ...          0.0           0.0  110.774194    0.472161   \n1881        33  ...          0.0           0.0  110.634921    0.472698   \n1914        39  ...          0.0           0.0  110.609375    0.472125   \n1941        29  ...          0.0           0.0  110.400000    0.472092   \n\n      FT_PCT_AVG  FG3_PCT_AVG    AST_AVG    REB_AVG    TOV_AVG  IS_WINNER_AVG  \n24      0.815000     0.563000  24.000000  45.000000  19.000000       1.000000  \n45      0.810500     0.411000  22.500000  45.000000  16.500000       1.000000  \n98      0.842000     0.366667  21.333333  48.000000  14.333333       1.000000  \n105     0.804500     0.361000  22.000000  48.500000  13.250000       0.750000  \n132     0.818600     0.342600  22.400000  45.800000  13.400000       0.600000  \n...          ...          ...        ...        ...        ...            ...  \n1824    0.773574     0.351639  26.491803  44.573770  12.868852       0.672131  \n1849    0.775613     0.350935  26.532258  44.467742  12.854839       0.677419  \n1881    0.769254     0.351810  26.555556  44.285714  12.920635       0.666667  \n1914    0.771563     0.352406  26.578125  44.343750  12.906250       0.671875  \n1941    0.769308     0.352508  26.523077  44.276923  12.938462       0.661538  \n\n[65 rows x 53 columns]",
      "text/html": "<div>\n<style scoped>\n    .dataframe tbody tr th:only-of-type {\n        vertical-align: middle;\n    }\n\n    .dataframe tbody tr th {\n        vertical-align: top;\n    }\n\n    .dataframe thead th {\n        text-align: right;\n    }\n</style>\n<table border=\"1\" class=\"dataframe\">\n  <thead>\n    <tr style=\"text-align: right;\">\n      <th></th>\n      <th>_id</th>\n      <th>GAME_DATE_EST</th>\n      <th>GAME_SEQUENCE</th>\n      <th>GAME_ID</th>\n      <th>TEAM_ID</th>\n      <th>TEAM_ABBREVIATION</th>\n      <th>TEAM_CITY_NAME</th>\n      <th>TEAM_NAME</th>\n      <th>TEAM_WINS_LOSSES</th>\n      <th>PTS_QTR1</th>\n      <th>...</th>\n      <th>PTS_OT9_AVG</th>\n      <th>PTS_OT10_AVG</th>\n      <th>PTS_AVG</th>\n      <th>FG_PCT_AVG</th>\n      <th>FT_PCT_AVG</th>\n      <th>FG3_PCT_AVG</th>\n      <th>AST_AVG</th>\n      <th>REB_AVG</th>\n      <th>TOV_AVG</th>\n      <th>IS_WINNER_AVG</th>\n    </tr>\n  </thead>\n  <tbody>\n    <tr>\n      <th>24</th>\n      <td>5e8b3c9155dca7119bcd0ebf</td>\n      <td>2019-10-23T00:00:00</td>\n      <td>11</td>\n      <td>0021900013</td>\n      <td>1610612743</td>\n      <td>DEN</td>\n      <td>Denver</td>\n      <td>Nuggets</td>\n      <td>1-0</td>\n      <td>24</td>\n      <td>...</td>\n      <td>0.0</td>\n      <td>0.0</td>\n      <td>108.000000</td>\n      <td>0.420000</td>\n      <td>0.815000</td>\n      <td>0.563000</td>\n      <td>24.000000</td>\n      <td>45.000000</td>\n      <td>19.000000</td>\n      <td>1.000000</td>\n    </tr>\n    <tr>\n      <th>45</th>\n      <td>5e8b3c9455dca7119bcd0ee9</td>\n      <td>2019-10-25T00:00:00</td>\n      <td>7</td>\n      <td>0021900023</td>\n      <td>1610612743</td>\n      <td>DEN</td>\n      <td>Denver</td>\n      <td>Nuggets</td>\n      <td>2-0</td>\n      <td>15</td>\n      <td>...</td>\n      <td>0.0</td>\n      <td>0.0</td>\n      <td>108.000000</td>\n      <td>0.405500</td>\n      <td>0.810500</td>\n      <td>0.411000</td>\n      <td>22.500000</td>\n      <td>45.000000</td>\n      <td>16.500000</td>\n      <td>1.000000</td>\n    </tr>\n    <tr>\n      <th>98</th>\n      <td>5e8b3c9855dca7119bcd0f53</td>\n      <td>2019-10-28T00:00:00</td>\n      <td>10</td>\n      <td>0021900050</td>\n      <td>1610612743</td>\n      <td>DEN</td>\n      <td>Denver</td>\n      <td>Nuggets</td>\n      <td>3-0</td>\n      <td>21</td>\n      <td>...</td>\n      <td>0.0</td>\n      <td>0.0</td>\n      <td>105.666667</td>\n      <td>0.392667</td>\n      <td>0.842000</td>\n      <td>0.366667</td>\n      <td>21.333333</td>\n      <td>48.000000</td>\n      <td>14.333333</td>\n      <td>1.000000</td>\n    </tr>\n    <tr>\n      <th>105</th>\n      <td>5e8b3c9955dca7119bcd0f61</td>\n      <td>2019-10-29T00:00:00</td>\n      <td>2</td>\n      <td>0021900053</td>\n      <td>1610612743</td>\n      <td>DEN</td>\n      <td>Denver</td>\n      <td>Nuggets</td>\n      <td>3-1</td>\n      <td>31</td>\n      <td>...</td>\n      <td>0.0</td>\n      <td>0.0</td>\n      <td>105.750000</td>\n      <td>0.412750</td>\n      <td>0.804500</td>\n      <td>0.361000</td>\n      <td>22.000000</td>\n      <td>48.500000</td>\n      <td>13.250000</td>\n      <td>0.750000</td>\n    </tr>\n    <tr>\n      <th>132</th>\n      <td>5e8b3c9c55dca7119bcd0f98</td>\n      <td>2019-10-31T00:00:00</td>\n      <td>2</td>\n      <td>0021900067</td>\n      <td>1610612743</td>\n      <td>DEN</td>\n      <td>Denver</td>\n      <td>Nuggets</td>\n      <td>3-2</td>\n      <td>30</td>\n      <td>...</td>\n      <td>0.0</td>\n      <td>0.0</td>\n      <td>106.000000</td>\n      <td>0.426800</td>\n      <td>0.818600</td>\n      <td>0.342600</td>\n      <td>22.400000</td>\n      <td>45.800000</td>\n      <td>13.400000</td>\n      <td>0.600000</td>\n    </tr>\n    <tr>\n      <th>...</th>\n      <td>...</td>\n      <td>...</td>\n      <td>...</td>\n      <td>...</td>\n      <td>...</td>\n      <td>...</td>\n      <td>...</td>\n      <td>...</td>\n      <td>...</td>\n      <td>...</td>\n      <td>...</td>\n      <td>...</td>\n      <td>...</td>\n      <td>...</td>\n      <td>...</td>\n      <td>...</td>\n      <td>...</td>\n      <td>...</td>\n      <td>...</td>\n      <td>...</td>\n      <td>...</td>\n    </tr>\n    <tr>\n      <th>1824</th>\n      <td>5e8c6c5c2371b2dbaa0b4b52</td>\n      <td>2020-03-03T00:00:00</td>\n      <td>5</td>\n      <td>0021900913</td>\n      <td>1610612743</td>\n      <td>DEN</td>\n      <td>Denver</td>\n      <td>Nuggets</td>\n      <td>41-20</td>\n      <td>25</td>\n      <td>...</td>\n      <td>0.0</td>\n      <td>0.0</td>\n      <td>110.721311</td>\n      <td>0.471213</td>\n      <td>0.773574</td>\n      <td>0.351639</td>\n      <td>26.491803</td>\n      <td>44.573770</td>\n      <td>12.868852</td>\n      <td>0.672131</td>\n    </tr>\n    <tr>\n      <th>1849</th>\n      <td>5e8c6c5f2371b2dbaa0b4b86</td>\n      <td>2020-03-05T00:00:00</td>\n      <td>1</td>\n      <td>0021900926</td>\n      <td>1610612743</td>\n      <td>DEN</td>\n      <td>Denver</td>\n      <td>Nuggets</td>\n      <td>42-20</td>\n      <td>31</td>\n      <td>...</td>\n      <td>0.0</td>\n      <td>0.0</td>\n      <td>110.774194</td>\n      <td>0.472161</td>\n      <td>0.775613</td>\n      <td>0.350935</td>\n      <td>26.532258</td>\n      <td>44.467742</td>\n      <td>12.854839</td>\n      <td>0.677419</td>\n    </tr>\n    <tr>\n      <th>1881</th>\n      <td>5e8c6c602371b2dbaa0b4bc6</td>\n      <td>2020-03-07T00:00:00</td>\n      <td>3</td>\n      <td>0021900942</td>\n      <td>1610612743</td>\n      <td>DEN</td>\n      <td>Denver</td>\n      <td>Nuggets</td>\n      <td>42-21</td>\n      <td>33</td>\n      <td>...</td>\n      <td>0.0</td>\n      <td>0.0</td>\n      <td>110.634921</td>\n      <td>0.472698</td>\n      <td>0.769254</td>\n      <td>0.351810</td>\n      <td>26.555556</td>\n      <td>44.285714</td>\n      <td>12.920635</td>\n      <td>0.666667</td>\n    </tr>\n    <tr>\n      <th>1914</th>\n      <td>5e8c6c642371b2dbaa0b4c08</td>\n      <td>2020-03-09T00:00:00</td>\n      <td>2</td>\n      <td>0021900958</td>\n      <td>1610612743</td>\n      <td>DEN</td>\n      <td>Denver</td>\n      <td>Nuggets</td>\n      <td>43-21</td>\n      <td>39</td>\n      <td>...</td>\n      <td>0.0</td>\n      <td>0.0</td>\n      <td>110.609375</td>\n      <td>0.472125</td>\n      <td>0.771563</td>\n      <td>0.352406</td>\n      <td>26.578125</td>\n      <td>44.343750</td>\n      <td>12.906250</td>\n      <td>0.671875</td>\n    </tr>\n    <tr>\n      <th>1941</th>\n      <td>5e8c6c652371b2dbaa0b4c46</td>\n      <td>2020-03-11T00:00:00</td>\n      <td>6</td>\n      <td>0021900973</td>\n      <td>1610612743</td>\n      <td>DEN</td>\n      <td>Denver</td>\n      <td>Nuggets</td>\n      <td>43-22</td>\n      <td>29</td>\n      <td>...</td>\n      <td>0.0</td>\n      <td>0.0</td>\n      <td>110.400000</td>\n      <td>0.472092</td>\n      <td>0.769308</td>\n      <td>0.352508</td>\n      <td>26.523077</td>\n      <td>44.276923</td>\n      <td>12.938462</td>\n      <td>0.661538</td>\n    </tr>\n  </tbody>\n</table>\n<p>65 rows × 53 columns</p>\n</div>"
     },
     "metadata": {},
     "execution_count": 90
    }
   ],
   "source": [
    "# concat avg with original features\n",
    "test_df = pd.concat([games_by_team['1610612743'], avg_features.set_index(games_by_team['1610612743'].index)], axis=1)\n",
    "test_df"
   ]
  },
  {
   "cell_type": "code",
   "execution_count": 95,
   "metadata": {},
   "outputs": [
    {
     "output_type": "execute_result",
     "data": {
      "text/plain": "                           _id        GAME_DATE_EST GAME_SEQUENCE     GAME_ID  \\\n16    5e8b3c9155dca7119bcd0eaf  2019-10-23T00:00:00             7  0021900009   \n42    5e8b3c9455dca7119bcd0ee3  2019-10-25T00:00:00             6  0021900022   \n64    5e8b3c9555dca7119bcd0f0f  2019-10-26T00:00:00             8  0021900033   \n121   5e8b3c9a55dca7119bcd0f82  2019-10-30T00:00:00             7  0021900061   \n159   5e8b3c9f55dca7119bcd0fce  2019-11-02T00:00:00             4  0021900080   \n...                        ...                  ...           ...         ...   \n1829  5e8c6c5c2371b2dbaa0b4b5c  2020-03-03T00:00:00             8  0021900916   \n1847  5e8c6c5d2371b2dbaa0b4b80  2020-03-04T00:00:00             9  0021900925   \n1858  5e8c6c602371b2dbaa0b4b98  2020-03-06T00:00:00             1  0021900930   \n1900  5e8c6c622371b2dbaa0b4bec  2020-03-08T00:00:00             6  0021900951   \n1920  5e8c6c652371b2dbaa0b4c14  2020-03-10T00:00:00             2  0021900961   \n\n         TEAM_ID TEAM_ABBREVIATION TEAM_CITY_NAME TEAM_NAME TEAM_WINS_LOSSES  \\\n16    1610612764               WAS     Washington   Wizards              0-1   \n42    1610612764               WAS     Washington   Wizards              1-1   \n64    1610612764               WAS     Washington   Wizards              1-2   \n121   1610612764               WAS     Washington   Wizards              1-3   \n159   1610612764               WAS     Washington   Wizards              1-4   \n...          ...               ...            ...       ...              ...   \n1829  1610612764               WAS     Washington   Wizards            22-38   \n1847  1610612764               WAS     Washington   Wizards            22-39   \n1858  1610612764               WAS     Washington   Wizards            23-39   \n1900  1610612764               WAS     Washington   Wizards            23-40   \n1920  1610612764               WAS     Washington   Wizards            24-40   \n\n      PTS_QTR1  ...  PTS_OT9_AVG  PTS_OT10_AVG     PTS_AVG  FG_PCT_AVG  \\\n16          25  ...          0.0           0.0  100.000000    0.398000   \n42          28  ...          0.0           0.0   98.500000    0.400000   \n64          26  ...          0.0           0.0  106.333333    0.431667   \n121         34  ...          0.0           0.0  119.250000    0.480250   \n159         34  ...          0.0           0.0  117.200000    0.462000   \n...        ...  ...          ...           ...         ...         ...   \n1829        23  ...          0.0           0.0  116.100000    0.465100   \n1847        30  ...          0.0           0.0  115.901639    0.463836   \n1858        33  ...          0.0           0.0  115.935484    0.464000   \n1900        23  ...          0.0           0.0  115.507937    0.461921   \n1920        36  ...          0.0           0.0  115.609375    0.462094   \n\n      FT_PCT_AVG  FG3_PCT_AVG    AST_AVG    REB_AVG    TOV_AVG  IS_WINNER_AVG  \n16      0.833000     0.268000  26.000000  47.000000  17.000000       0.000000  \n42      0.816500     0.268000  23.500000  47.000000  16.000000       0.500000  \n64      0.779667     0.335667  25.666667  45.000000  14.666667       0.333333  \n121     0.791750     0.390750  27.000000  43.750000  15.750000       0.250000  \n159     0.803800     0.381200  25.800000  42.800000  16.000000       0.200000  \n...          ...          ...        ...        ...        ...            ...  \n1829    0.781100     0.370400  25.466667  41.933333  13.416667       0.366667  \n1847    0.778443     0.369475  25.491803  42.032787  13.360656       0.360656  \n1858    0.780177     0.371323  25.467742  41.967742  13.403226       0.370968  \n1900    0.781397     0.371841  25.365079  41.761905  13.396825       0.365079  \n1920    0.782375     0.372281  25.328125  41.687500  13.437500       0.375000  \n\n[64 rows x 53 columns]",
      "text/html": "<div>\n<style scoped>\n    .dataframe tbody tr th:only-of-type {\n        vertical-align: middle;\n    }\n\n    .dataframe tbody tr th {\n        vertical-align: top;\n    }\n\n    .dataframe thead th {\n        text-align: right;\n    }\n</style>\n<table border=\"1\" class=\"dataframe\">\n  <thead>\n    <tr style=\"text-align: right;\">\n      <th></th>\n      <th>_id</th>\n      <th>GAME_DATE_EST</th>\n      <th>GAME_SEQUENCE</th>\n      <th>GAME_ID</th>\n      <th>TEAM_ID</th>\n      <th>TEAM_ABBREVIATION</th>\n      <th>TEAM_CITY_NAME</th>\n      <th>TEAM_NAME</th>\n      <th>TEAM_WINS_LOSSES</th>\n      <th>PTS_QTR1</th>\n      <th>...</th>\n      <th>PTS_OT9_AVG</th>\n      <th>PTS_OT10_AVG</th>\n      <th>PTS_AVG</th>\n      <th>FG_PCT_AVG</th>\n      <th>FT_PCT_AVG</th>\n      <th>FG3_PCT_AVG</th>\n      <th>AST_AVG</th>\n      <th>REB_AVG</th>\n      <th>TOV_AVG</th>\n      <th>IS_WINNER_AVG</th>\n    </tr>\n  </thead>\n  <tbody>\n    <tr>\n      <th>16</th>\n      <td>5e8b3c9155dca7119bcd0eaf</td>\n      <td>2019-10-23T00:00:00</td>\n      <td>7</td>\n      <td>0021900009</td>\n      <td>1610612764</td>\n      <td>WAS</td>\n      <td>Washington</td>\n      <td>Wizards</td>\n      <td>0-1</td>\n      <td>25</td>\n      <td>...</td>\n      <td>0.0</td>\n      <td>0.0</td>\n      <td>100.000000</td>\n      <td>0.398000</td>\n      <td>0.833000</td>\n      <td>0.268000</td>\n      <td>26.000000</td>\n      <td>47.000000</td>\n      <td>17.000000</td>\n      <td>0.000000</td>\n    </tr>\n    <tr>\n      <th>42</th>\n      <td>5e8b3c9455dca7119bcd0ee3</td>\n      <td>2019-10-25T00:00:00</td>\n      <td>6</td>\n      <td>0021900022</td>\n      <td>1610612764</td>\n      <td>WAS</td>\n      <td>Washington</td>\n      <td>Wizards</td>\n      <td>1-1</td>\n      <td>28</td>\n      <td>...</td>\n      <td>0.0</td>\n      <td>0.0</td>\n      <td>98.500000</td>\n      <td>0.400000</td>\n      <td>0.816500</td>\n      <td>0.268000</td>\n      <td>23.500000</td>\n      <td>47.000000</td>\n      <td>16.000000</td>\n      <td>0.500000</td>\n    </tr>\n    <tr>\n      <th>64</th>\n      <td>5e8b3c9555dca7119bcd0f0f</td>\n      <td>2019-10-26T00:00:00</td>\n      <td>8</td>\n      <td>0021900033</td>\n      <td>1610612764</td>\n      <td>WAS</td>\n      <td>Washington</td>\n      <td>Wizards</td>\n      <td>1-2</td>\n      <td>26</td>\n      <td>...</td>\n      <td>0.0</td>\n      <td>0.0</td>\n      <td>106.333333</td>\n      <td>0.431667</td>\n      <td>0.779667</td>\n      <td>0.335667</td>\n      <td>25.666667</td>\n      <td>45.000000</td>\n      <td>14.666667</td>\n      <td>0.333333</td>\n    </tr>\n    <tr>\n      <th>121</th>\n      <td>5e8b3c9a55dca7119bcd0f82</td>\n      <td>2019-10-30T00:00:00</td>\n      <td>7</td>\n      <td>0021900061</td>\n      <td>1610612764</td>\n      <td>WAS</td>\n      <td>Washington</td>\n      <td>Wizards</td>\n      <td>1-3</td>\n      <td>34</td>\n      <td>...</td>\n      <td>0.0</td>\n      <td>0.0</td>\n      <td>119.250000</td>\n      <td>0.480250</td>\n      <td>0.791750</td>\n      <td>0.390750</td>\n      <td>27.000000</td>\n      <td>43.750000</td>\n      <td>15.750000</td>\n      <td>0.250000</td>\n    </tr>\n    <tr>\n      <th>159</th>\n      <td>5e8b3c9f55dca7119bcd0fce</td>\n      <td>2019-11-02T00:00:00</td>\n      <td>4</td>\n      <td>0021900080</td>\n      <td>1610612764</td>\n      <td>WAS</td>\n      <td>Washington</td>\n      <td>Wizards</td>\n      <td>1-4</td>\n      <td>34</td>\n      <td>...</td>\n      <td>0.0</td>\n      <td>0.0</td>\n      <td>117.200000</td>\n      <td>0.462000</td>\n      <td>0.803800</td>\n      <td>0.381200</td>\n      <td>25.800000</td>\n      <td>42.800000</td>\n      <td>16.000000</td>\n      <td>0.200000</td>\n    </tr>\n    <tr>\n      <th>...</th>\n      <td>...</td>\n      <td>...</td>\n      <td>...</td>\n      <td>...</td>\n      <td>...</td>\n      <td>...</td>\n      <td>...</td>\n      <td>...</td>\n      <td>...</td>\n      <td>...</td>\n      <td>...</td>\n      <td>...</td>\n      <td>...</td>\n      <td>...</td>\n      <td>...</td>\n      <td>...</td>\n      <td>...</td>\n      <td>...</td>\n      <td>...</td>\n      <td>...</td>\n      <td>...</td>\n    </tr>\n    <tr>\n      <th>1829</th>\n      <td>5e8c6c5c2371b2dbaa0b4b5c</td>\n      <td>2020-03-03T00:00:00</td>\n      <td>8</td>\n      <td>0021900916</td>\n      <td>1610612764</td>\n      <td>WAS</td>\n      <td>Washington</td>\n      <td>Wizards</td>\n      <td>22-38</td>\n      <td>23</td>\n      <td>...</td>\n      <td>0.0</td>\n      <td>0.0</td>\n      <td>116.100000</td>\n      <td>0.465100</td>\n      <td>0.781100</td>\n      <td>0.370400</td>\n      <td>25.466667</td>\n      <td>41.933333</td>\n      <td>13.416667</td>\n      <td>0.366667</td>\n    </tr>\n    <tr>\n      <th>1847</th>\n      <td>5e8c6c5d2371b2dbaa0b4b80</td>\n      <td>2020-03-04T00:00:00</td>\n      <td>9</td>\n      <td>0021900925</td>\n      <td>1610612764</td>\n      <td>WAS</td>\n      <td>Washington</td>\n      <td>Wizards</td>\n      <td>22-39</td>\n      <td>30</td>\n      <td>...</td>\n      <td>0.0</td>\n      <td>0.0</td>\n      <td>115.901639</td>\n      <td>0.463836</td>\n      <td>0.778443</td>\n      <td>0.369475</td>\n      <td>25.491803</td>\n      <td>42.032787</td>\n      <td>13.360656</td>\n      <td>0.360656</td>\n    </tr>\n    <tr>\n      <th>1858</th>\n      <td>5e8c6c602371b2dbaa0b4b98</td>\n      <td>2020-03-06T00:00:00</td>\n      <td>1</td>\n      <td>0021900930</td>\n      <td>1610612764</td>\n      <td>WAS</td>\n      <td>Washington</td>\n      <td>Wizards</td>\n      <td>23-39</td>\n      <td>33</td>\n      <td>...</td>\n      <td>0.0</td>\n      <td>0.0</td>\n      <td>115.935484</td>\n      <td>0.464000</td>\n      <td>0.780177</td>\n      <td>0.371323</td>\n      <td>25.467742</td>\n      <td>41.967742</td>\n      <td>13.403226</td>\n      <td>0.370968</td>\n    </tr>\n    <tr>\n      <th>1900</th>\n      <td>5e8c6c622371b2dbaa0b4bec</td>\n      <td>2020-03-08T00:00:00</td>\n      <td>6</td>\n      <td>0021900951</td>\n      <td>1610612764</td>\n      <td>WAS</td>\n      <td>Washington</td>\n      <td>Wizards</td>\n      <td>23-40</td>\n      <td>23</td>\n      <td>...</td>\n      <td>0.0</td>\n      <td>0.0</td>\n      <td>115.507937</td>\n      <td>0.461921</td>\n      <td>0.781397</td>\n      <td>0.371841</td>\n      <td>25.365079</td>\n      <td>41.761905</td>\n      <td>13.396825</td>\n      <td>0.365079</td>\n    </tr>\n    <tr>\n      <th>1920</th>\n      <td>5e8c6c652371b2dbaa0b4c14</td>\n      <td>2020-03-10T00:00:00</td>\n      <td>2</td>\n      <td>0021900961</td>\n      <td>1610612764</td>\n      <td>WAS</td>\n      <td>Washington</td>\n      <td>Wizards</td>\n      <td>24-40</td>\n      <td>36</td>\n      <td>...</td>\n      <td>0.0</td>\n      <td>0.0</td>\n      <td>115.609375</td>\n      <td>0.462094</td>\n      <td>0.782375</td>\n      <td>0.372281</td>\n      <td>25.328125</td>\n      <td>41.687500</td>\n      <td>13.437500</td>\n      <td>0.375000</td>\n    </tr>\n  </tbody>\n</table>\n<p>64 rows × 53 columns</p>\n</div>"
     },
     "metadata": {},
     "execution_count": 95
    }
   ],
   "source": [
    "games_by_team['1610612764']"
   ]
  },
  {
   "cell_type": "code",
   "execution_count": 96,
   "metadata": {},
   "outputs": [
    {
     "output_type": "execute_result",
     "data": {
      "text/plain": "                      _id_x      GAME_DATE_EST_x GAME_SEQUENCE_x     GAME_ID  \\\n0  5e8b3cbf55dca7119bcd1281  2019-11-26T00:00:00               2  0021900252   \n1  5e8c6c0f2371b2dbaa0b453d  2020-01-04T00:00:00               6  0021900528   \n\n    TEAM_ID_x TEAM_ABBREVIATION_x TEAM_CITY_NAME_x TEAM_NAME_x  \\\n0  1610612743                 DEN           Denver     Nuggets   \n1  1610612743                 DEN           Denver     Nuggets   \n\n  TEAM_WINS_LOSSES_x  PTS_QTR1_x  ...  PTS_OT9_AVG_y  PTS_OT10_AVG_y  \\\n0               13-3          25  ...            0.0             0.0   \n1              24-11          19  ...            0.0             0.0   \n\n    PTS_AVG_y  FG_PCT_AVG_y  FT_PCT_AVG_y  FG3_PCT_AVG_y  AST_AVG_y  \\\n0  118.066667      0.477133      0.782267       0.371733  28.600000   \n1  116.114286      0.461486      0.786343       0.366486  25.971429   \n\n   REB_AVG_y  TOV_AVG_y  IS_WINNER_AVG_y  \n0  42.333333  14.066667         0.333333  \n1  42.171429  13.085714         0.314286  \n\n[2 rows x 105 columns]",
      "text/html": "<div>\n<style scoped>\n    .dataframe tbody tr th:only-of-type {\n        vertical-align: middle;\n    }\n\n    .dataframe tbody tr th {\n        vertical-align: top;\n    }\n\n    .dataframe thead th {\n        text-align: right;\n    }\n</style>\n<table border=\"1\" class=\"dataframe\">\n  <thead>\n    <tr style=\"text-align: right;\">\n      <th></th>\n      <th>_id_x</th>\n      <th>GAME_DATE_EST_x</th>\n      <th>GAME_SEQUENCE_x</th>\n      <th>GAME_ID</th>\n      <th>TEAM_ID_x</th>\n      <th>TEAM_ABBREVIATION_x</th>\n      <th>TEAM_CITY_NAME_x</th>\n      <th>TEAM_NAME_x</th>\n      <th>TEAM_WINS_LOSSES_x</th>\n      <th>PTS_QTR1_x</th>\n      <th>...</th>\n      <th>PTS_OT9_AVG_y</th>\n      <th>PTS_OT10_AVG_y</th>\n      <th>PTS_AVG_y</th>\n      <th>FG_PCT_AVG_y</th>\n      <th>FT_PCT_AVG_y</th>\n      <th>FG3_PCT_AVG_y</th>\n      <th>AST_AVG_y</th>\n      <th>REB_AVG_y</th>\n      <th>TOV_AVG_y</th>\n      <th>IS_WINNER_AVG_y</th>\n    </tr>\n  </thead>\n  <tbody>\n    <tr>\n      <th>0</th>\n      <td>5e8b3cbf55dca7119bcd1281</td>\n      <td>2019-11-26T00:00:00</td>\n      <td>2</td>\n      <td>0021900252</td>\n      <td>1610612743</td>\n      <td>DEN</td>\n      <td>Denver</td>\n      <td>Nuggets</td>\n      <td>13-3</td>\n      <td>25</td>\n      <td>...</td>\n      <td>0.0</td>\n      <td>0.0</td>\n      <td>118.066667</td>\n      <td>0.477133</td>\n      <td>0.782267</td>\n      <td>0.371733</td>\n      <td>28.600000</td>\n      <td>42.333333</td>\n      <td>14.066667</td>\n      <td>0.333333</td>\n    </tr>\n    <tr>\n      <th>1</th>\n      <td>5e8c6c0f2371b2dbaa0b453d</td>\n      <td>2020-01-04T00:00:00</td>\n      <td>6</td>\n      <td>0021900528</td>\n      <td>1610612743</td>\n      <td>DEN</td>\n      <td>Denver</td>\n      <td>Nuggets</td>\n      <td>24-11</td>\n      <td>19</td>\n      <td>...</td>\n      <td>0.0</td>\n      <td>0.0</td>\n      <td>116.114286</td>\n      <td>0.461486</td>\n      <td>0.786343</td>\n      <td>0.366486</td>\n      <td>25.971429</td>\n      <td>42.171429</td>\n      <td>13.085714</td>\n      <td>0.314286</td>\n    </tr>\n  </tbody>\n</table>\n<p>2 rows × 105 columns</p>\n</div>"
     },
     "metadata": {},
     "execution_count": 96
    }
   ],
   "source": [
    "test_result = pd.merge(games_by_team['1610612743'], games_by_team['1610612764'], on=['GAME_ID'])\n",
    "test_result"
   ]
  },
  {
   "cell_type": "code",
   "execution_count": 113,
   "metadata": {},
   "outputs": [
    {
     "output_type": "execute_result",
     "data": {
      "text/plain": "Empty DataFrame\nColumns: [GAME_ID, _id, GAME_DATE_EST, GAME_SEQUENCE, TEAM_ID, TEAM_ABBREVIATION, TEAM_CITY_NAME, TEAM_NAME, TEAM_WINS_LOSSES, PTS_QTR1, PTS_QTR2, PTS_QTR3, PTS_QTR4, PTS_OT1, PTS_OT2, PTS_OT3, PTS_OT4, PTS_OT5, PTS_OT6, PTS_OT7, PTS_OT8, PTS_OT9, PTS_OT10, PTS, FG_PCT, FT_PCT, FG3_PCT, AST, REB, TOV, IS_WINNER, PTS_QTR1_AVG, PTS_QTR2_AVG, PTS_QTR3_AVG, PTS_QTR4_AVG, PTS_OT1_AVG, PTS_OT2_AVG, PTS_OT3_AVG, PTS_OT4_AVG, PTS_OT5_AVG, PTS_OT6_AVG, PTS_OT7_AVG, PTS_OT8_AVG, PTS_OT9_AVG, PTS_OT10_AVG, PTS_AVG, FG_PCT_AVG, FT_PCT_AVG, FG3_PCT_AVG, AST_AVG, REB_AVG, TOV_AVG, IS_WINNER_AVG, _id, GAME_DATE_EST, GAME_SEQUENCE, TEAM_ID, TEAM_ABBREVIATION, TEAM_CITY_NAME, TEAM_NAME, TEAM_WINS_LOSSES, PTS_QTR1, PTS_QTR2, PTS_QTR3, PTS_QTR4, PTS_OT1, PTS_OT2, PTS_OT3, PTS_OT4, PTS_OT5, PTS_OT6, PTS_OT7, PTS_OT8, PTS_OT9, PTS_OT10, PTS, FG_PCT, FT_PCT, FG3_PCT, AST, REB, TOV, IS_WINNER, PTS_QTR1_AVG, PTS_QTR2_AVG, PTS_QTR3_AVG, PTS_QTR4_AVG, PTS_OT1_AVG, PTS_OT2_AVG, PTS_OT3_AVG, PTS_OT4_AVG, PTS_OT5_AVG, PTS_OT6_AVG, PTS_OT7_AVG, PTS_OT8_AVG, PTS_OT9_AVG, PTS_OT10_AVG, PTS_AVG, FG_PCT_AVG, FT_PCT_AVG, ...]\nIndex: []\n\n[0 rows x 1665 columns]",
      "text/html": "<div>\n<style scoped>\n    .dataframe tbody tr th:only-of-type {\n        vertical-align: middle;\n    }\n\n    .dataframe tbody tr th {\n        vertical-align: top;\n    }\n\n    .dataframe thead th {\n        text-align: right;\n    }\n</style>\n<table border=\"1\" class=\"dataframe\">\n  <thead>\n    <tr style=\"text-align: right;\">\n      <th></th>\n      <th>GAME_ID</th>\n      <th>_id</th>\n      <th>GAME_DATE_EST</th>\n      <th>GAME_SEQUENCE</th>\n      <th>TEAM_ID</th>\n      <th>TEAM_ABBREVIATION</th>\n      <th>TEAM_CITY_NAME</th>\n      <th>TEAM_NAME</th>\n      <th>TEAM_WINS_LOSSES</th>\n      <th>PTS_QTR1</th>\n      <th>...</th>\n      <th>PTS_OT9_AVG</th>\n      <th>PTS_OT10_AVG</th>\n      <th>PTS_AVG</th>\n      <th>FG_PCT_AVG</th>\n      <th>FT_PCT_AVG</th>\n      <th>FG3_PCT_AVG</th>\n      <th>AST_AVG</th>\n      <th>REB_AVG</th>\n      <th>TOV_AVG</th>\n      <th>IS_WINNER_AVG</th>\n    </tr>\n  </thead>\n  <tbody>\n  </tbody>\n</table>\n<p>0 rows × 1665 columns</p>\n</div>"
     },
     "metadata": {},
     "execution_count": 113
    }
   ],
   "source": [
    "dfs = list(games_by_team.values())\n",
    "#dfs = [df.set_index('GAME_ID') for df in dfs]\n",
    "#pd.concat([df.set_index('GAME_ID') for df in dfs], axis=1, join='inner').reset_index()"
   ]
  },
  {
   "cell_type": "code",
   "execution_count": 168,
   "metadata": {},
   "outputs": [
    {
     "output_type": "execute_result",
     "data": {
      "text/plain": "                           _id        GAME_DATE_EST GAME_SEQUENCE     GAME_ID  \\\n0     5e8b3c9055dca7119bcd0e8f  2019-10-22T00:00:00             1  0021900001   \n41    5e8b3c9455dca7119bcd0ee1  2019-10-25T00:00:00             5  0021900021   \n62    5e8b3c9555dca7119bcd0f0b  2019-10-26T00:00:00             7  0021900032   \n93    5e8b3c9855dca7119bcd0f49  2019-10-28T00:00:00             7  0021900047   \n133   5e8b3c9c55dca7119bcd0f9a  2019-10-31T00:00:00             2  0021900067   \n...                        ...                  ...           ...         ...   \n1856  5e8c6c5f2371b2dbaa0b4b94  2020-03-05T00:00:00             4  0021900929   \n1886  5e8c6c602371b2dbaa0b4bd0  2020-03-07T00:00:00             5  0021900944   \n1932  5e8c6c652371b2dbaa0b4c2c  2020-03-10T00:00:00             8  0021900967   \n1636  5e8c6c462371b2dbaa0b49d5  2020-02-16T00:00:00             1  0031900001   \n1943  5e8cc2f5fe274128a4fb69e9  2020-02-16T00:00:00             1  0031900001   \n\n         TEAM_ID TEAM_ABBREVIATION TEAM_CITY_NAME TEAM_NAME TEAM_WINS_LOSSES  \\\n0     1610612740               NOP    New Orleans  Pelicans              0-1   \n41    1610612740               NOP    New Orleans  Pelicans              0-2   \n62    1610612740               NOP    New Orleans  Pelicans              0-3   \n93    1610612740               NOP    New Orleans  Pelicans              0-4   \n133   1610612740               NOP    New Orleans  Pelicans              1-4   \n...          ...               ...            ...       ...              ...   \n1856  1610612744               GSW   Golden State  Warriors            14-49   \n1886  1610612744               GSW   Golden State  Warriors            15-49   \n1932  1610612744               GSW   Golden State  Warriors            15-50   \n1636  1610616833               GNS           Team   Giannis              0-1   \n1943  1610616834               LBN           Team    LeBron              1-0   \n\n      PTS_QTR1  ...  PTS_OT9_AVG  PTS_OT10_AVG     PTS_AVG  FG_PCT_AVG  \\\n0           30  ...          0.0           0.0  122.000000    0.422000   \n41          41  ...          0.0           0.0  119.000000    0.440500   \n62          24  ...          0.0           0.0  120.333333    0.447000   \n93          23  ...          0.0           0.0  121.000000    0.451750   \n133         32  ...          0.0           0.0  121.200000    0.467800   \n...        ...  ...          ...           ...         ...         ...   \n1856        27  ...          0.0           0.0  106.142857    0.436810   \n1886        21  ...          0.0           0.0  106.328125    0.438578   \n1932        26  ...          0.0           0.0  106.338462    0.439031   \n1636        41  ...          0.0           0.0  155.000000    0.537000   \n1943        53  ...          0.0           0.0  157.000000    0.500000   \n\n      FT_PCT_AVG  FG3_PCT_AVG    AST_AVG    REB_AVG    TOV_AVG  IS_WINNER_AVG  \n0       0.850000     0.422000  30.000000  53.000000  19.000000       0.000000  \n41      0.791500     0.394000  30.000000  50.500000  16.500000       0.000000  \n62      0.798667     0.382667  29.000000  47.666667  16.666667       0.000000  \n93      0.735250     0.366750  30.750000  46.000000  16.250000       0.000000  \n133     0.744400     0.384400  30.600000  44.200000  16.000000       0.200000  \n...          ...          ...        ...        ...        ...            ...  \n1856    0.800746     0.331984  25.523810  43.095238  14.507937       0.222222  \n1886    0.799953     0.332422  25.593750  42.968750  14.390625       0.234375  \n1932    0.800185     0.331754  25.584615  42.846154  14.307692       0.230769  \n1636    0.632000     0.275000  38.000000  61.000000  21.000000       0.000000  \n1943    0.550000     0.343000  39.000000  49.000000  18.000000       1.000000  \n\n[1944 rows x 53 columns]",
      "text/html": "<div>\n<style scoped>\n    .dataframe tbody tr th:only-of-type {\n        vertical-align: middle;\n    }\n\n    .dataframe tbody tr th {\n        vertical-align: top;\n    }\n\n    .dataframe thead th {\n        text-align: right;\n    }\n</style>\n<table border=\"1\" class=\"dataframe\">\n  <thead>\n    <tr style=\"text-align: right;\">\n      <th></th>\n      <th>_id</th>\n      <th>GAME_DATE_EST</th>\n      <th>GAME_SEQUENCE</th>\n      <th>GAME_ID</th>\n      <th>TEAM_ID</th>\n      <th>TEAM_ABBREVIATION</th>\n      <th>TEAM_CITY_NAME</th>\n      <th>TEAM_NAME</th>\n      <th>TEAM_WINS_LOSSES</th>\n      <th>PTS_QTR1</th>\n      <th>...</th>\n      <th>PTS_OT9_AVG</th>\n      <th>PTS_OT10_AVG</th>\n      <th>PTS_AVG</th>\n      <th>FG_PCT_AVG</th>\n      <th>FT_PCT_AVG</th>\n      <th>FG3_PCT_AVG</th>\n      <th>AST_AVG</th>\n      <th>REB_AVG</th>\n      <th>TOV_AVG</th>\n      <th>IS_WINNER_AVG</th>\n    </tr>\n  </thead>\n  <tbody>\n    <tr>\n      <th>0</th>\n      <td>5e8b3c9055dca7119bcd0e8f</td>\n      <td>2019-10-22T00:00:00</td>\n      <td>1</td>\n      <td>0021900001</td>\n      <td>1610612740</td>\n      <td>NOP</td>\n      <td>New Orleans</td>\n      <td>Pelicans</td>\n      <td>0-1</td>\n      <td>30</td>\n      <td>...</td>\n      <td>0.0</td>\n      <td>0.0</td>\n      <td>122.000000</td>\n      <td>0.422000</td>\n      <td>0.850000</td>\n      <td>0.422000</td>\n      <td>30.000000</td>\n      <td>53.000000</td>\n      <td>19.000000</td>\n      <td>0.000000</td>\n    </tr>\n    <tr>\n      <th>41</th>\n      <td>5e8b3c9455dca7119bcd0ee1</td>\n      <td>2019-10-25T00:00:00</td>\n      <td>5</td>\n      <td>0021900021</td>\n      <td>1610612740</td>\n      <td>NOP</td>\n      <td>New Orleans</td>\n      <td>Pelicans</td>\n      <td>0-2</td>\n      <td>41</td>\n      <td>...</td>\n      <td>0.0</td>\n      <td>0.0</td>\n      <td>119.000000</td>\n      <td>0.440500</td>\n      <td>0.791500</td>\n      <td>0.394000</td>\n      <td>30.000000</td>\n      <td>50.500000</td>\n      <td>16.500000</td>\n      <td>0.000000</td>\n    </tr>\n    <tr>\n      <th>62</th>\n      <td>5e8b3c9555dca7119bcd0f0b</td>\n      <td>2019-10-26T00:00:00</td>\n      <td>7</td>\n      <td>0021900032</td>\n      <td>1610612740</td>\n      <td>NOP</td>\n      <td>New Orleans</td>\n      <td>Pelicans</td>\n      <td>0-3</td>\n      <td>24</td>\n      <td>...</td>\n      <td>0.0</td>\n      <td>0.0</td>\n      <td>120.333333</td>\n      <td>0.447000</td>\n      <td>0.798667</td>\n      <td>0.382667</td>\n      <td>29.000000</td>\n      <td>47.666667</td>\n      <td>16.666667</td>\n      <td>0.000000</td>\n    </tr>\n    <tr>\n      <th>93</th>\n      <td>5e8b3c9855dca7119bcd0f49</td>\n      <td>2019-10-28T00:00:00</td>\n      <td>7</td>\n      <td>0021900047</td>\n      <td>1610612740</td>\n      <td>NOP</td>\n      <td>New Orleans</td>\n      <td>Pelicans</td>\n      <td>0-4</td>\n      <td>23</td>\n      <td>...</td>\n      <td>0.0</td>\n      <td>0.0</td>\n      <td>121.000000</td>\n      <td>0.451750</td>\n      <td>0.735250</td>\n      <td>0.366750</td>\n      <td>30.750000</td>\n      <td>46.000000</td>\n      <td>16.250000</td>\n      <td>0.000000</td>\n    </tr>\n    <tr>\n      <th>133</th>\n      <td>5e8b3c9c55dca7119bcd0f9a</td>\n      <td>2019-10-31T00:00:00</td>\n      <td>2</td>\n      <td>0021900067</td>\n      <td>1610612740</td>\n      <td>NOP</td>\n      <td>New Orleans</td>\n      <td>Pelicans</td>\n      <td>1-4</td>\n      <td>32</td>\n      <td>...</td>\n      <td>0.0</td>\n      <td>0.0</td>\n      <td>121.200000</td>\n      <td>0.467800</td>\n      <td>0.744400</td>\n      <td>0.384400</td>\n      <td>30.600000</td>\n      <td>44.200000</td>\n      <td>16.000000</td>\n      <td>0.200000</td>\n    </tr>\n    <tr>\n      <th>...</th>\n      <td>...</td>\n      <td>...</td>\n      <td>...</td>\n      <td>...</td>\n      <td>...</td>\n      <td>...</td>\n      <td>...</td>\n      <td>...</td>\n      <td>...</td>\n      <td>...</td>\n      <td>...</td>\n      <td>...</td>\n      <td>...</td>\n      <td>...</td>\n      <td>...</td>\n      <td>...</td>\n      <td>...</td>\n      <td>...</td>\n      <td>...</td>\n      <td>...</td>\n      <td>...</td>\n    </tr>\n    <tr>\n      <th>1856</th>\n      <td>5e8c6c5f2371b2dbaa0b4b94</td>\n      <td>2020-03-05T00:00:00</td>\n      <td>4</td>\n      <td>0021900929</td>\n      <td>1610612744</td>\n      <td>GSW</td>\n      <td>Golden State</td>\n      <td>Warriors</td>\n      <td>14-49</td>\n      <td>27</td>\n      <td>...</td>\n      <td>0.0</td>\n      <td>0.0</td>\n      <td>106.142857</td>\n      <td>0.436810</td>\n      <td>0.800746</td>\n      <td>0.331984</td>\n      <td>25.523810</td>\n      <td>43.095238</td>\n      <td>14.507937</td>\n      <td>0.222222</td>\n    </tr>\n    <tr>\n      <th>1886</th>\n      <td>5e8c6c602371b2dbaa0b4bd0</td>\n      <td>2020-03-07T00:00:00</td>\n      <td>5</td>\n      <td>0021900944</td>\n      <td>1610612744</td>\n      <td>GSW</td>\n      <td>Golden State</td>\n      <td>Warriors</td>\n      <td>15-49</td>\n      <td>21</td>\n      <td>...</td>\n      <td>0.0</td>\n      <td>0.0</td>\n      <td>106.328125</td>\n      <td>0.438578</td>\n      <td>0.799953</td>\n      <td>0.332422</td>\n      <td>25.593750</td>\n      <td>42.968750</td>\n      <td>14.390625</td>\n      <td>0.234375</td>\n    </tr>\n    <tr>\n      <th>1932</th>\n      <td>5e8c6c652371b2dbaa0b4c2c</td>\n      <td>2020-03-10T00:00:00</td>\n      <td>8</td>\n      <td>0021900967</td>\n      <td>1610612744</td>\n      <td>GSW</td>\n      <td>Golden State</td>\n      <td>Warriors</td>\n      <td>15-50</td>\n      <td>26</td>\n      <td>...</td>\n      <td>0.0</td>\n      <td>0.0</td>\n      <td>106.338462</td>\n      <td>0.439031</td>\n      <td>0.800185</td>\n      <td>0.331754</td>\n      <td>25.584615</td>\n      <td>42.846154</td>\n      <td>14.307692</td>\n      <td>0.230769</td>\n    </tr>\n    <tr>\n      <th>1636</th>\n      <td>5e8c6c462371b2dbaa0b49d5</td>\n      <td>2020-02-16T00:00:00</td>\n      <td>1</td>\n      <td>0031900001</td>\n      <td>1610616833</td>\n      <td>GNS</td>\n      <td>Team</td>\n      <td>Giannis</td>\n      <td>0-1</td>\n      <td>41</td>\n      <td>...</td>\n      <td>0.0</td>\n      <td>0.0</td>\n      <td>155.000000</td>\n      <td>0.537000</td>\n      <td>0.632000</td>\n      <td>0.275000</td>\n      <td>38.000000</td>\n      <td>61.000000</td>\n      <td>21.000000</td>\n      <td>0.000000</td>\n    </tr>\n    <tr>\n      <th>1943</th>\n      <td>5e8cc2f5fe274128a4fb69e9</td>\n      <td>2020-02-16T00:00:00</td>\n      <td>1</td>\n      <td>0031900001</td>\n      <td>1610616834</td>\n      <td>LBN</td>\n      <td>Team</td>\n      <td>LeBron</td>\n      <td>1-0</td>\n      <td>53</td>\n      <td>...</td>\n      <td>0.0</td>\n      <td>0.0</td>\n      <td>157.000000</td>\n      <td>0.500000</td>\n      <td>0.550000</td>\n      <td>0.343000</td>\n      <td>39.000000</td>\n      <td>49.000000</td>\n      <td>18.000000</td>\n      <td>1.000000</td>\n    </tr>\n  </tbody>\n</table>\n<p>1944 rows × 53 columns</p>\n</div>"
     },
     "metadata": {},
     "execution_count": 168
    }
   ],
   "source": [
    "games_df_extended"
   ]
  },
  {
   "cell_type": "code",
   "execution_count": 167,
   "metadata": {},
   "outputs": [
    {
     "output_type": "stream",
     "name": "stdout",
     "text": "(1944, 53)\n"
    },
    {
     "output_type": "execute_result",
     "data": {
      "text/plain": "Index(['_id', 'GAME_DATE_EST', 'GAME_SEQUENCE', 'TEAM_ID', 'TEAM_ABBREVIATION',\n       'TEAM_CITY_NAME', 'TEAM_NAME', 'TEAM_WINS_LOSSES', 'PTS_QTR1',\n       'PTS_QTR2', 'PTS_QTR3', 'PTS_QTR4', 'PTS_OT1', 'PTS_OT2', 'PTS_OT3',\n       'PTS_OT4', 'PTS_OT5', 'PTS_OT6', 'PTS_OT7', 'PTS_OT8', 'PTS_OT9',\n       'PTS_OT10', 'PTS', 'FG_PCT', 'FT_PCT', 'FG3_PCT', 'AST', 'REB', 'TOV',\n       'IS_WINNER', 'PTS_QTR1_AVG', 'PTS_QTR2_AVG', 'PTS_QTR3_AVG',\n       'PTS_QTR4_AVG', 'PTS_OT1_AVG', 'PTS_OT2_AVG', 'PTS_OT3_AVG',\n       'PTS_OT4_AVG', 'PTS_OT5_AVG', 'PTS_OT6_AVG', 'PTS_OT7_AVG',\n       'PTS_OT8_AVG', 'PTS_OT9_AVG', 'PTS_OT10_AVG', 'PTS_AVG', 'FG_PCT_AVG',\n       'FT_PCT_AVG', 'FG3_PCT_AVG', 'AST_AVG', 'REB_AVG', 'TOV_AVG',\n       'IS_WINNER_AVG'],\n      dtype='object')"
     },
     "metadata": {},
     "execution_count": 167
    }
   ],
   "source": [
    "# Consolidate data into one df\n",
    "games_df_extended = pd.concat(dfs, axis=0)\n",
    "print(games_df_extended.shape)\n",
    "\n",
    "# group by GAME_ID to merge \n",
    "#games_df_final = games_df_extended.groupby('GAME_ID').nth(0)\n",
    "games_df_final = games_df_extended.groupby('GAME_ID').nth(0)\n",
    "games_df_final.columns"
   ]
  },
  {
   "cell_type": "code",
   "execution_count": 162,
   "metadata": {},
   "outputs": [
    {
     "output_type": "execute_result",
     "data": {
      "text/plain": "972"
     },
     "metadata": {},
     "execution_count": 162
    }
   ],
   "source": [
    "games_df['GAME_ID'].nunique()"
   ]
  },
  {
   "cell_type": "code",
   "execution_count": 181,
   "metadata": {},
   "outputs": [
    {
     "output_type": "execute_result",
     "data": {
      "text/plain": "                      _id_HOME   GAME_DATE_EST_HOME GAME_SEQUENCE_HOME  \\\n0     5e8b3c9055dca7119bcd0e8f  2019-10-22T00:00:00                  1   \n4     5e8b3c9455dca7119bcd0ee1  2019-10-25T00:00:00                  5   \n8     5e8b3c9555dca7119bcd0f0b  2019-10-26T00:00:00                  7   \n12    5e8b3c9855dca7119bcd0f49  2019-10-28T00:00:00                  7   \n16    5e8b3c9c55dca7119bcd0f9a  2019-10-31T00:00:00                  2   \n...                        ...                  ...                ...   \n3868  5e8c6c142371b2dbaa0b45c7  2020-01-08T00:00:00                  9   \n3872  5e8b3ca355dca7119bcd103a  2019-11-06T00:00:00                  5   \n3876  5e8c6c012371b2dbaa0b441d  2019-12-25T00:00:00                  3   \n3880  5e8c6c4c2371b2dbaa0b49ee  2020-02-20T00:00:00                  6   \n3884  5e8c6c462371b2dbaa0b49d5  2020-02-16T00:00:00                  1   \n\n         GAME_ID TEAM_ID_HOME TEAM_ABBREVIATION_HOME TEAM_CITY_NAME_HOME  \\\n0     0021900001   1610612740                    NOP         New Orleans   \n4     0021900021   1610612740                    NOP         New Orleans   \n8     0021900032   1610612740                    NOP         New Orleans   \n12    0021900047   1610612740                    NOP         New Orleans   \n16    0021900067   1610612740                    NOP         New Orleans   \n...          ...          ...                    ...                 ...   \n3868  0021900562   1610612749                    MIL           Milwaukee   \n3872  0021900107   1610612745                    HOU             Houston   \n3876  0021900457   1610612745                    HOU             Houston   \n3880  0021900825   1610612745                    HOU             Houston   \n3884  0031900001   1610616833                    GNS                Team   \n\n     TEAM_NAME_HOME TEAM_WINS_LOSSES_HOME  PTS_QTR1_HOME  ...  \\\n0          Pelicans                   0-1             30  ...   \n4          Pelicans                   0-2             41  ...   \n8          Pelicans                   0-3             24  ...   \n12         Pelicans                   0-4             23  ...   \n16         Pelicans                   1-4             32  ...   \n...             ...                   ...            ...  ...   \n3868          Bucks                  33-6             19  ...   \n3872        Rockets                   5-3             30  ...   \n3876        Rockets                 21-10             29  ...   \n3880        Rockets                 35-20             38  ...   \n3884        Giannis                   0-1             41  ...   \n\n      PTS_OT9_AVG_AWAY  PTS_OT10_AVG_AWAY  PTS_AVG_AWAY  FG_PCT_AVG_AWAY  \\\n0                  0.0                0.0    122.000000         0.422000   \n4                  0.0                0.0    119.000000         0.440500   \n8                  0.0                0.0    120.333333         0.447000   \n12                 0.0                0.0    121.000000         0.451750   \n16                 0.0                0.0    121.200000         0.467800   \n...                ...                ...           ...              ...   \n3868               0.0                0.0    118.923077         0.480359   \n3872               0.0                0.0    120.500000         0.433500   \n3876               0.0                0.0    119.677419         0.453161   \n3880               0.0                0.0    118.472727         0.453491   \n3884               0.0                0.0    155.000000         0.537000   \n\n      FT_PCT_AVG_AWAY  FG3_PCT_AVG_AWAY  AST_AVG_AWAY  REB_AVG_AWAY  \\\n0            0.850000          0.422000     30.000000     53.000000   \n4            0.791500          0.394000     30.000000     50.500000   \n8            0.798667          0.382667     29.000000     47.666667   \n12           0.735250          0.366750     30.750000     46.000000   \n16           0.744400          0.384400     30.600000     44.200000   \n...               ...               ...           ...           ...   \n3868         0.729949          0.355333     25.871795     51.384615   \n3872         0.773875          0.328000     24.750000     45.625000   \n3876         0.798581          0.349613     21.548387     47.258065   \n3880         0.792291          0.351236     21.545455     45.454545   \n3884         0.632000          0.275000     38.000000     61.000000   \n\n      TOV_AVG_AWAY  IS_WINNER_AVG_AWAY  \n0        19.000000            0.000000  \n4        16.500000            0.000000  \n8        16.666667            0.000000  \n12       16.250000            0.000000  \n16       16.000000            0.200000  \n...            ...                 ...  \n3868     14.102564            0.846154  \n3872     15.500000            0.625000  \n3876     14.645161            0.677419  \n3880     14.018182            0.636364  \n3884     21.000000            0.000000  \n\n[972 rows x 105 columns]",
      "text/html": "<div>\n<style scoped>\n    .dataframe tbody tr th:only-of-type {\n        vertical-align: middle;\n    }\n\n    .dataframe tbody tr th {\n        vertical-align: top;\n    }\n\n    .dataframe thead th {\n        text-align: right;\n    }\n</style>\n<table border=\"1\" class=\"dataframe\">\n  <thead>\n    <tr style=\"text-align: right;\">\n      <th></th>\n      <th>_id_HOME</th>\n      <th>GAME_DATE_EST_HOME</th>\n      <th>GAME_SEQUENCE_HOME</th>\n      <th>GAME_ID</th>\n      <th>TEAM_ID_HOME</th>\n      <th>TEAM_ABBREVIATION_HOME</th>\n      <th>TEAM_CITY_NAME_HOME</th>\n      <th>TEAM_NAME_HOME</th>\n      <th>TEAM_WINS_LOSSES_HOME</th>\n      <th>PTS_QTR1_HOME</th>\n      <th>...</th>\n      <th>PTS_OT9_AVG_AWAY</th>\n      <th>PTS_OT10_AVG_AWAY</th>\n      <th>PTS_AVG_AWAY</th>\n      <th>FG_PCT_AVG_AWAY</th>\n      <th>FT_PCT_AVG_AWAY</th>\n      <th>FG3_PCT_AVG_AWAY</th>\n      <th>AST_AVG_AWAY</th>\n      <th>REB_AVG_AWAY</th>\n      <th>TOV_AVG_AWAY</th>\n      <th>IS_WINNER_AVG_AWAY</th>\n    </tr>\n  </thead>\n  <tbody>\n    <tr>\n      <th>0</th>\n      <td>5e8b3c9055dca7119bcd0e8f</td>\n      <td>2019-10-22T00:00:00</td>\n      <td>1</td>\n      <td>0021900001</td>\n      <td>1610612740</td>\n      <td>NOP</td>\n      <td>New Orleans</td>\n      <td>Pelicans</td>\n      <td>0-1</td>\n      <td>30</td>\n      <td>...</td>\n      <td>0.0</td>\n      <td>0.0</td>\n      <td>122.000000</td>\n      <td>0.422000</td>\n      <td>0.850000</td>\n      <td>0.422000</td>\n      <td>30.000000</td>\n      <td>53.000000</td>\n      <td>19.000000</td>\n      <td>0.000000</td>\n    </tr>\n    <tr>\n      <th>4</th>\n      <td>5e8b3c9455dca7119bcd0ee1</td>\n      <td>2019-10-25T00:00:00</td>\n      <td>5</td>\n      <td>0021900021</td>\n      <td>1610612740</td>\n      <td>NOP</td>\n      <td>New Orleans</td>\n      <td>Pelicans</td>\n      <td>0-2</td>\n      <td>41</td>\n      <td>...</td>\n      <td>0.0</td>\n      <td>0.0</td>\n      <td>119.000000</td>\n      <td>0.440500</td>\n      <td>0.791500</td>\n      <td>0.394000</td>\n      <td>30.000000</td>\n      <td>50.500000</td>\n      <td>16.500000</td>\n      <td>0.000000</td>\n    </tr>\n    <tr>\n      <th>8</th>\n      <td>5e8b3c9555dca7119bcd0f0b</td>\n      <td>2019-10-26T00:00:00</td>\n      <td>7</td>\n      <td>0021900032</td>\n      <td>1610612740</td>\n      <td>NOP</td>\n      <td>New Orleans</td>\n      <td>Pelicans</td>\n      <td>0-3</td>\n      <td>24</td>\n      <td>...</td>\n      <td>0.0</td>\n      <td>0.0</td>\n      <td>120.333333</td>\n      <td>0.447000</td>\n      <td>0.798667</td>\n      <td>0.382667</td>\n      <td>29.000000</td>\n      <td>47.666667</td>\n      <td>16.666667</td>\n      <td>0.000000</td>\n    </tr>\n    <tr>\n      <th>12</th>\n      <td>5e8b3c9855dca7119bcd0f49</td>\n      <td>2019-10-28T00:00:00</td>\n      <td>7</td>\n      <td>0021900047</td>\n      <td>1610612740</td>\n      <td>NOP</td>\n      <td>New Orleans</td>\n      <td>Pelicans</td>\n      <td>0-4</td>\n      <td>23</td>\n      <td>...</td>\n      <td>0.0</td>\n      <td>0.0</td>\n      <td>121.000000</td>\n      <td>0.451750</td>\n      <td>0.735250</td>\n      <td>0.366750</td>\n      <td>30.750000</td>\n      <td>46.000000</td>\n      <td>16.250000</td>\n      <td>0.000000</td>\n    </tr>\n    <tr>\n      <th>16</th>\n      <td>5e8b3c9c55dca7119bcd0f9a</td>\n      <td>2019-10-31T00:00:00</td>\n      <td>2</td>\n      <td>0021900067</td>\n      <td>1610612740</td>\n      <td>NOP</td>\n      <td>New Orleans</td>\n      <td>Pelicans</td>\n      <td>1-4</td>\n      <td>32</td>\n      <td>...</td>\n      <td>0.0</td>\n      <td>0.0</td>\n      <td>121.200000</td>\n      <td>0.467800</td>\n      <td>0.744400</td>\n      <td>0.384400</td>\n      <td>30.600000</td>\n      <td>44.200000</td>\n      <td>16.000000</td>\n      <td>0.200000</td>\n    </tr>\n    <tr>\n      <th>...</th>\n      <td>...</td>\n      <td>...</td>\n      <td>...</td>\n      <td>...</td>\n      <td>...</td>\n      <td>...</td>\n      <td>...</td>\n      <td>...</td>\n      <td>...</td>\n      <td>...</td>\n      <td>...</td>\n      <td>...</td>\n      <td>...</td>\n      <td>...</td>\n      <td>...</td>\n      <td>...</td>\n      <td>...</td>\n      <td>...</td>\n      <td>...</td>\n      <td>...</td>\n      <td>...</td>\n    </tr>\n    <tr>\n      <th>3868</th>\n      <td>5e8c6c142371b2dbaa0b45c7</td>\n      <td>2020-01-08T00:00:00</td>\n      <td>9</td>\n      <td>0021900562</td>\n      <td>1610612749</td>\n      <td>MIL</td>\n      <td>Milwaukee</td>\n      <td>Bucks</td>\n      <td>33-6</td>\n      <td>19</td>\n      <td>...</td>\n      <td>0.0</td>\n      <td>0.0</td>\n      <td>118.923077</td>\n      <td>0.480359</td>\n      <td>0.729949</td>\n      <td>0.355333</td>\n      <td>25.871795</td>\n      <td>51.384615</td>\n      <td>14.102564</td>\n      <td>0.846154</td>\n    </tr>\n    <tr>\n      <th>3872</th>\n      <td>5e8b3ca355dca7119bcd103a</td>\n      <td>2019-11-06T00:00:00</td>\n      <td>5</td>\n      <td>0021900107</td>\n      <td>1610612745</td>\n      <td>HOU</td>\n      <td>Houston</td>\n      <td>Rockets</td>\n      <td>5-3</td>\n      <td>30</td>\n      <td>...</td>\n      <td>0.0</td>\n      <td>0.0</td>\n      <td>120.500000</td>\n      <td>0.433500</td>\n      <td>0.773875</td>\n      <td>0.328000</td>\n      <td>24.750000</td>\n      <td>45.625000</td>\n      <td>15.500000</td>\n      <td>0.625000</td>\n    </tr>\n    <tr>\n      <th>3876</th>\n      <td>5e8c6c012371b2dbaa0b441d</td>\n      <td>2019-12-25T00:00:00</td>\n      <td>3</td>\n      <td>0021900457</td>\n      <td>1610612745</td>\n      <td>HOU</td>\n      <td>Houston</td>\n      <td>Rockets</td>\n      <td>21-10</td>\n      <td>29</td>\n      <td>...</td>\n      <td>0.0</td>\n      <td>0.0</td>\n      <td>119.677419</td>\n      <td>0.453161</td>\n      <td>0.798581</td>\n      <td>0.349613</td>\n      <td>21.548387</td>\n      <td>47.258065</td>\n      <td>14.645161</td>\n      <td>0.677419</td>\n    </tr>\n    <tr>\n      <th>3880</th>\n      <td>5e8c6c4c2371b2dbaa0b49ee</td>\n      <td>2020-02-20T00:00:00</td>\n      <td>6</td>\n      <td>0021900825</td>\n      <td>1610612745</td>\n      <td>HOU</td>\n      <td>Houston</td>\n      <td>Rockets</td>\n      <td>35-20</td>\n      <td>38</td>\n      <td>...</td>\n      <td>0.0</td>\n      <td>0.0</td>\n      <td>118.472727</td>\n      <td>0.453491</td>\n      <td>0.792291</td>\n      <td>0.351236</td>\n      <td>21.545455</td>\n      <td>45.454545</td>\n      <td>14.018182</td>\n      <td>0.636364</td>\n    </tr>\n    <tr>\n      <th>3884</th>\n      <td>5e8c6c462371b2dbaa0b49d5</td>\n      <td>2020-02-16T00:00:00</td>\n      <td>1</td>\n      <td>0031900001</td>\n      <td>1610616833</td>\n      <td>GNS</td>\n      <td>Team</td>\n      <td>Giannis</td>\n      <td>0-1</td>\n      <td>41</td>\n      <td>...</td>\n      <td>0.0</td>\n      <td>0.0</td>\n      <td>155.000000</td>\n      <td>0.537000</td>\n      <td>0.632000</td>\n      <td>0.275000</td>\n      <td>38.000000</td>\n      <td>61.000000</td>\n      <td>21.000000</td>\n      <td>0.000000</td>\n    </tr>\n  </tbody>\n</table>\n<p>972 rows × 105 columns</p>\n</div>"
     },
     "metadata": {},
     "execution_count": 181
    }
   ],
   "source": [
    "games_df_final = pd.merge(games_df_extended, games_df_extended, on='GAME_ID', how='inner', suffixes=('_HOME', '_AWAY')).drop_duplicates(subset=['GAME_ID'], keep='first')\n",
    "games_df_final"
   ]
  },
  {
   "cell_type": "markdown",
   "metadata": {},
   "source": [
    "### Benchmark Model"
   ]
  },
  {
   "cell_type": "code",
   "execution_count": 188,
   "metadata": {},
   "outputs": [
    {
     "output_type": "execute_result",
     "data": {
      "text/plain": "['PTS_QTR1_AVG_HOME',\n 'PTS_QTR2_AVG_HOME',\n 'PTS_QTR3_AVG_HOME',\n 'PTS_QTR4_AVG_HOME',\n 'PTS_OT1_AVG_HOME',\n 'PTS_OT2_AVG_HOME',\n 'PTS_OT3_AVG_HOME',\n 'PTS_OT4_AVG_HOME',\n 'PTS_OT5_AVG_HOME',\n 'PTS_OT6_AVG_HOME',\n 'PTS_OT7_AVG_HOME',\n 'PTS_OT8_AVG_HOME',\n 'PTS_OT9_AVG_HOME',\n 'PTS_OT10_AVG_HOME',\n 'PTS_AVG_HOME',\n 'FG_PCT_AVG_HOME',\n 'FT_PCT_AVG_HOME',\n 'FG3_PCT_AVG_HOME',\n 'AST_AVG_HOME',\n 'REB_AVG_HOME',\n 'TOV_AVG_HOME',\n 'IS_WINNER_AVG_HOME',\n 'PTS_QTR1_AVG_AWAY',\n 'PTS_QTR2_AVG_AWAY',\n 'PTS_QTR3_AVG_AWAY',\n 'PTS_QTR4_AVG_AWAY',\n 'PTS_OT1_AVG_AWAY',\n 'PTS_OT2_AVG_AWAY',\n 'PTS_OT3_AVG_AWAY',\n 'PTS_OT4_AVG_AWAY',\n 'PTS_OT5_AVG_AWAY',\n 'PTS_OT6_AVG_AWAY',\n 'PTS_OT7_AVG_AWAY',\n 'PTS_OT8_AVG_AWAY',\n 'PTS_OT9_AVG_AWAY',\n 'PTS_OT10_AVG_AWAY',\n 'PTS_AVG_AWAY',\n 'FG_PCT_AVG_AWAY',\n 'FT_PCT_AVG_AWAY',\n 'FG3_PCT_AVG_AWAY',\n 'AST_AVG_AWAY',\n 'REB_AVG_AWAY',\n 'TOV_AVG_AWAY',\n 'IS_WINNER_AVG_AWAY']"
     },
     "metadata": {},
     "execution_count": 188
    }
   ],
   "source": [
    "avg_cols = [col for col in games_df_final.columns if 'AVG' in col]\n",
    "avg_cols"
   ]
  },
  {
   "cell_type": "code",
   "execution_count": 190,
   "metadata": {},
   "outputs": [
    {
     "output_type": "execute_result",
     "data": {
      "text/plain": "LogisticRegression(C=1.0, class_weight=None, dual=False, fit_intercept=True,\n                   intercept_scaling=1, l1_ratio=None, max_iter=100,\n                   multi_class='auto', n_jobs=None, penalty='l2',\n                   random_state=None, solver='lbfgs', tol=0.0001, verbose=0,\n                   warm_start=False)"
     },
     "metadata": {},
     "execution_count": 190
    }
   ],
   "source": [
    "from sklearn.linear_model import LogisticRegression\n",
    "from sklearn import metrics\n",
    "from sklearn.model_selection import train_test_split\n",
    "\n",
    "X_train, X_test, y_train, y_test = train_test_split(games_df_final[avg_cols], games_df_final['IS_WINNER_HOME'], test_size=0.3, random_state=0, shuffle=True)\n",
    "logreg = LogisticRegression()\n",
    "logreg.fit(X_train, y_train)"
   ]
  },
  {
   "cell_type": "code",
   "execution_count": 191,
   "metadata": {},
   "outputs": [
    {
     "output_type": "stream",
     "name": "stdout",
     "text": "Accuracy of logistic regression classifier on test set: 0.65\n"
    }
   ],
   "source": [
    "y_pred = logreg.predict(X_test)\n",
    "print('Accuracy of logistic regression classifier on test set: {:.2f}'.format(logreg.score(X_test, y_test)))"
   ]
  },
  {
   "cell_type": "code",
   "execution_count": 192,
   "metadata": {},
   "outputs": [
    {
     "output_type": "execute_result",
     "data": {
      "text/plain": "3740    1\n1116    0\n56      1\n2728    1\n1832    0\n       ..\n80      0\n3516    1\n1400    1\n1544    0\n1140    0\nName: IS_WINNER_HOME, Length: 292, dtype: int64"
     },
     "metadata": {},
     "execution_count": 192
    }
   ],
   "source": [
    "y_test"
   ]
  }
 ]
}