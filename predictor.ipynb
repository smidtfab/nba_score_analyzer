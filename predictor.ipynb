{
 "nbformat": 4,
 "nbformat_minor": 2,
 "metadata": {
  "language_info": {
   "name": "python",
   "codemirror_mode": {
    "name": "ipython",
    "version": 3
   },
   "version": "3.8.2-final"
  },
  "orig_nbformat": 2,
  "file_extension": ".py",
  "mimetype": "text/x-python",
  "name": "python",
  "npconvert_exporter": "python",
  "pygments_lexer": "ipython3",
  "version": 3,
  "kernelspec": {
   "name": "python38264bitnsconda5906bd2dc1be4fac85b3821c63f25579",
   "display_name": "Python 3.8.2 64-bit ('NS': conda)"
  }
 },
 "cells": [
  {
   "cell_type": "code",
   "execution_count": 1,
   "metadata": {},
   "outputs": [],
   "source": [
    "from games_db import GamesDB\n",
    "\n",
    "import numpy as np\n",
    "import pandas as pd"
   ]
  },
  {
   "cell_type": "code",
   "execution_count": 2,
   "metadata": {},
   "outputs": [
    {
     "output_type": "stream",
     "name": "stdout",
     "text": "{'_id': ObjectId('5e8b3c9055dca7119bcd0e8f'), 'GAME_DATE_EST': '2019-10-22T00:00:00', 'GAME_SEQUENCE': '1', 'GAME_ID': '0021900001', 'TEAM_ID': '1610612740', 'TEAM_ABBREVIATION': 'NOP', 'TEAM_CITY_NAME': 'New Orleans', 'TEAM_NAME': 'Pelicans', 'TEAM_WINS_LOSSES': '0-1', 'PTS_QTR1': '30', 'PTS_QTR2': '31', 'PTS_QTR3': '25', 'PTS_QTR4': '31', 'PTS_OT1': '5', 'PTS_OT2': '0', 'PTS_OT3': '0', 'PTS_OT4': '0', 'PTS_OT5': '0', 'PTS_OT6': '0', 'PTS_OT7': '0', 'PTS_OT8': '0', 'PTS_OT9': '0', 'PTS_OT10': '0', 'PTS': '122', 'FG_PCT': '0.422', 'FT_PCT': '0.85', 'FG3_PCT': '0.422', 'AST': '30', 'REB': '53', 'TOV': '19'}\n                           _id        GAME_DATE_EST GAME_SEQUENCE     GAME_ID  \\\n0     5e8b3c9055dca7119bcd0e8f  2019-10-22T00:00:00             1  0021900001   \n1     5e8b3c9055dca7119bcd0e91  2019-10-22T00:00:00             1  0021900001   \n2     5e8b3c9055dca7119bcd0e93  2019-10-22T00:00:00             2  0021900002   \n3     5e8b3c9055dca7119bcd0e95  2019-10-22T00:00:00             2  0021900002   \n4     5e8b3c9155dca7119bcd0e97  2019-10-23T00:00:00             1  0021900003   \n...                        ...                  ...           ...         ...   \n1939  5e8c6c652371b2dbaa0b4c42  2020-03-11T00:00:00             5  0021900970   \n1940  5e8c6c652371b2dbaa0b4c44  2020-03-11T00:00:00             5  0021900970   \n1941  5e8c6c652371b2dbaa0b4c46  2020-03-11T00:00:00             6  0021900973   \n1942  5e8c6c652371b2dbaa0b4c48  2020-03-11T00:00:00             6  0021900973   \n1943  5e8cc2f5fe274128a4fb69e9  2020-02-16T00:00:00             1  0031900001   \n\n         TEAM_ID TEAM_ABBREVIATION TEAM_CITY_NAME  TEAM_NAME TEAM_WINS_LOSSES  \\\n0     1610612740               NOP    New Orleans   Pelicans              0-1   \n1     1610612761               TOR        Toronto    Raptors              1-0   \n2     1610612747               LAL    Los Angeles     Lakers              0-1   \n3     1610612746               LAC             LA   Clippers              1-0   \n4     1610612741               CHI        Chicago      Bulls              0-1   \n...          ...               ...            ...        ...              ...   \n1939  1610612766               CHA      Charlotte    Hornets            23-42   \n1940  1610612748               MIA          Miami       Heat            41-24   \n1941  1610612743               DEN         Denver    Nuggets            43-22   \n1942  1610612742               DAL         Dallas  Mavericks            40-27   \n1943  1610616834               LBN           Team     LeBron              1-0   \n\n     PTS_QTR1  ... PTS_OT8 PTS_OT9 PTS_OT10  PTS FG_PCT FT_PCT FG3_PCT AST  \\\n0          30  ...       0       0        0  122  0.422   0.85   0.422  30   \n1          27  ...       0       0        0  130  0.408  0.842    0.35  23   \n2          25  ...       0       0        0  102  0.435  0.714   0.394  20   \n3          22  ...       0       0        0  112  0.519  0.708   0.355  24   \n4          28  ...       0       0        0  125  0.467  0.818     0.3  25   \n...       ...  ...     ...     ...      ...  ...    ...    ...     ...  ..   \n1939       22  ...       0       0        0  109  0.451  0.818     0.5  20   \n1940       40  ...       0       0        0   98  0.464  0.833   0.341  32   \n1941       29  ...       0       0        0   97   0.47  0.625   0.359  23   \n1942       33  ...       0       0        0  113  0.457  0.739   0.343  23   \n1943       53  ...       0       0        0  157    0.5   0.55   0.343  39   \n\n     REB TOV  \n0     53  19  \n1     57  16  \n2     41  14  \n3     45  14  \n4     49  10  \n...   ..  ..  \n1939  50  14  \n1940  36  14  \n1941  40  15  \n1942  52  10  \n1943  49  18  \n\n[1944 rows x 30 columns]\n"
    }
   ],
   "source": [
    "# create db instance to retrieve stored games\n",
    "gamesDB = GamesDB()\n",
    "\n",
    "# get all games from mongodb as a list of dictionaries\n",
    "nba_games_raw = gamesDB.retrieve_all()\n",
    "print(nba_games_raw[0])\n",
    "\n",
    "# convert list of dictionaries into df\n",
    "games_df = gamesDB.convert_to_df(nba_games_raw)\n",
    "print(games_df)"
   ]
  },
  {
   "cell_type": "code",
   "execution_count": 3,
   "metadata": {},
   "outputs": [
    {
     "output_type": "stream",
     "name": "stdout",
     "text": "(1944, 30)\nIndex(['_id', 'GAME_DATE_EST', 'GAME_SEQUENCE', 'GAME_ID', 'TEAM_ID',\n       'TEAM_ABBREVIATION', 'TEAM_CITY_NAME', 'TEAM_NAME', 'TEAM_WINS_LOSSES',\n       'PTS_QTR1', 'PTS_QTR2', 'PTS_QTR3', 'PTS_QTR4', 'PTS_OT1', 'PTS_OT2',\n       'PTS_OT3', 'PTS_OT4', 'PTS_OT5', 'PTS_OT6', 'PTS_OT7', 'PTS_OT8',\n       'PTS_OT9', 'PTS_OT10', 'PTS', 'FG_PCT', 'FT_PCT', 'FG3_PCT', 'AST',\n       'REB', 'TOV'],\n      dtype='object')\n_id                  object\nGAME_DATE_EST        object\nGAME_SEQUENCE        object\nGAME_ID              object\nTEAM_ID              object\nTEAM_ABBREVIATION    object\nTEAM_CITY_NAME       object\nTEAM_NAME            object\nTEAM_WINS_LOSSES     object\nPTS_QTR1             object\nPTS_QTR2             object\nPTS_QTR3             object\nPTS_QTR4             object\nPTS_OT1              object\nPTS_OT2              object\nPTS_OT3              object\nPTS_OT4              object\nPTS_OT5              object\nPTS_OT6              object\nPTS_OT7              object\nPTS_OT8              object\nPTS_OT9              object\nPTS_OT10             object\nPTS                  object\nFG_PCT               object\nFT_PCT               object\nFG3_PCT              object\nAST                  object\nREB                  object\nTOV                  object\ndtype: object\n"
    }
   ],
   "source": [
    "print(games_df.shape)\n",
    "print(games_df.columns)\n",
    "print(games_df.dtypes)"
   ]
  },
  {
   "cell_type": "code",
   "execution_count": 4,
   "metadata": {},
   "outputs": [],
   "source": [
    "obj_cols = ['PTS_QTR1', 'PTS_QTR2', 'PTS_QTR3', 'PTS_QTR4', 'PTS_OT1', 'PTS_OT2', 'PTS_OT3', 'PTS_OT4', 'PTS_OT5', 'PTS_OT6', 'PTS_OT7', 'PTS_OT8', 'PTS_OT9', 'PTS_OT10', 'PTS', 'FG_PCT', 'FT_PCT', 'FG3_PCT', 'AST', 'REB', 'TOV']\n",
    "\n",
    "games_df[obj_cols] = games_df[obj_cols].apply(pd.to_numeric, errors='coerce')\n",
    "\n",
    "str_cols = ['GAME_DATE_EST', 'GAME_SEQUENCE', 'GAME_ID', 'TEAM_ID', 'TEAM_ID', 'TEAM_ABBREVIATION', 'TEAM_CITY_NAME', 'TEAM_NAME', 'TEAM_WINS_LOSSES']\n",
    "\n",
    "games_df[str_cols] = games_df[str_cols].astype('str')"
   ]
  },
  {
   "cell_type": "code",
   "execution_count": 5,
   "metadata": {},
   "outputs": [
    {
     "output_type": "stream",
     "name": "stdout",
     "text": "_id        GAME_DATE_EST GAME_SEQUENCE     GAME_ID  \\\n0   5e8b3c9055dca7119bcd0e8f  2019-10-22T00:00:00             1  0021900001   \n1   5e8b3c9055dca7119bcd0e91  2019-10-22T00:00:00             1  0021900001   \n2   5e8b3c9055dca7119bcd0e93  2019-10-22T00:00:00             2  0021900002   \n3   5e8b3c9055dca7119bcd0e95  2019-10-22T00:00:00             2  0021900002   \n4   5e8b3c9155dca7119bcd0e97  2019-10-23T00:00:00             1  0021900003   \n5   5e8b3c9155dca7119bcd0e99  2019-10-23T00:00:00             1  0021900003   \n6   5e8b3c9155dca7119bcd0e9b  2019-10-23T00:00:00             2  0021900004   \n7   5e8b3c9155dca7119bcd0e9d  2019-10-23T00:00:00             2  0021900004   \n8   5e8b3c9155dca7119bcd0e9f  2019-10-23T00:00:00             3  0021900005   \n9   5e8b3c9155dca7119bcd0ea1  2019-10-23T00:00:00             3  0021900005   \n10  5e8b3c9155dca7119bcd0ea3  2019-10-23T00:00:00             4  0021900006   \n11  5e8b3c9155dca7119bcd0ea5  2019-10-23T00:00:00             4  0021900006   \n\n       TEAM_ID TEAM_ABBREVIATION TEAM_CITY_NAME     TEAM_NAME  \\\n0   1610612740               NOP    New Orleans      Pelicans   \n1   1610612761               TOR        Toronto       Raptors   \n2   1610612747               LAL    Los Angeles        Lakers   \n3   1610612746               LAC             LA      Clippers   \n4   1610612741               CHI        Chicago         Bulls   \n5   1610612766               CHA      Charlotte       Hornets   \n6   1610612765               DET        Detroit       Pistons   \n7   1610612754               IND        Indiana        Pacers   \n8   1610612739               CLE      Cleveland     Cavaliers   \n9   1610612753               ORL        Orlando         Magic   \n10  1610612750               MIN      Minnesota  Timberwolves   \n11  1610612751               BKN       Brooklyn          Nets   \n\n   TEAM_WINS_LOSSES  PTS_QTR1  ...  PTS_OT8  PTS_OT9  PTS_OT10  PTS  FG_PCT  \\\n0               0-1        30  ...        0        0         0  122   0.422   \n1               1-0        27  ...        0        0         0  130   0.408   \n2               0-1        25  ...        0        0         0  102   0.435   \n3               1-0        22  ...        0        0         0  112   0.519   \n4               0-1        28  ...        0        0         0  125   0.467   \n5               1-0        37  ...        0        0         0  126   0.511   \n6               1-0        27  ...        0        0         0  119   0.526   \n7               0-1        24  ...        0        0         0  110   0.461   \n8               0-1        24  ...        0        0         0   85   0.375   \n9               1-0        28  ...        0        0         0   94   0.430   \n10              1-0        33  ...        0        0         0  127   0.426   \n11              0-1        22  ...        0        0         0  126   0.475   \n\n    FT_PCT  FG3_PCT  AST  REB  TOV  \n0    0.850    0.422   30   53   19  \n1    0.842    0.350   23   57   16  \n2    0.714    0.394   20   41   14  \n3    0.708    0.355   24   45   14  \n4    0.818    0.300   25   49   10  \n5    0.813    0.523   28   41   19  \n6    0.788    0.458   26   45   18  \n7    0.833    0.381   26   36   15  \n8    0.667    0.265   20   54   16  \n9    0.579    0.300   24   46   13  \n10   0.786    0.302   23   52   13  \n11   0.577    0.441   19   48   16  \n\n[12 rows x 30 columns]\n"
    }
   ],
   "source": [
    "print(games_df.head(12))"
   ]
  },
  {
   "cell_type": "code",
   "execution_count": 6,
   "metadata": {},
   "outputs": [
    {
     "output_type": "execute_result",
     "data": {
      "text/plain": "          PTS_QTR1     PTS_QTR2     PTS_QTR3     PTS_QTR4      PTS_OT1  \\\ncount  1944.000000  1944.000000  1944.000000  1944.000000  1944.000000   \nmean     27.898663    28.100823    27.697531    27.072016     0.675412   \nstd       6.016149     5.818769     6.118497     6.080770     2.807624   \nmin       9.000000    10.000000    10.000000     6.000000     0.000000   \n25%      24.000000    24.000000    23.000000    23.000000     0.000000   \n50%      28.000000    28.000000    28.000000    27.000000     0.000000   \n75%      32.000000    32.000000    32.000000    31.000000     0.000000   \nmax      53.000000    51.000000    49.000000    51.000000    21.000000   \n\n           PTS_OT2  PTS_OT3  PTS_OT4  PTS_OT5  PTS_OT6  ...  PTS_OT8  PTS_OT9  \\\ncount  1944.000000   1944.0   1944.0   1944.0   1944.0  ...   1944.0   1944.0   \nmean      0.047840      0.0      0.0      0.0      0.0  ...      0.0      0.0   \nstd       0.695752      0.0      0.0      0.0      0.0  ...      0.0      0.0   \nmin       0.000000      0.0      0.0      0.0      0.0  ...      0.0      0.0   \n25%       0.000000      0.0      0.0      0.0      0.0  ...      0.0      0.0   \n50%       0.000000      0.0      0.0      0.0      0.0  ...      0.0      0.0   \n75%       0.000000      0.0      0.0      0.0      0.0  ...      0.0      0.0   \nmax      14.000000      0.0      0.0      0.0      0.0  ...      0.0      0.0   \n\n       PTS_OT10          PTS       FG_PCT       FT_PCT      FG3_PCT  \\\ncount    1944.0  1944.000000  1944.000000  1944.000000  1944.000000   \nmean        0.0   111.492284     0.460948     0.768782     0.356963   \nstd         0.0    12.485336     0.054985     0.101776     0.085486   \nmin         0.0    73.000000     0.269000     0.375000     0.094000   \n25%         0.0   103.000000     0.422000     0.704000     0.300000   \n50%         0.0   111.000000     0.460000     0.774000     0.357000   \n75%         0.0   120.000000     0.500000     0.839000     0.415000   \nmax         0.0   159.000000     0.674000     1.000000     0.680000   \n\n               AST          REB          TOV  \ncount  1944.000000  1944.000000  1944.000000  \nmean     24.361626    44.864712    13.885802  \nstd       4.921555     6.736318     4.061205  \nmin      11.000000    25.000000     3.000000  \n25%      21.000000    40.000000    11.000000  \n50%      24.000000    45.000000    14.000000  \n75%      28.000000    49.000000    17.000000  \nmax      43.000000    67.000000    28.000000  \n\n[8 rows x 21 columns]",
      "text/html": "<div>\n<style scoped>\n    .dataframe tbody tr th:only-of-type {\n        vertical-align: middle;\n    }\n\n    .dataframe tbody tr th {\n        vertical-align: top;\n    }\n\n    .dataframe thead th {\n        text-align: right;\n    }\n</style>\n<table border=\"1\" class=\"dataframe\">\n  <thead>\n    <tr style=\"text-align: right;\">\n      <th></th>\n      <th>PTS_QTR1</th>\n      <th>PTS_QTR2</th>\n      <th>PTS_QTR3</th>\n      <th>PTS_QTR4</th>\n      <th>PTS_OT1</th>\n      <th>PTS_OT2</th>\n      <th>PTS_OT3</th>\n      <th>PTS_OT4</th>\n      <th>PTS_OT5</th>\n      <th>PTS_OT6</th>\n      <th>...</th>\n      <th>PTS_OT8</th>\n      <th>PTS_OT9</th>\n      <th>PTS_OT10</th>\n      <th>PTS</th>\n      <th>FG_PCT</th>\n      <th>FT_PCT</th>\n      <th>FG3_PCT</th>\n      <th>AST</th>\n      <th>REB</th>\n      <th>TOV</th>\n    </tr>\n  </thead>\n  <tbody>\n    <tr>\n      <th>count</th>\n      <td>1944.000000</td>\n      <td>1944.000000</td>\n      <td>1944.000000</td>\n      <td>1944.000000</td>\n      <td>1944.000000</td>\n      <td>1944.000000</td>\n      <td>1944.0</td>\n      <td>1944.0</td>\n      <td>1944.0</td>\n      <td>1944.0</td>\n      <td>...</td>\n      <td>1944.0</td>\n      <td>1944.0</td>\n      <td>1944.0</td>\n      <td>1944.000000</td>\n      <td>1944.000000</td>\n      <td>1944.000000</td>\n      <td>1944.000000</td>\n      <td>1944.000000</td>\n      <td>1944.000000</td>\n      <td>1944.000000</td>\n    </tr>\n    <tr>\n      <th>mean</th>\n      <td>27.898663</td>\n      <td>28.100823</td>\n      <td>27.697531</td>\n      <td>27.072016</td>\n      <td>0.675412</td>\n      <td>0.047840</td>\n      <td>0.0</td>\n      <td>0.0</td>\n      <td>0.0</td>\n      <td>0.0</td>\n      <td>...</td>\n      <td>0.0</td>\n      <td>0.0</td>\n      <td>0.0</td>\n      <td>111.492284</td>\n      <td>0.460948</td>\n      <td>0.768782</td>\n      <td>0.356963</td>\n      <td>24.361626</td>\n      <td>44.864712</td>\n      <td>13.885802</td>\n    </tr>\n    <tr>\n      <th>std</th>\n      <td>6.016149</td>\n      <td>5.818769</td>\n      <td>6.118497</td>\n      <td>6.080770</td>\n      <td>2.807624</td>\n      <td>0.695752</td>\n      <td>0.0</td>\n      <td>0.0</td>\n      <td>0.0</td>\n      <td>0.0</td>\n      <td>...</td>\n      <td>0.0</td>\n      <td>0.0</td>\n      <td>0.0</td>\n      <td>12.485336</td>\n      <td>0.054985</td>\n      <td>0.101776</td>\n      <td>0.085486</td>\n      <td>4.921555</td>\n      <td>6.736318</td>\n      <td>4.061205</td>\n    </tr>\n    <tr>\n      <th>min</th>\n      <td>9.000000</td>\n      <td>10.000000</td>\n      <td>10.000000</td>\n      <td>6.000000</td>\n      <td>0.000000</td>\n      <td>0.000000</td>\n      <td>0.0</td>\n      <td>0.0</td>\n      <td>0.0</td>\n      <td>0.0</td>\n      <td>...</td>\n      <td>0.0</td>\n      <td>0.0</td>\n      <td>0.0</td>\n      <td>73.000000</td>\n      <td>0.269000</td>\n      <td>0.375000</td>\n      <td>0.094000</td>\n      <td>11.000000</td>\n      <td>25.000000</td>\n      <td>3.000000</td>\n    </tr>\n    <tr>\n      <th>25%</th>\n      <td>24.000000</td>\n      <td>24.000000</td>\n      <td>23.000000</td>\n      <td>23.000000</td>\n      <td>0.000000</td>\n      <td>0.000000</td>\n      <td>0.0</td>\n      <td>0.0</td>\n      <td>0.0</td>\n      <td>0.0</td>\n      <td>...</td>\n      <td>0.0</td>\n      <td>0.0</td>\n      <td>0.0</td>\n      <td>103.000000</td>\n      <td>0.422000</td>\n      <td>0.704000</td>\n      <td>0.300000</td>\n      <td>21.000000</td>\n      <td>40.000000</td>\n      <td>11.000000</td>\n    </tr>\n    <tr>\n      <th>50%</th>\n      <td>28.000000</td>\n      <td>28.000000</td>\n      <td>28.000000</td>\n      <td>27.000000</td>\n      <td>0.000000</td>\n      <td>0.000000</td>\n      <td>0.0</td>\n      <td>0.0</td>\n      <td>0.0</td>\n      <td>0.0</td>\n      <td>...</td>\n      <td>0.0</td>\n      <td>0.0</td>\n      <td>0.0</td>\n      <td>111.000000</td>\n      <td>0.460000</td>\n      <td>0.774000</td>\n      <td>0.357000</td>\n      <td>24.000000</td>\n      <td>45.000000</td>\n      <td>14.000000</td>\n    </tr>\n    <tr>\n      <th>75%</th>\n      <td>32.000000</td>\n      <td>32.000000</td>\n      <td>32.000000</td>\n      <td>31.000000</td>\n      <td>0.000000</td>\n      <td>0.000000</td>\n      <td>0.0</td>\n      <td>0.0</td>\n      <td>0.0</td>\n      <td>0.0</td>\n      <td>...</td>\n      <td>0.0</td>\n      <td>0.0</td>\n      <td>0.0</td>\n      <td>120.000000</td>\n      <td>0.500000</td>\n      <td>0.839000</td>\n      <td>0.415000</td>\n      <td>28.000000</td>\n      <td>49.000000</td>\n      <td>17.000000</td>\n    </tr>\n    <tr>\n      <th>max</th>\n      <td>53.000000</td>\n      <td>51.000000</td>\n      <td>49.000000</td>\n      <td>51.000000</td>\n      <td>21.000000</td>\n      <td>14.000000</td>\n      <td>0.0</td>\n      <td>0.0</td>\n      <td>0.0</td>\n      <td>0.0</td>\n      <td>...</td>\n      <td>0.0</td>\n      <td>0.0</td>\n      <td>0.0</td>\n      <td>159.000000</td>\n      <td>0.674000</td>\n      <td>1.000000</td>\n      <td>0.680000</td>\n      <td>43.000000</td>\n      <td>67.000000</td>\n      <td>28.000000</td>\n    </tr>\n  </tbody>\n</table>\n<p>8 rows × 21 columns</p>\n</div>"
     },
     "metadata": {},
     "execution_count": 6
    }
   ],
   "source": [
    "games_df.describe()"
   ]
  },
  {
   "cell_type": "code",
   "execution_count": 7,
   "metadata": {
    "tags": [
     "outputPrepend",
     "outputPrepend",
     "outputPrepend",
     "outputPrepend",
     "outputPrepend",
     "outputPrepend",
     "outputPrepend",
     "outputPrepend",
     "outputPrepend",
     "outputPrepend",
     "outputPrepend",
     "outputPrepend",
     "outputPrepend",
     "outputPrepend",
     "outputPrepend",
     "outputPrepend",
     "outputPrepend",
     "outputPrepend",
     "outputPrepend",
     "outputPrepend",
     "outputPrepend",
     "outputPrepend",
     "outputPrepend",
     "outputPrepend",
     "outputPrepend",
     "outputPrepend",
     "outputPrepend",
     "outputPrepend",
     "outputPrepend",
     "outputPrepend",
     "outputPrepend",
     "outputPrepend",
     "outputPrepend",
     "outputPrepend",
     "outputPrepend",
     "outputPrepend",
     "outputPrepend",
     "outputPrepend",
     "outputPrepend",
     "outputPrepend",
     "outputPrepend",
     "outputPrepend",
     "outputPrepend",
     "outputPrepend",
     "outputPrepend",
     "outputPrepend",
     "outputPrepend",
     "outputPrepend",
     "outputPrepend",
     "outputPrepend",
     "outputPrepend",
     "outputPrepend",
     "outputPrepend",
     "outputPrepend",
     "outputPrepend",
     "outputPrepend",
     "outputPrepend",
     "outputPrepend",
     "outputPrepend",
     "outputPrepend",
     "outputPrepend",
     "outputPrepend",
     "outputPrepend",
     "outputPrepend",
     "outputPrepend",
     "outputPrepend",
     "outputPrepend",
     "outputPrepend",
     "outputPrepend",
     "outputPrepend",
     "outputPrepend",
     "outputPrepend",
     "outputPrepend",
     "outputPrepend",
     "outputPrepend",
     "outputPrepend",
     "outputPrepend",
     "outputPrepend",
     "outputPrepend",
     "outputPrepend",
     "outputPrepend",
     "outputPrepend",
     "outputPrepend",
     "outputPrepend",
     "outputPrepend",
     "outputPrepend",
     "outputPrepend",
     "outputPrepend",
     "outputPrepend",
     "outputPrepend",
     "outputPrepend",
     "outputPrepend",
     "outputPrepend",
     "outputPrepend",
     "outputPrepend",
     "outputPrepend",
     "outputPrepend",
     "outputPrepend",
     "outputPrepend",
     "outputPrepend",
     "outputPrepend",
     "outputPrepend",
     "outputPrepend",
     "outputPrepend",
     "outputPrepend",
     "outputPrepend",
     "outputPrepend",
     "outputPrepend",
     "outputPrepend",
     "outputPrepend",
     "outputPrepend",
     "outputPrepend",
     "outputPrepend",
     "outputPrepend",
     "outputPrepend",
     "outputPrepend",
     "outputPrepend",
     "outputPrepend",
     "outputPrepend",
     "outputPrepend",
     "outputPrepend",
     "outputPrepend",
     "outputPrepend",
     "outputPrepend",
     "outputPrepend",
     "outputPrepend",
     "outputPrepend",
     "outputPrepend",
     "outputPrepend",
     "outputPrepend",
     "outputPrepend",
     "outputPrepend",
     "outputPrepend",
     "outputPrepend",
     "outputPrepend",
     "outputPrepend",
     "outputPrepend",
     "outputPrepend",
     "outputPrepend",
     "outputPrepend",
     "outputPrepend",
     "outputPrepend",
     "outputPrepend",
     "outputPrepend",
     "outputPrepend",
     "outputPrepend",
     "outputPrepend",
     "outputPrepend",
     "outputPrepend",
     "outputPrepend",
     "outputPrepend",
     "outputPrepend",
     "outputPrepend",
     "outputPrepend",
     "outputPrepend",
     "outputPrepend",
     "outputPrepend",
     "outputPrepend",
     "outputPrepend",
     "outputPrepend",
     "outputPrepend",
     "outputPrepend",
     "outputPrepend",
     "outputPrepend",
     "outputPrepend",
     "outputPrepend",
     "outputPrepend",
     "outputPrepend",
     "outputPrepend",
     "outputPrepend",
     "outputPrepend",
     "outputPrepend",
     "outputPrepend",
     "outputPrepend",
     "outputPrepend",
     "outputPrepend",
     "outputPrepend",
     "outputPrepend",
     "outputPrepend",
     "outputPrepend",
     "outputPrepend",
     "outputPrepend",
     "outputPrepend",
     "outputPrepend",
     "outputPrepend",
     "outputPrepend",
     "outputPrepend",
     "outputPrepend",
     "outputPrepend",
     "outputPrepend",
     "outputPrepend",
     "outputPrepend",
     "outputPrepend",
     "outputPrepend",
     "outputPrepend",
     "outputPrepend",
     "outputPrepend",
     "outputPrepend",
     "outputPrepend",
     "outputPrepend",
     "outputPrepend",
     "outputPrepend",
     "outputPrepend",
     "outputPrepend",
     "outputPrepend",
     "outputPrepend",
     "outputPrepend",
     "outputPrepend",
     "outputPrepend",
     "outputPrepend"
    ]
   },
   "outputs": [
    {
     "output_type": "stream",
     "name": "stdout",
     "text": "1944\n"
    }
   ],
   "source": [
    "win_col = []\n",
    "\n",
    "# loop through df and assign binary var who won\n",
    "for index, row in games_df.iterrows():\n",
    "    # get opponent for game id \n",
    "    game_id = row['GAME_ID']\n",
    "    team_id = row['TEAM_ID']\n",
    "    opponent_row = games_df[(games_df['GAME_ID'] == game_id) & (games_df['TEAM_ID'] != team_id)]\n",
    "    opponent_score = int(opponent_row['PTS'].values[0])\n",
    "\n",
    "    row_score = int(row['PTS'])\n",
    "\n",
    "    # get score of opponent and assign winner \n",
    "    is_winner = 1 if opponent_score < row_score else 0\n",
    "    win_col.append(is_winner)\n",
    "\n",
    "print(len(win_col))\n",
    "\n",
    "games_df[\"IS_WINNER\"] = win_col"
   ]
  },
  {
   "cell_type": "code",
   "execution_count": 8,
   "metadata": {},
   "outputs": [
    {
     "output_type": "execute_result",
     "data": {
      "text/plain": "                           _id        GAME_DATE_EST GAME_SEQUENCE     GAME_ID  \\\n1943  5e8cc2f5fe274128a4fb69e9  2020-02-16T00:00:00             1  0031900001   \n\n         TEAM_ID TEAM_ABBREVIATION TEAM_CITY_NAME TEAM_NAME TEAM_WINS_LOSSES  \\\n1943  1610616834               LBN           Team    LeBron              1-0   \n\n      PTS_QTR1  ...  PTS_OT9  PTS_OT10  PTS  FG_PCT  FT_PCT  FG3_PCT  AST  \\\n1943        53  ...        0         0  157     0.5    0.55    0.343   39   \n\n      REB  TOV  IS_WINNER  \n1943   49   18          1  \n\n[1 rows x 31 columns]",
      "text/html": "<div>\n<style scoped>\n    .dataframe tbody tr th:only-of-type {\n        vertical-align: middle;\n    }\n\n    .dataframe tbody tr th {\n        vertical-align: top;\n    }\n\n    .dataframe thead th {\n        text-align: right;\n    }\n</style>\n<table border=\"1\" class=\"dataframe\">\n  <thead>\n    <tr style=\"text-align: right;\">\n      <th></th>\n      <th>_id</th>\n      <th>GAME_DATE_EST</th>\n      <th>GAME_SEQUENCE</th>\n      <th>GAME_ID</th>\n      <th>TEAM_ID</th>\n      <th>TEAM_ABBREVIATION</th>\n      <th>TEAM_CITY_NAME</th>\n      <th>TEAM_NAME</th>\n      <th>TEAM_WINS_LOSSES</th>\n      <th>PTS_QTR1</th>\n      <th>...</th>\n      <th>PTS_OT9</th>\n      <th>PTS_OT10</th>\n      <th>PTS</th>\n      <th>FG_PCT</th>\n      <th>FT_PCT</th>\n      <th>FG3_PCT</th>\n      <th>AST</th>\n      <th>REB</th>\n      <th>TOV</th>\n      <th>IS_WINNER</th>\n    </tr>\n  </thead>\n  <tbody>\n    <tr>\n      <th>1943</th>\n      <td>5e8cc2f5fe274128a4fb69e9</td>\n      <td>2020-02-16T00:00:00</td>\n      <td>1</td>\n      <td>0031900001</td>\n      <td>1610616834</td>\n      <td>LBN</td>\n      <td>Team</td>\n      <td>LeBron</td>\n      <td>1-0</td>\n      <td>53</td>\n      <td>...</td>\n      <td>0</td>\n      <td>0</td>\n      <td>157</td>\n      <td>0.5</td>\n      <td>0.55</td>\n      <td>0.343</td>\n      <td>39</td>\n      <td>49</td>\n      <td>18</td>\n      <td>1</td>\n    </tr>\n  </tbody>\n</table>\n<p>1 rows × 31 columns</p>\n</div>"
     },
     "metadata": {},
     "execution_count": 8
    }
   ],
   "source": [
    "games_df[(games_df['TEAM_ID'] == \"1610616834\")]"
   ]
  },
  {
   "cell_type": "code",
   "execution_count": 9,
   "metadata": {},
   "outputs": [
    {
     "output_type": "stream",
     "name": "stdout",
     "text": "[{'_id': ObjectId('5e8c6c462371b2dbaa0b49d5'), 'TEAM_CITY_NAME': 'Team', 'GAME_DATE_EST': '2020-02-16T00:00:00', 'PTS_OT10': '0', 'TEAM_ID': '1610616833', 'REB': '61', 'TEAM_NAME': 'Giannis', 'TEAM_WINS_LOSSES': '0-1', 'GAME_SEQUENCE': '1', 'TEAM_ABBREVIATION': 'GNS', 'PTS_OT8': '0', 'PTS_OT9': '0', 'PTS_OT2': '0', 'PTS_OT3': '0', 'PTS_OT1': '0', 'PTS': '155', 'PTS_OT7': '0', 'PTS_OT4': '0', 'PTS_OT5': '0', 'TOV': '21', 'GAME_ID': '0031900001', 'FT_PCT': '0.632', 'PTS_OT6': '0', 'FG_PCT': '0.537', 'AST': '38', 'FG3_PCT': '0.275', 'PTS_QTR3': '41', 'PTS_QTR2': '51', 'PTS_QTR1': '41', 'PTS_QTR4': '22'}]\n"
    }
   ],
   "source": [
    "print(list(gamesDB.games_db.find({\"TEAM_ID\":\"1610616833\"})))"
   ]
  },
  {
   "cell_type": "code",
   "execution_count": 10,
   "metadata": {},
   "outputs": [
    {
     "output_type": "execute_result",
     "data": {
      "text/plain": "          PTS_QTR1     PTS_QTR2     PTS_QTR3     PTS_QTR4      PTS_OT1  \\\ncount  1944.000000  1944.000000  1944.000000  1944.000000  1944.000000   \nmean     27.898663    28.100823    27.697531    27.072016     0.675412   \nstd       6.016149     5.818769     6.118497     6.080770     2.807624   \nmin       9.000000    10.000000    10.000000     6.000000     0.000000   \n25%      24.000000    24.000000    23.000000    23.000000     0.000000   \n50%      28.000000    28.000000    28.000000    27.000000     0.000000   \n75%      32.000000    32.000000    32.000000    31.000000     0.000000   \nmax      53.000000    51.000000    49.000000    51.000000    21.000000   \n\n           PTS_OT2  PTS_OT3  PTS_OT4  PTS_OT5  PTS_OT6  ...  PTS_OT9  \\\ncount  1944.000000   1944.0   1944.0   1944.0   1944.0  ...   1944.0   \nmean      0.047840      0.0      0.0      0.0      0.0  ...      0.0   \nstd       0.695752      0.0      0.0      0.0      0.0  ...      0.0   \nmin       0.000000      0.0      0.0      0.0      0.0  ...      0.0   \n25%       0.000000      0.0      0.0      0.0      0.0  ...      0.0   \n50%       0.000000      0.0      0.0      0.0      0.0  ...      0.0   \n75%       0.000000      0.0      0.0      0.0      0.0  ...      0.0   \nmax      14.000000      0.0      0.0      0.0      0.0  ...      0.0   \n\n       PTS_OT10          PTS       FG_PCT       FT_PCT      FG3_PCT  \\\ncount    1944.0  1944.000000  1944.000000  1944.000000  1944.000000   \nmean        0.0   111.492284     0.460948     0.768782     0.356963   \nstd         0.0    12.485336     0.054985     0.101776     0.085486   \nmin         0.0    73.000000     0.269000     0.375000     0.094000   \n25%         0.0   103.000000     0.422000     0.704000     0.300000   \n50%         0.0   111.000000     0.460000     0.774000     0.357000   \n75%         0.0   120.000000     0.500000     0.839000     0.415000   \nmax         0.0   159.000000     0.674000     1.000000     0.680000   \n\n               AST          REB          TOV    IS_WINNER  \ncount  1944.000000  1944.000000  1944.000000  1944.000000  \nmean     24.361626    44.864712    13.885802     0.500000  \nstd       4.921555     6.736318     4.061205     0.500129  \nmin      11.000000    25.000000     3.000000     0.000000  \n25%      21.000000    40.000000    11.000000     0.000000  \n50%      24.000000    45.000000    14.000000     0.500000  \n75%      28.000000    49.000000    17.000000     1.000000  \nmax      43.000000    67.000000    28.000000     1.000000  \n\n[8 rows x 22 columns]",
      "text/html": "<div>\n<style scoped>\n    .dataframe tbody tr th:only-of-type {\n        vertical-align: middle;\n    }\n\n    .dataframe tbody tr th {\n        vertical-align: top;\n    }\n\n    .dataframe thead th {\n        text-align: right;\n    }\n</style>\n<table border=\"1\" class=\"dataframe\">\n  <thead>\n    <tr style=\"text-align: right;\">\n      <th></th>\n      <th>PTS_QTR1</th>\n      <th>PTS_QTR2</th>\n      <th>PTS_QTR3</th>\n      <th>PTS_QTR4</th>\n      <th>PTS_OT1</th>\n      <th>PTS_OT2</th>\n      <th>PTS_OT3</th>\n      <th>PTS_OT4</th>\n      <th>PTS_OT5</th>\n      <th>PTS_OT6</th>\n      <th>...</th>\n      <th>PTS_OT9</th>\n      <th>PTS_OT10</th>\n      <th>PTS</th>\n      <th>FG_PCT</th>\n      <th>FT_PCT</th>\n      <th>FG3_PCT</th>\n      <th>AST</th>\n      <th>REB</th>\n      <th>TOV</th>\n      <th>IS_WINNER</th>\n    </tr>\n  </thead>\n  <tbody>\n    <tr>\n      <th>count</th>\n      <td>1944.000000</td>\n      <td>1944.000000</td>\n      <td>1944.000000</td>\n      <td>1944.000000</td>\n      <td>1944.000000</td>\n      <td>1944.000000</td>\n      <td>1944.0</td>\n      <td>1944.0</td>\n      <td>1944.0</td>\n      <td>1944.0</td>\n      <td>...</td>\n      <td>1944.0</td>\n      <td>1944.0</td>\n      <td>1944.000000</td>\n      <td>1944.000000</td>\n      <td>1944.000000</td>\n      <td>1944.000000</td>\n      <td>1944.000000</td>\n      <td>1944.000000</td>\n      <td>1944.000000</td>\n      <td>1944.000000</td>\n    </tr>\n    <tr>\n      <th>mean</th>\n      <td>27.898663</td>\n      <td>28.100823</td>\n      <td>27.697531</td>\n      <td>27.072016</td>\n      <td>0.675412</td>\n      <td>0.047840</td>\n      <td>0.0</td>\n      <td>0.0</td>\n      <td>0.0</td>\n      <td>0.0</td>\n      <td>...</td>\n      <td>0.0</td>\n      <td>0.0</td>\n      <td>111.492284</td>\n      <td>0.460948</td>\n      <td>0.768782</td>\n      <td>0.356963</td>\n      <td>24.361626</td>\n      <td>44.864712</td>\n      <td>13.885802</td>\n      <td>0.500000</td>\n    </tr>\n    <tr>\n      <th>std</th>\n      <td>6.016149</td>\n      <td>5.818769</td>\n      <td>6.118497</td>\n      <td>6.080770</td>\n      <td>2.807624</td>\n      <td>0.695752</td>\n      <td>0.0</td>\n      <td>0.0</td>\n      <td>0.0</td>\n      <td>0.0</td>\n      <td>...</td>\n      <td>0.0</td>\n      <td>0.0</td>\n      <td>12.485336</td>\n      <td>0.054985</td>\n      <td>0.101776</td>\n      <td>0.085486</td>\n      <td>4.921555</td>\n      <td>6.736318</td>\n      <td>4.061205</td>\n      <td>0.500129</td>\n    </tr>\n    <tr>\n      <th>min</th>\n      <td>9.000000</td>\n      <td>10.000000</td>\n      <td>10.000000</td>\n      <td>6.000000</td>\n      <td>0.000000</td>\n      <td>0.000000</td>\n      <td>0.0</td>\n      <td>0.0</td>\n      <td>0.0</td>\n      <td>0.0</td>\n      <td>...</td>\n      <td>0.0</td>\n      <td>0.0</td>\n      <td>73.000000</td>\n      <td>0.269000</td>\n      <td>0.375000</td>\n      <td>0.094000</td>\n      <td>11.000000</td>\n      <td>25.000000</td>\n      <td>3.000000</td>\n      <td>0.000000</td>\n    </tr>\n    <tr>\n      <th>25%</th>\n      <td>24.000000</td>\n      <td>24.000000</td>\n      <td>23.000000</td>\n      <td>23.000000</td>\n      <td>0.000000</td>\n      <td>0.000000</td>\n      <td>0.0</td>\n      <td>0.0</td>\n      <td>0.0</td>\n      <td>0.0</td>\n      <td>...</td>\n      <td>0.0</td>\n      <td>0.0</td>\n      <td>103.000000</td>\n      <td>0.422000</td>\n      <td>0.704000</td>\n      <td>0.300000</td>\n      <td>21.000000</td>\n      <td>40.000000</td>\n      <td>11.000000</td>\n      <td>0.000000</td>\n    </tr>\n    <tr>\n      <th>50%</th>\n      <td>28.000000</td>\n      <td>28.000000</td>\n      <td>28.000000</td>\n      <td>27.000000</td>\n      <td>0.000000</td>\n      <td>0.000000</td>\n      <td>0.0</td>\n      <td>0.0</td>\n      <td>0.0</td>\n      <td>0.0</td>\n      <td>...</td>\n      <td>0.0</td>\n      <td>0.0</td>\n      <td>111.000000</td>\n      <td>0.460000</td>\n      <td>0.774000</td>\n      <td>0.357000</td>\n      <td>24.000000</td>\n      <td>45.000000</td>\n      <td>14.000000</td>\n      <td>0.500000</td>\n    </tr>\n    <tr>\n      <th>75%</th>\n      <td>32.000000</td>\n      <td>32.000000</td>\n      <td>32.000000</td>\n      <td>31.000000</td>\n      <td>0.000000</td>\n      <td>0.000000</td>\n      <td>0.0</td>\n      <td>0.0</td>\n      <td>0.0</td>\n      <td>0.0</td>\n      <td>...</td>\n      <td>0.0</td>\n      <td>0.0</td>\n      <td>120.000000</td>\n      <td>0.500000</td>\n      <td>0.839000</td>\n      <td>0.415000</td>\n      <td>28.000000</td>\n      <td>49.000000</td>\n      <td>17.000000</td>\n      <td>1.000000</td>\n    </tr>\n    <tr>\n      <th>max</th>\n      <td>53.000000</td>\n      <td>51.000000</td>\n      <td>49.000000</td>\n      <td>51.000000</td>\n      <td>21.000000</td>\n      <td>14.000000</td>\n      <td>0.0</td>\n      <td>0.0</td>\n      <td>0.0</td>\n      <td>0.0</td>\n      <td>...</td>\n      <td>0.0</td>\n      <td>0.0</td>\n      <td>159.000000</td>\n      <td>0.674000</td>\n      <td>1.000000</td>\n      <td>0.680000</td>\n      <td>43.000000</td>\n      <td>67.000000</td>\n      <td>28.000000</td>\n      <td>1.000000</td>\n    </tr>\n  </tbody>\n</table>\n<p>8 rows × 22 columns</p>\n</div>"
     },
     "metadata": {},
     "execution_count": 10
    }
   ],
   "source": [
    "games_df.describe()"
   ]
  },
  {
   "cell_type": "code",
   "execution_count": 11,
   "metadata": {},
   "outputs": [
    {
     "output_type": "execute_result",
     "data": {
      "text/plain": "                        _id        GAME_DATE_EST GAME_SEQUENCE     GAME_ID  \\\n0  5e8b3c9055dca7119bcd0e8f  2019-10-22T00:00:00             1  0021900001   \n1  5e8b3c9055dca7119bcd0e91  2019-10-22T00:00:00             1  0021900001   \n2  5e8b3c9055dca7119bcd0e93  2019-10-22T00:00:00             2  0021900002   \n3  5e8b3c9055dca7119bcd0e95  2019-10-22T00:00:00             2  0021900002   \n4  5e8b3c9155dca7119bcd0e97  2019-10-23T00:00:00             1  0021900003   \n\n      TEAM_ID TEAM_ABBREVIATION TEAM_CITY_NAME TEAM_NAME TEAM_WINS_LOSSES  \\\n0  1610612740               NOP    New Orleans  Pelicans              0-1   \n1  1610612761               TOR        Toronto   Raptors              1-0   \n2  1610612747               LAL    Los Angeles    Lakers              0-1   \n3  1610612746               LAC             LA  Clippers              1-0   \n4  1610612741               CHI        Chicago     Bulls              0-1   \n\n   PTS_QTR1  ...  PTS_OT9  PTS_OT10  PTS  FG_PCT  FT_PCT  FG3_PCT  AST  REB  \\\n0        30  ...        0         0  122   0.422   0.850    0.422   30   53   \n1        27  ...        0         0  130   0.408   0.842    0.350   23   57   \n2        25  ...        0         0  102   0.435   0.714    0.394   20   41   \n3        22  ...        0         0  112   0.519   0.708    0.355   24   45   \n4        28  ...        0         0  125   0.467   0.818    0.300   25   49   \n\n   TOV  IS_WINNER  \n0   19          0  \n1   16          1  \n2   14          0  \n3   14          1  \n4   10          0  \n\n[5 rows x 31 columns]",
      "text/html": "<div>\n<style scoped>\n    .dataframe tbody tr th:only-of-type {\n        vertical-align: middle;\n    }\n\n    .dataframe tbody tr th {\n        vertical-align: top;\n    }\n\n    .dataframe thead th {\n        text-align: right;\n    }\n</style>\n<table border=\"1\" class=\"dataframe\">\n  <thead>\n    <tr style=\"text-align: right;\">\n      <th></th>\n      <th>_id</th>\n      <th>GAME_DATE_EST</th>\n      <th>GAME_SEQUENCE</th>\n      <th>GAME_ID</th>\n      <th>TEAM_ID</th>\n      <th>TEAM_ABBREVIATION</th>\n      <th>TEAM_CITY_NAME</th>\n      <th>TEAM_NAME</th>\n      <th>TEAM_WINS_LOSSES</th>\n      <th>PTS_QTR1</th>\n      <th>...</th>\n      <th>PTS_OT9</th>\n      <th>PTS_OT10</th>\n      <th>PTS</th>\n      <th>FG_PCT</th>\n      <th>FT_PCT</th>\n      <th>FG3_PCT</th>\n      <th>AST</th>\n      <th>REB</th>\n      <th>TOV</th>\n      <th>IS_WINNER</th>\n    </tr>\n  </thead>\n  <tbody>\n    <tr>\n      <th>0</th>\n      <td>5e8b3c9055dca7119bcd0e8f</td>\n      <td>2019-10-22T00:00:00</td>\n      <td>1</td>\n      <td>0021900001</td>\n      <td>1610612740</td>\n      <td>NOP</td>\n      <td>New Orleans</td>\n      <td>Pelicans</td>\n      <td>0-1</td>\n      <td>30</td>\n      <td>...</td>\n      <td>0</td>\n      <td>0</td>\n      <td>122</td>\n      <td>0.422</td>\n      <td>0.850</td>\n      <td>0.422</td>\n      <td>30</td>\n      <td>53</td>\n      <td>19</td>\n      <td>0</td>\n    </tr>\n    <tr>\n      <th>1</th>\n      <td>5e8b3c9055dca7119bcd0e91</td>\n      <td>2019-10-22T00:00:00</td>\n      <td>1</td>\n      <td>0021900001</td>\n      <td>1610612761</td>\n      <td>TOR</td>\n      <td>Toronto</td>\n      <td>Raptors</td>\n      <td>1-0</td>\n      <td>27</td>\n      <td>...</td>\n      <td>0</td>\n      <td>0</td>\n      <td>130</td>\n      <td>0.408</td>\n      <td>0.842</td>\n      <td>0.350</td>\n      <td>23</td>\n      <td>57</td>\n      <td>16</td>\n      <td>1</td>\n    </tr>\n    <tr>\n      <th>2</th>\n      <td>5e8b3c9055dca7119bcd0e93</td>\n      <td>2019-10-22T00:00:00</td>\n      <td>2</td>\n      <td>0021900002</td>\n      <td>1610612747</td>\n      <td>LAL</td>\n      <td>Los Angeles</td>\n      <td>Lakers</td>\n      <td>0-1</td>\n      <td>25</td>\n      <td>...</td>\n      <td>0</td>\n      <td>0</td>\n      <td>102</td>\n      <td>0.435</td>\n      <td>0.714</td>\n      <td>0.394</td>\n      <td>20</td>\n      <td>41</td>\n      <td>14</td>\n      <td>0</td>\n    </tr>\n    <tr>\n      <th>3</th>\n      <td>5e8b3c9055dca7119bcd0e95</td>\n      <td>2019-10-22T00:00:00</td>\n      <td>2</td>\n      <td>0021900002</td>\n      <td>1610612746</td>\n      <td>LAC</td>\n      <td>LA</td>\n      <td>Clippers</td>\n      <td>1-0</td>\n      <td>22</td>\n      <td>...</td>\n      <td>0</td>\n      <td>0</td>\n      <td>112</td>\n      <td>0.519</td>\n      <td>0.708</td>\n      <td>0.355</td>\n      <td>24</td>\n      <td>45</td>\n      <td>14</td>\n      <td>1</td>\n    </tr>\n    <tr>\n      <th>4</th>\n      <td>5e8b3c9155dca7119bcd0e97</td>\n      <td>2019-10-23T00:00:00</td>\n      <td>1</td>\n      <td>0021900003</td>\n      <td>1610612741</td>\n      <td>CHI</td>\n      <td>Chicago</td>\n      <td>Bulls</td>\n      <td>0-1</td>\n      <td>28</td>\n      <td>...</td>\n      <td>0</td>\n      <td>0</td>\n      <td>125</td>\n      <td>0.467</td>\n      <td>0.818</td>\n      <td>0.300</td>\n      <td>25</td>\n      <td>49</td>\n      <td>10</td>\n      <td>0</td>\n    </tr>\n  </tbody>\n</table>\n<p>5 rows × 31 columns</p>\n</div>"
     },
     "metadata": {},
     "execution_count": 11
    }
   ],
   "source": [
    "games_df.head()"
   ]
  },
  {
   "cell_type": "markdown",
   "metadata": {},
   "source": [
    "## Exploratory Data Analysis"
   ]
  },
  {
   "cell_type": "code",
   "execution_count": 12,
   "metadata": {},
   "outputs": [
    {
     "output_type": "execute_result",
     "data": {
      "text/plain": "          PTS_QTR1     PTS_QTR2     PTS_QTR3     PTS_QTR4      PTS_OT1  \\\ncount  1944.000000  1944.000000  1944.000000  1944.000000  1944.000000   \nmean     27.898663    28.100823    27.697531    27.072016     0.675412   \nstd       6.016149     5.818769     6.118497     6.080770     2.807624   \nmin       9.000000    10.000000    10.000000     6.000000     0.000000   \n25%      24.000000    24.000000    23.000000    23.000000     0.000000   \n50%      28.000000    28.000000    28.000000    27.000000     0.000000   \n75%      32.000000    32.000000    32.000000    31.000000     0.000000   \nmax      53.000000    51.000000    49.000000    51.000000    21.000000   \n\n           PTS_OT2  PTS_OT3  PTS_OT4  PTS_OT5  PTS_OT6  ...  PTS_OT9  \\\ncount  1944.000000   1944.0   1944.0   1944.0   1944.0  ...   1944.0   \nmean      0.047840      0.0      0.0      0.0      0.0  ...      0.0   \nstd       0.695752      0.0      0.0      0.0      0.0  ...      0.0   \nmin       0.000000      0.0      0.0      0.0      0.0  ...      0.0   \n25%       0.000000      0.0      0.0      0.0      0.0  ...      0.0   \n50%       0.000000      0.0      0.0      0.0      0.0  ...      0.0   \n75%       0.000000      0.0      0.0      0.0      0.0  ...      0.0   \nmax      14.000000      0.0      0.0      0.0      0.0  ...      0.0   \n\n       PTS_OT10          PTS       FG_PCT       FT_PCT      FG3_PCT  \\\ncount    1944.0  1944.000000  1944.000000  1944.000000  1944.000000   \nmean        0.0   111.492284     0.460948     0.768782     0.356963   \nstd         0.0    12.485336     0.054985     0.101776     0.085486   \nmin         0.0    73.000000     0.269000     0.375000     0.094000   \n25%         0.0   103.000000     0.422000     0.704000     0.300000   \n50%         0.0   111.000000     0.460000     0.774000     0.357000   \n75%         0.0   120.000000     0.500000     0.839000     0.415000   \nmax         0.0   159.000000     0.674000     1.000000     0.680000   \n\n               AST          REB          TOV    IS_WINNER  \ncount  1944.000000  1944.000000  1944.000000  1944.000000  \nmean     24.361626    44.864712    13.885802     0.500000  \nstd       4.921555     6.736318     4.061205     0.500129  \nmin      11.000000    25.000000     3.000000     0.000000  \n25%      21.000000    40.000000    11.000000     0.000000  \n50%      24.000000    45.000000    14.000000     0.500000  \n75%      28.000000    49.000000    17.000000     1.000000  \nmax      43.000000    67.000000    28.000000     1.000000  \n\n[8 rows x 22 columns]",
      "text/html": "<div>\n<style scoped>\n    .dataframe tbody tr th:only-of-type {\n        vertical-align: middle;\n    }\n\n    .dataframe tbody tr th {\n        vertical-align: top;\n    }\n\n    .dataframe thead th {\n        text-align: right;\n    }\n</style>\n<table border=\"1\" class=\"dataframe\">\n  <thead>\n    <tr style=\"text-align: right;\">\n      <th></th>\n      <th>PTS_QTR1</th>\n      <th>PTS_QTR2</th>\n      <th>PTS_QTR3</th>\n      <th>PTS_QTR4</th>\n      <th>PTS_OT1</th>\n      <th>PTS_OT2</th>\n      <th>PTS_OT3</th>\n      <th>PTS_OT4</th>\n      <th>PTS_OT5</th>\n      <th>PTS_OT6</th>\n      <th>...</th>\n      <th>PTS_OT9</th>\n      <th>PTS_OT10</th>\n      <th>PTS</th>\n      <th>FG_PCT</th>\n      <th>FT_PCT</th>\n      <th>FG3_PCT</th>\n      <th>AST</th>\n      <th>REB</th>\n      <th>TOV</th>\n      <th>IS_WINNER</th>\n    </tr>\n  </thead>\n  <tbody>\n    <tr>\n      <th>count</th>\n      <td>1944.000000</td>\n      <td>1944.000000</td>\n      <td>1944.000000</td>\n      <td>1944.000000</td>\n      <td>1944.000000</td>\n      <td>1944.000000</td>\n      <td>1944.0</td>\n      <td>1944.0</td>\n      <td>1944.0</td>\n      <td>1944.0</td>\n      <td>...</td>\n      <td>1944.0</td>\n      <td>1944.0</td>\n      <td>1944.000000</td>\n      <td>1944.000000</td>\n      <td>1944.000000</td>\n      <td>1944.000000</td>\n      <td>1944.000000</td>\n      <td>1944.000000</td>\n      <td>1944.000000</td>\n      <td>1944.000000</td>\n    </tr>\n    <tr>\n      <th>mean</th>\n      <td>27.898663</td>\n      <td>28.100823</td>\n      <td>27.697531</td>\n      <td>27.072016</td>\n      <td>0.675412</td>\n      <td>0.047840</td>\n      <td>0.0</td>\n      <td>0.0</td>\n      <td>0.0</td>\n      <td>0.0</td>\n      <td>...</td>\n      <td>0.0</td>\n      <td>0.0</td>\n      <td>111.492284</td>\n      <td>0.460948</td>\n      <td>0.768782</td>\n      <td>0.356963</td>\n      <td>24.361626</td>\n      <td>44.864712</td>\n      <td>13.885802</td>\n      <td>0.500000</td>\n    </tr>\n    <tr>\n      <th>std</th>\n      <td>6.016149</td>\n      <td>5.818769</td>\n      <td>6.118497</td>\n      <td>6.080770</td>\n      <td>2.807624</td>\n      <td>0.695752</td>\n      <td>0.0</td>\n      <td>0.0</td>\n      <td>0.0</td>\n      <td>0.0</td>\n      <td>...</td>\n      <td>0.0</td>\n      <td>0.0</td>\n      <td>12.485336</td>\n      <td>0.054985</td>\n      <td>0.101776</td>\n      <td>0.085486</td>\n      <td>4.921555</td>\n      <td>6.736318</td>\n      <td>4.061205</td>\n      <td>0.500129</td>\n    </tr>\n    <tr>\n      <th>min</th>\n      <td>9.000000</td>\n      <td>10.000000</td>\n      <td>10.000000</td>\n      <td>6.000000</td>\n      <td>0.000000</td>\n      <td>0.000000</td>\n      <td>0.0</td>\n      <td>0.0</td>\n      <td>0.0</td>\n      <td>0.0</td>\n      <td>...</td>\n      <td>0.0</td>\n      <td>0.0</td>\n      <td>73.000000</td>\n      <td>0.269000</td>\n      <td>0.375000</td>\n      <td>0.094000</td>\n      <td>11.000000</td>\n      <td>25.000000</td>\n      <td>3.000000</td>\n      <td>0.000000</td>\n    </tr>\n    <tr>\n      <th>25%</th>\n      <td>24.000000</td>\n      <td>24.000000</td>\n      <td>23.000000</td>\n      <td>23.000000</td>\n      <td>0.000000</td>\n      <td>0.000000</td>\n      <td>0.0</td>\n      <td>0.0</td>\n      <td>0.0</td>\n      <td>0.0</td>\n      <td>...</td>\n      <td>0.0</td>\n      <td>0.0</td>\n      <td>103.000000</td>\n      <td>0.422000</td>\n      <td>0.704000</td>\n      <td>0.300000</td>\n      <td>21.000000</td>\n      <td>40.000000</td>\n      <td>11.000000</td>\n      <td>0.000000</td>\n    </tr>\n    <tr>\n      <th>50%</th>\n      <td>28.000000</td>\n      <td>28.000000</td>\n      <td>28.000000</td>\n      <td>27.000000</td>\n      <td>0.000000</td>\n      <td>0.000000</td>\n      <td>0.0</td>\n      <td>0.0</td>\n      <td>0.0</td>\n      <td>0.0</td>\n      <td>...</td>\n      <td>0.0</td>\n      <td>0.0</td>\n      <td>111.000000</td>\n      <td>0.460000</td>\n      <td>0.774000</td>\n      <td>0.357000</td>\n      <td>24.000000</td>\n      <td>45.000000</td>\n      <td>14.000000</td>\n      <td>0.500000</td>\n    </tr>\n    <tr>\n      <th>75%</th>\n      <td>32.000000</td>\n      <td>32.000000</td>\n      <td>32.000000</td>\n      <td>31.000000</td>\n      <td>0.000000</td>\n      <td>0.000000</td>\n      <td>0.0</td>\n      <td>0.0</td>\n      <td>0.0</td>\n      <td>0.0</td>\n      <td>...</td>\n      <td>0.0</td>\n      <td>0.0</td>\n      <td>120.000000</td>\n      <td>0.500000</td>\n      <td>0.839000</td>\n      <td>0.415000</td>\n      <td>28.000000</td>\n      <td>49.000000</td>\n      <td>17.000000</td>\n      <td>1.000000</td>\n    </tr>\n    <tr>\n      <th>max</th>\n      <td>53.000000</td>\n      <td>51.000000</td>\n      <td>49.000000</td>\n      <td>51.000000</td>\n      <td>21.000000</td>\n      <td>14.000000</td>\n      <td>0.0</td>\n      <td>0.0</td>\n      <td>0.0</td>\n      <td>0.0</td>\n      <td>...</td>\n      <td>0.0</td>\n      <td>0.0</td>\n      <td>159.000000</td>\n      <td>0.674000</td>\n      <td>1.000000</td>\n      <td>0.680000</td>\n      <td>43.000000</td>\n      <td>67.000000</td>\n      <td>28.000000</td>\n      <td>1.000000</td>\n    </tr>\n  </tbody>\n</table>\n<p>8 rows × 22 columns</p>\n</div>"
     },
     "metadata": {},
     "execution_count": 12
    }
   ],
   "source": [
    "games_df.describe()"
   ]
  },
  {
   "cell_type": "code",
   "execution_count": 13,
   "metadata": {},
   "outputs": [
    {
     "output_type": "execute_result",
     "data": {
      "text/plain": "1    972\n0    972\nName: IS_WINNER, dtype: int64"
     },
     "metadata": {},
     "execution_count": 13
    }
   ],
   "source": [
    "games_df['IS_WINNER'].value_counts()"
   ]
  },
  {
   "cell_type": "code",
   "execution_count": 14,
   "metadata": {},
   "outputs": [
    {
     "output_type": "execute_result",
     "data": {
      "text/plain": "            PTS_QTR1   PTS_QTR2   PTS_QTR3   PTS_QTR4   PTS_OT1   PTS_OT2  \\\nIS_WINNER                                                                   \n0          26.385802  26.816872  26.220165  25.750000  0.530864  0.037037   \n1          29.411523  29.384774  29.174897  28.394033  0.819959  0.058642   \n\n           PTS_OT3  PTS_OT4  PTS_OT5  PTS_OT6  ...  PTS_OT8  PTS_OT9  \\\nIS_WINNER                                      ...                     \n0              0.0      0.0      0.0      0.0  ...      0.0      0.0   \n1              0.0      0.0      0.0      0.0  ...      0.0      0.0   \n\n           PTS_OT10         PTS    FG_PCT    FT_PCT   FG3_PCT        AST  \\\nIS_WINNER                                                                  \n0               0.0  105.740741  0.435853  0.759907  0.328004  23.109053   \n1               0.0  117.243827  0.486042  0.777656  0.385922  25.614198   \n\n                 REB        TOV  \nIS_WINNER                        \n0          42.662551  14.091564  \n1          47.066872  13.680041  \n\n[2 rows x 21 columns]",
      "text/html": "<div>\n<style scoped>\n    .dataframe tbody tr th:only-of-type {\n        vertical-align: middle;\n    }\n\n    .dataframe tbody tr th {\n        vertical-align: top;\n    }\n\n    .dataframe thead th {\n        text-align: right;\n    }\n</style>\n<table border=\"1\" class=\"dataframe\">\n  <thead>\n    <tr style=\"text-align: right;\">\n      <th></th>\n      <th>PTS_QTR1</th>\n      <th>PTS_QTR2</th>\n      <th>PTS_QTR3</th>\n      <th>PTS_QTR4</th>\n      <th>PTS_OT1</th>\n      <th>PTS_OT2</th>\n      <th>PTS_OT3</th>\n      <th>PTS_OT4</th>\n      <th>PTS_OT5</th>\n      <th>PTS_OT6</th>\n      <th>...</th>\n      <th>PTS_OT8</th>\n      <th>PTS_OT9</th>\n      <th>PTS_OT10</th>\n      <th>PTS</th>\n      <th>FG_PCT</th>\n      <th>FT_PCT</th>\n      <th>FG3_PCT</th>\n      <th>AST</th>\n      <th>REB</th>\n      <th>TOV</th>\n    </tr>\n    <tr>\n      <th>IS_WINNER</th>\n      <th></th>\n      <th></th>\n      <th></th>\n      <th></th>\n      <th></th>\n      <th></th>\n      <th></th>\n      <th></th>\n      <th></th>\n      <th></th>\n      <th></th>\n      <th></th>\n      <th></th>\n      <th></th>\n      <th></th>\n      <th></th>\n      <th></th>\n      <th></th>\n      <th></th>\n      <th></th>\n      <th></th>\n    </tr>\n  </thead>\n  <tbody>\n    <tr>\n      <th>0</th>\n      <td>26.385802</td>\n      <td>26.816872</td>\n      <td>26.220165</td>\n      <td>25.750000</td>\n      <td>0.530864</td>\n      <td>0.037037</td>\n      <td>0.0</td>\n      <td>0.0</td>\n      <td>0.0</td>\n      <td>0.0</td>\n      <td>...</td>\n      <td>0.0</td>\n      <td>0.0</td>\n      <td>0.0</td>\n      <td>105.740741</td>\n      <td>0.435853</td>\n      <td>0.759907</td>\n      <td>0.328004</td>\n      <td>23.109053</td>\n      <td>42.662551</td>\n      <td>14.091564</td>\n    </tr>\n    <tr>\n      <th>1</th>\n      <td>29.411523</td>\n      <td>29.384774</td>\n      <td>29.174897</td>\n      <td>28.394033</td>\n      <td>0.819959</td>\n      <td>0.058642</td>\n      <td>0.0</td>\n      <td>0.0</td>\n      <td>0.0</td>\n      <td>0.0</td>\n      <td>...</td>\n      <td>0.0</td>\n      <td>0.0</td>\n      <td>0.0</td>\n      <td>117.243827</td>\n      <td>0.486042</td>\n      <td>0.777656</td>\n      <td>0.385922</td>\n      <td>25.614198</td>\n      <td>47.066872</td>\n      <td>13.680041</td>\n    </tr>\n  </tbody>\n</table>\n<p>2 rows × 21 columns</p>\n</div>"
     },
     "metadata": {},
     "execution_count": 14
    }
   ],
   "source": [
    "games_df.groupby('IS_WINNER').mean()"
   ]
  },
  {
   "cell_type": "code",
   "execution_count": 15,
   "metadata": {},
   "outputs": [
    {
     "output_type": "stream",
     "name": "stdout",
     "text": "_id                   object\nGAME_DATE_EST         object\nGAME_SEQUENCE         object\nGAME_ID               object\nTEAM_ID               object\nTEAM_ABBREVIATION     object\nTEAM_CITY_NAME        object\nTEAM_NAME             object\nTEAM_WINS_LOSSES      object\nPTS_QTR1               int64\nPTS_QTR2               int64\nPTS_QTR3               int64\nPTS_QTR4               int64\nPTS_OT1                int64\nPTS_OT2                int64\nPTS_OT3                int64\nPTS_OT4                int64\nPTS_OT5                int64\nPTS_OT6                int64\nPTS_OT7                int64\nPTS_OT8                int64\nPTS_OT9                int64\nPTS_OT10               int64\nPTS                    int64\nFG_PCT               float64\nFT_PCT               float64\nFG3_PCT              float64\nAST                    int64\nREB                    int64\nTOV                    int64\nIS_WINNER              int64\ndtype: object\n"
    }
   ],
   "source": [
    "print(games_df.dtypes)"
   ]
  },
  {
   "cell_type": "markdown",
   "metadata": {},
   "source": [
    "### Feature Engineering"
   ]
  },
  {
   "cell_type": "code",
   "execution_count": 24,
   "metadata": {},
   "outputs": [],
   "source": [
    "# create unique list of team ids\n",
    "unique_team_ids = games_df['TEAM_ID'].unique()\n",
    "\n",
    "# create a data frame dictionary to store data frames by team_id\n",
    "games_by_team = {elem : pd.DataFrame for elem in unique_team_ids}\n",
    "\n",
    "for key in games_by_team.keys():\n",
    "    games_by_team[key] = games_df[:][games_df['TEAM_ID'] == key]"
   ]
  },
  {
   "cell_type": "code",
   "execution_count": 26,
   "metadata": {},
   "outputs": [
    {
     "output_type": "execute_result",
     "data": {
      "text/plain": "                           _id        GAME_DATE_EST GAME_SEQUENCE     GAME_ID  \\\n24    5e8b3c9155dca7119bcd0ebf  2019-10-23T00:00:00            11  0021900013   \n45    5e8b3c9455dca7119bcd0ee9  2019-10-25T00:00:00             7  0021900023   \n98    5e8b3c9855dca7119bcd0f53  2019-10-28T00:00:00            10  0021900050   \n105   5e8b3c9955dca7119bcd0f61  2019-10-29T00:00:00             2  0021900053   \n132   5e8b3c9c55dca7119bcd0f98  2019-10-31T00:00:00             2  0021900067   \n...                        ...                  ...           ...         ...   \n1824  5e8c6c5c2371b2dbaa0b4b52  2020-03-03T00:00:00             5  0021900913   \n1849  5e8c6c5f2371b2dbaa0b4b86  2020-03-05T00:00:00             1  0021900926   \n1881  5e8c6c602371b2dbaa0b4bc6  2020-03-07T00:00:00             3  0021900942   \n1914  5e8c6c642371b2dbaa0b4c08  2020-03-09T00:00:00             2  0021900958   \n1941  5e8c6c652371b2dbaa0b4c46  2020-03-11T00:00:00             6  0021900973   \n\n         TEAM_ID TEAM_ABBREVIATION TEAM_CITY_NAME TEAM_NAME TEAM_WINS_LOSSES  \\\n24    1610612743               DEN         Denver   Nuggets              1-0   \n45    1610612743               DEN         Denver   Nuggets              2-0   \n98    1610612743               DEN         Denver   Nuggets              3-0   \n105   1610612743               DEN         Denver   Nuggets              3-1   \n132   1610612743               DEN         Denver   Nuggets              3-2   \n...          ...               ...            ...       ...              ...   \n1824  1610612743               DEN         Denver   Nuggets            41-20   \n1849  1610612743               DEN         Denver   Nuggets            42-20   \n1881  1610612743               DEN         Denver   Nuggets            42-21   \n1914  1610612743               DEN         Denver   Nuggets            43-21   \n1941  1610612743               DEN         Denver   Nuggets            43-22   \n\n      PTS_QTR1  ...  PTS_OT9  PTS_OT10  PTS  FG_PCT  FT_PCT  FG3_PCT  AST  \\\n24          24  ...        0         0  108   0.420   0.815    0.563   24   \n45          15  ...        0         0  108   0.391   0.806    0.259   21   \n98          21  ...        0         0  101   0.367   0.905    0.278   19   \n105         31  ...        0         0  106   0.473   0.692    0.344   24   \n132         30  ...        0         0  107   0.483   0.875    0.269   24   \n...        ...  ...      ...       ...  ...     ...     ...      ...  ...   \n1824        25  ...        0         0  100   0.448   0.731    0.150   22   \n1849        31  ...        0         0  114   0.530   0.900    0.308   29   \n1881        33  ...        0         0  102   0.506   0.375    0.406   28   \n1914        39  ...        0         0  109   0.436   0.917    0.390   28   \n1941        29  ...        0         0   97   0.470   0.625    0.359   23   \n\n      REB  TOV  IS_WINNER  \n24     45   19          1  \n45     45   14          1  \n98     54   10          1  \n105    50   10          0  \n132    35   14          0  \n...   ...  ...        ...  \n1824   53   15          0  \n1849   38   12          1  \n1881   33   17          0  \n1914   48   12          1  \n1941   40   15          0  \n\n[65 rows x 31 columns]",
      "text/html": "<div>\n<style scoped>\n    .dataframe tbody tr th:only-of-type {\n        vertical-align: middle;\n    }\n\n    .dataframe tbody tr th {\n        vertical-align: top;\n    }\n\n    .dataframe thead th {\n        text-align: right;\n    }\n</style>\n<table border=\"1\" class=\"dataframe\">\n  <thead>\n    <tr style=\"text-align: right;\">\n      <th></th>\n      <th>_id</th>\n      <th>GAME_DATE_EST</th>\n      <th>GAME_SEQUENCE</th>\n      <th>GAME_ID</th>\n      <th>TEAM_ID</th>\n      <th>TEAM_ABBREVIATION</th>\n      <th>TEAM_CITY_NAME</th>\n      <th>TEAM_NAME</th>\n      <th>TEAM_WINS_LOSSES</th>\n      <th>PTS_QTR1</th>\n      <th>...</th>\n      <th>PTS_OT9</th>\n      <th>PTS_OT10</th>\n      <th>PTS</th>\n      <th>FG_PCT</th>\n      <th>FT_PCT</th>\n      <th>FG3_PCT</th>\n      <th>AST</th>\n      <th>REB</th>\n      <th>TOV</th>\n      <th>IS_WINNER</th>\n    </tr>\n  </thead>\n  <tbody>\n    <tr>\n      <th>24</th>\n      <td>5e8b3c9155dca7119bcd0ebf</td>\n      <td>2019-10-23T00:00:00</td>\n      <td>11</td>\n      <td>0021900013</td>\n      <td>1610612743</td>\n      <td>DEN</td>\n      <td>Denver</td>\n      <td>Nuggets</td>\n      <td>1-0</td>\n      <td>24</td>\n      <td>...</td>\n      <td>0</td>\n      <td>0</td>\n      <td>108</td>\n      <td>0.420</td>\n      <td>0.815</td>\n      <td>0.563</td>\n      <td>24</td>\n      <td>45</td>\n      <td>19</td>\n      <td>1</td>\n    </tr>\n    <tr>\n      <th>45</th>\n      <td>5e8b3c9455dca7119bcd0ee9</td>\n      <td>2019-10-25T00:00:00</td>\n      <td>7</td>\n      <td>0021900023</td>\n      <td>1610612743</td>\n      <td>DEN</td>\n      <td>Denver</td>\n      <td>Nuggets</td>\n      <td>2-0</td>\n      <td>15</td>\n      <td>...</td>\n      <td>0</td>\n      <td>0</td>\n      <td>108</td>\n      <td>0.391</td>\n      <td>0.806</td>\n      <td>0.259</td>\n      <td>21</td>\n      <td>45</td>\n      <td>14</td>\n      <td>1</td>\n    </tr>\n    <tr>\n      <th>98</th>\n      <td>5e8b3c9855dca7119bcd0f53</td>\n      <td>2019-10-28T00:00:00</td>\n      <td>10</td>\n      <td>0021900050</td>\n      <td>1610612743</td>\n      <td>DEN</td>\n      <td>Denver</td>\n      <td>Nuggets</td>\n      <td>3-0</td>\n      <td>21</td>\n      <td>...</td>\n      <td>0</td>\n      <td>0</td>\n      <td>101</td>\n      <td>0.367</td>\n      <td>0.905</td>\n      <td>0.278</td>\n      <td>19</td>\n      <td>54</td>\n      <td>10</td>\n      <td>1</td>\n    </tr>\n    <tr>\n      <th>105</th>\n      <td>5e8b3c9955dca7119bcd0f61</td>\n      <td>2019-10-29T00:00:00</td>\n      <td>2</td>\n      <td>0021900053</td>\n      <td>1610612743</td>\n      <td>DEN</td>\n      <td>Denver</td>\n      <td>Nuggets</td>\n      <td>3-1</td>\n      <td>31</td>\n      <td>...</td>\n      <td>0</td>\n      <td>0</td>\n      <td>106</td>\n      <td>0.473</td>\n      <td>0.692</td>\n      <td>0.344</td>\n      <td>24</td>\n      <td>50</td>\n      <td>10</td>\n      <td>0</td>\n    </tr>\n    <tr>\n      <th>132</th>\n      <td>5e8b3c9c55dca7119bcd0f98</td>\n      <td>2019-10-31T00:00:00</td>\n      <td>2</td>\n      <td>0021900067</td>\n      <td>1610612743</td>\n      <td>DEN</td>\n      <td>Denver</td>\n      <td>Nuggets</td>\n      <td>3-2</td>\n      <td>30</td>\n      <td>...</td>\n      <td>0</td>\n      <td>0</td>\n      <td>107</td>\n      <td>0.483</td>\n      <td>0.875</td>\n      <td>0.269</td>\n      <td>24</td>\n      <td>35</td>\n      <td>14</td>\n      <td>0</td>\n    </tr>\n    <tr>\n      <th>...</th>\n      <td>...</td>\n      <td>...</td>\n      <td>...</td>\n      <td>...</td>\n      <td>...</td>\n      <td>...</td>\n      <td>...</td>\n      <td>...</td>\n      <td>...</td>\n      <td>...</td>\n      <td>...</td>\n      <td>...</td>\n      <td>...</td>\n      <td>...</td>\n      <td>...</td>\n      <td>...</td>\n      <td>...</td>\n      <td>...</td>\n      <td>...</td>\n      <td>...</td>\n      <td>...</td>\n    </tr>\n    <tr>\n      <th>1824</th>\n      <td>5e8c6c5c2371b2dbaa0b4b52</td>\n      <td>2020-03-03T00:00:00</td>\n      <td>5</td>\n      <td>0021900913</td>\n      <td>1610612743</td>\n      <td>DEN</td>\n      <td>Denver</td>\n      <td>Nuggets</td>\n      <td>41-20</td>\n      <td>25</td>\n      <td>...</td>\n      <td>0</td>\n      <td>0</td>\n      <td>100</td>\n      <td>0.448</td>\n      <td>0.731</td>\n      <td>0.150</td>\n      <td>22</td>\n      <td>53</td>\n      <td>15</td>\n      <td>0</td>\n    </tr>\n    <tr>\n      <th>1849</th>\n      <td>5e8c6c5f2371b2dbaa0b4b86</td>\n      <td>2020-03-05T00:00:00</td>\n      <td>1</td>\n      <td>0021900926</td>\n      <td>1610612743</td>\n      <td>DEN</td>\n      <td>Denver</td>\n      <td>Nuggets</td>\n      <td>42-20</td>\n      <td>31</td>\n      <td>...</td>\n      <td>0</td>\n      <td>0</td>\n      <td>114</td>\n      <td>0.530</td>\n      <td>0.900</td>\n      <td>0.308</td>\n      <td>29</td>\n      <td>38</td>\n      <td>12</td>\n      <td>1</td>\n    </tr>\n    <tr>\n      <th>1881</th>\n      <td>5e8c6c602371b2dbaa0b4bc6</td>\n      <td>2020-03-07T00:00:00</td>\n      <td>3</td>\n      <td>0021900942</td>\n      <td>1610612743</td>\n      <td>DEN</td>\n      <td>Denver</td>\n      <td>Nuggets</td>\n      <td>42-21</td>\n      <td>33</td>\n      <td>...</td>\n      <td>0</td>\n      <td>0</td>\n      <td>102</td>\n      <td>0.506</td>\n      <td>0.375</td>\n      <td>0.406</td>\n      <td>28</td>\n      <td>33</td>\n      <td>17</td>\n      <td>0</td>\n    </tr>\n    <tr>\n      <th>1914</th>\n      <td>5e8c6c642371b2dbaa0b4c08</td>\n      <td>2020-03-09T00:00:00</td>\n      <td>2</td>\n      <td>0021900958</td>\n      <td>1610612743</td>\n      <td>DEN</td>\n      <td>Denver</td>\n      <td>Nuggets</td>\n      <td>43-21</td>\n      <td>39</td>\n      <td>...</td>\n      <td>0</td>\n      <td>0</td>\n      <td>109</td>\n      <td>0.436</td>\n      <td>0.917</td>\n      <td>0.390</td>\n      <td>28</td>\n      <td>48</td>\n      <td>12</td>\n      <td>1</td>\n    </tr>\n    <tr>\n      <th>1941</th>\n      <td>5e8c6c652371b2dbaa0b4c46</td>\n      <td>2020-03-11T00:00:00</td>\n      <td>6</td>\n      <td>0021900973</td>\n      <td>1610612743</td>\n      <td>DEN</td>\n      <td>Denver</td>\n      <td>Nuggets</td>\n      <td>43-22</td>\n      <td>29</td>\n      <td>...</td>\n      <td>0</td>\n      <td>0</td>\n      <td>97</td>\n      <td>0.470</td>\n      <td>0.625</td>\n      <td>0.359</td>\n      <td>23</td>\n      <td>40</td>\n      <td>15</td>\n      <td>0</td>\n    </tr>\n  </tbody>\n</table>\n<p>65 rows × 31 columns</p>\n</div>"
     },
     "metadata": {},
     "execution_count": 26
    }
   ],
   "source": [
    "games_by_team['1610612743']"
   ]
  },
  {
   "cell_type": "code",
   "execution_count": null,
   "metadata": {},
   "outputs": [],
   "source": [
    "# calculate running average \n",
    "def running_avg(data):\n",
    "    running_avg = []\n",
    "\n",
    "    for i in range(len(data)):\n",
    "        avg = sum(data[:i+1]) / (i + 1)\n",
    "        running_avg.append(avg)\n",
    "    return running_avg\n",
    "    \n",
    "print(running_avg(games_by_team['1610612743']['PTS']))"
   ]
  }
 ]
}