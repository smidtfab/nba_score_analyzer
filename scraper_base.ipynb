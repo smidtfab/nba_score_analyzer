{
 "nbformat": 4,
 "nbformat_minor": 2,
 "metadata": {
  "language_info": {
   "name": "python",
   "codemirror_mode": {
    "name": "ipython",
    "version": 3
   },
   "version": "3.8.2-final"
  },
  "orig_nbformat": 2,
  "file_extension": ".py",
  "mimetype": "text/x-python",
  "name": "python",
  "npconvert_exporter": "python",
  "pygments_lexer": "ipython3",
  "version": 3,
  "kernelspec": {
   "name": "python37664bitbaseconda48e309b451f343b1ae2876c53010da4c",
   "display_name": "Python 3.7.6 64-bit ('base': conda)"
  }
 },
 "cells": [
  {
   "cell_type": "code",
   "execution_count": 3,
   "metadata": {},
   "outputs": [],
   "source": [
    "import requests\n",
    "from bs4 import BeautifulSoup as bs\n",
    "#from collections import deque\n",
    "import urllib.request\n",
    "#import re\n",
    "import json"
   ]
  },
  {
   "cell_type": "code",
   "execution_count": 4,
   "metadata": {},
   "outputs": [
    {
     "output_type": "stream",
     "name": "stdout",
     "text": "0021900735\n0021900736\n0021900734\n0021900732\n0021900733\n0021900731\n0021900730\n0021900728\n0021900729\n0021900727\n"
    }
   ],
   "source": [
    "url = \"https://stats.nba.com/js/data/boxscorebreakdowns/2020/boxscore_breakdown_20200201.json\"\n",
    "response = requests.get(url)\n",
    "response.status_code\n",
    "data = response.json()\n",
    "games = data['results']\n",
    "\n",
    "game_ids = []\n",
    "\n",
    "for i in range(0, len(games)):\n",
    "   game_id = games[i]['GameID']\n",
    "   game_ids.append(game_id)\n",
    "   print(game_id)"
   ]
  },
  {
   "cell_type": "code",
   "execution_count": 5,
   "metadata": {},
   "outputs": [
    {
     "output_type": "execute_result",
     "data": {
      "text/plain": "{'GameID': '0021900808'}"
     },
     "metadata": {},
     "execution_count": 5
    }
   ],
   "source": [
    "parameters = {\n",
    "    \"GameID\": \"0021900808\"\n",
    "    \n",
    "}\n",
    "parameters"
   ]
  },
  {
   "cell_type": "code",
   "execution_count": 6,
   "metadata": {},
   "outputs": [
    {
     "output_type": "execute_result",
     "data": {
      "text/plain": "{'DayOffset': '0', 'LeagueID': '00', 'gameDate': '02/27/2020'}"
     },
     "metadata": {},
     "execution_count": 6
    }
   ],
   "source": [
    "parameters = {\n",
    "    \"DayOffset\": \"0\",\n",
    "    \"LeagueID\": \"00\",\n",
    "    \"gameDate\": \"02/27/2020\"\n",
    "}\n",
    "parameters"
   ]
  },
  {
   "cell_type": "code",
   "execution_count": 7,
   "metadata": {},
   "outputs": [
    {
     "output_type": "execute_result",
     "data": {
      "text/plain": "{'Host': 'stats.nba.com',\n 'User-Agent': 'Mozilla/5.0 (X11; Ubuntu; Linux x86_64; rv:74.0) Gecko/20100101 Firefox/74.0',\n 'Accept': 'application/json, text/plain, */*',\n 'Accept-Language': 'en-US,en;q=0.5',\n 'Accept-Encoding': 'gzip, deflate, br',\n 'X-NewRelic-ID': 'VQECWF5UChAHUlNTBwgBVw==',\n 'x-nba-stats-origin': 'stats',\n 'x-nba-stats-token': 'true'}"
     },
     "metadata": {},
     "execution_count": 7
    }
   ],
   "source": [
    "headers = {\n",
    "    \"Host\": \"stats.nba.com\",\n",
    "    \"User-Agent\": \"Mozilla/5.0 (X11; Ubuntu; Linux x86_64; rv:74.0) Gecko/20100101 Firefox/74.0\",\n",
    "    \"Accept\": \"application/json, text/plain, */*\",\n",
    "    \"Accept-Language\": \"en-US,en;q=0.5\",\n",
    "    \"Accept-Encoding\": \"gzip, deflate, br\",\n",
    "    \"X-NewRelic-ID\": \"VQECWF5UChAHUlNTBwgBVw==\",\n",
    "    \"x-nba-stats-origin\": \"stats\",\n",
    "    \"x-nba-stats-token\": \"true\"\n",
    "}\n",
    "headers\n",
    ""
   ]
  },
  {
   "cell_type": "code",
   "execution_count": 8,
   "metadata": {},
   "outputs": [
    {
     "output_type": "stream",
     "name": "stdout",
     "text": "https://stats.nba.com/stats/scoreboardV2?DayOffset=0&LeagueID=00&gameDate=02%2F27%2F2020\n{'resource': 'scoreboardV2', 'parameters': {'GameDate': '02/27/2020', 'LeagueID': '00', 'DayOffset': '0'}, 'resultSets': [{'name': 'GameHeader', 'headers': ['GAME_DATE_EST', 'GAME_SEQUENCE', 'GAME_ID', 'GAME_STATUS_ID', 'GAME_STATUS_TEXT', 'GAMECODE', 'HOME_TEAM_ID', 'VISITOR_TEAM_ID', 'SEASON', 'LIVE_PERIOD', 'LIVE_PC_TIME', 'NATL_TV_BROADCASTER_ABBREVIATION', 'HOME_TV_BROADCASTER_ABBREVIATION', 'AWAY_TV_BROADCASTER_ABBREVIATION', 'LIVE_PERIOD_TIME_BCAST', 'ARENA_NAME', 'WH_STATUS'], 'rowSet': [['2020-02-27T00:00:00', 1, '0021900873', 3, 'Final', '20200227/NYKPHI', 1610612755, 1610612752, '2019', 4, '     ', None, 'NBCSP', 'MSG', 'Q4       - ', 'Wells Fargo Center', 1], ['2020-02-27T00:00:00', 2, '0021900874', 3, 'Final', '20200227/PORIND', 1610612754, 1610612757, '2019', 4, '     ', 'TNT', None, 'NBCSNW', 'Q4       - TNT', 'Bankers Life Fieldhouse', 1], ['2020-02-27T00:00:00', 3, '0021900875', 3, 'Final', '20200227/SACOKC', 1610612760, 1610612758, '2019', 4, '     ', None, 'FSOK', 'NBCSCA', 'Q4       - ', 'Chesapeake Energy Arena', 1], ['2020-02-27T00:00:00', 4, '0021900876', 3, 'Final', '20200227/LALGSW', 1610612744, 1610612747, '2019', 4, '     ', 'TNT', None, 'SPECSN', 'Q4       - TNT', 'Chase Center', 1]]}, {'name': 'LineScore', 'headers': ['GAME_DATE_EST', 'GAME_SEQUENCE', 'GAME_ID', 'TEAM_ID', 'TEAM_ABBREVIATION', 'TEAM_CITY_NAME', 'TEAM_NAME', 'TEAM_WINS_LOSSES', 'PTS_QTR1', 'PTS_QTR2', 'PTS_QTR3', 'PTS_QTR4', 'PTS_OT1', 'PTS_OT2', 'PTS_OT3', 'PTS_OT4', 'PTS_OT5', 'PTS_OT6', 'PTS_OT7', 'PTS_OT8', 'PTS_OT9', 'PTS_OT10', 'PTS', 'FG_PCT', 'FT_PCT', 'FG3_PCT', 'AST', 'REB', 'TOV'], 'rowSet': [['2020-02-27T00:00:00', 1, '0021900873', 1610612752, 'NYK', 'New York', 'Knicks', '17-42', 21, 25, 33, 27, 0, 0, 0, 0, 0, 0, 0, 0, 0, 0, 106, 0.506, 0.583, 0.348, 28, 39, 8], ['2020-02-27T00:00:00', 1, '0021900873', 1610612755, 'PHI', 'Philadelphia', '76ers', '37-23', 26, 35, 26, 28, 0, 0, 0, 0, 0, 0, 0, 0, 0, 0, 115, 0.495, 0.769, 0.484, 32, 44, 6], ['2020-02-27T00:00:00', 2, '0021900874', 1610612757, 'POR', 'Portland', 'Trail Blazers', '26-34', 24, 25, 26, 25, 0, 0, 0, 0, 0, 0, 0, 0, 0, 0, 100, 0.461, 0.643, 0.3, 14, 45, 14], ['2020-02-27T00:00:00', 2, '0021900874', 1610612754, 'IND', 'Indiana', 'Pacers', '35-24', 30, 13, 37, 26, 0, 0, 0, 0, 0, 0, 0, 0, 0, 0, 106, 0.444, 0.783, 0.32, 21, 48, 11], ['2020-02-27T00:00:00', 3, '0021900875', 1610612758, 'SAC', 'Sacramento', 'Kings', '24-34', 27, 34, 21, 26, 0, 0, 0, 0, 0, 0, 0, 0, 0, 0, 108, 0.451, 1.0, 0.343, 30, 45, 15], ['2020-02-27T00:00:00', 3, '0021900875', 1610612760, 'OKC', 'Oklahoma City', 'Thunder', '37-22', 25, 25, 31, 31, 0, 0, 0, 0, 0, 0, 0, 0, 0, 0, 112, 0.488, 0.724, 0.346, 20, 37, 9], ['2020-02-27T00:00:00', 4, '0021900876', 1610612747, 'LAL', 'Los Angeles', 'Lakers', '45-12', 24, 30, 40, 22, 0, 0, 0, 0, 0, 0, 0, 0, 0, 0, 116, 0.511, 0.667, 0.333, 24, 44, 16], ['2020-02-27T00:00:00', 4, '0021900876', 1610612744, 'GSW', 'Golden State', 'Warriors', '12-47', 24, 28, 17, 17, 0, 0, 0, 0, 0, 0, 0, 0, 0, 0, 86, 0.425, 0.9, 0.281, 27, 37, 26]]}, {'name': 'SeriesStandings', 'headers': ['GAME_ID', 'HOME_TEAM_ID', 'VISITOR_TEAM_ID', 'GAME_DATE_EST', 'HOME_TEAM_WINS', 'HOME_TEAM_LOSSES', 'SERIES_LEADER'], 'rowSet': [['0021900875', 1610612760, 1610612758, '2020-02-27T00:00:00', 2, 1, 'Oklahoma City'], ['0021900873', 1610612755, 1610612752, '2020-02-27T00:00:00', 4, 0, 'Philadelphia'], ['0021900874', 1610612754, 1610612757, '2020-02-27T00:00:00', 1, 1, 'Tied'], ['0021900876', 1610612744, 1610612747, '2020-02-27T00:00:00', 0, 3, 'L.A. Lakers']]}, {'name': 'LastMeeting', 'headers': ['GAME_ID', 'LAST_GAME_ID', 'LAST_GAME_DATE_EST', 'LAST_GAME_HOME_TEAM_ID', 'LAST_GAME_HOME_TEAM_CITY', 'LAST_GAME_HOME_TEAM_NAME', 'LAST_GAME_HOME_TEAM_ABBREVIATION', 'LAST_GAME_HOME_TEAM_POINTS', 'LAST_GAME_VISITOR_TEAM_ID', 'LAST_GAME_VISITOR_TEAM_CITY', 'LAST_GAME_VISITOR_TEAM_NAME', 'LAST_GAME_VISITOR_TEAM_CITY1', 'LAST_GAME_VISITOR_TEAM_POINTS'], 'rowSet': [['0021900873', '0021900630', '2020-01-18T00:00:00', 1610612755, 'Philadelphia', '76ers', 'PHI', 90, 1610612752, 'New York', 'Knicks', 'NYK', 87], ['0021900874', '0021900692', '2020-01-26T00:00:00', 1610612754, 'Indiana', 'Pacers', 'IND', 129, 1610612757, 'Portland', 'Trail Blazers', 'POR', 139], ['0021900875', '0021900713', '2020-01-29T00:00:00', 1610612760, 'Oklahoma City', 'Thunder', 'OKC', 120, 1610612758, 'Sacramento', 'Kings', 'SAC', 100], ['0021900876', '0021900783', '2020-02-08T00:00:00', 1610612744, 'Golden State', 'Warriors', 'GSW', 120, 1610612747, 'Los Angeles', 'Lakers', 'LAL', 125]]}, {'name': 'EastConfStandingsByDay', 'headers': ['TEAM_ID', 'LEAGUE_ID', 'SEASON_ID', 'STANDINGSDATE', 'CONFERENCE', 'TEAM', 'G', 'W', 'L', 'W_PCT', 'HOME_RECORD', 'ROAD_RECORD'], 'rowSet': [[1610612749, '00', '22019', '02/27/2020', 'East', 'Milwaukee', 58, 50, 8, 0.862, '26-3', '24-5'], [1610612761, '00', '22019', '02/27/2020', 'East', 'Toronto', 58, 42, 16, 0.724, '23-8', '19-8'], [1610612738, '00', '22019', '02/27/2020', 'East', 'Boston', 58, 41, 17, 0.707, '23-5', '18-12'], [1610612748, '00', '22019', '02/27/2020', 'East', 'Miami', 58, 36, 22, 0.621, '23-4', '13-18'], [1610612755, '00', '22019', '02/27/2020', 'East', 'Philadelphia', 60, 37, 23, 0.617, '28-2', '9-21'], [1610612754, '00', '22019', '02/27/2020', 'East', 'Indiana', 59, 35, 24, 0.593, '21-10', '14-14'], [1610612751, '00', '22019', '02/27/2020', 'East', 'Brooklyn', 57, 26, 31, 0.456, '16-13', '10-18'], [1610612753, '00', '22019', '02/27/2020', 'East', 'Orlando', 58, 26, 32, 0.448, '15-14', '11-18'], [1610612764, '00', '22019', '02/27/2020', 'East', 'Washington', 57, 21, 36, 0.368, '14-15', '7-21'], [1610612766, '00', '22019', '02/27/2020', 'East', 'Charlotte', 58, 20, 38, 0.345, '9-18', '11-20'], [1610612741, '00', '22019', '02/27/2020', 'East', 'Chicago', 59, 20, 39, 0.339, '12-19', '8-20'], [1610612765, '00', '22019', '02/27/2020', 'East', 'Detroit', 60, 19, 41, 0.317, '11-20', '8-21'], [1610612739, '00', '22019', '02/27/2020', 'East', 'Cleveland', 58, 17, 41, 0.293, '9-22', '8-19'], [1610612752, '00', '22019', '02/27/2020', 'East', 'New York', 59, 17, 42, 0.288, '8-20', '9-22'], [1610612737, '00', '22019', '02/27/2020', 'East', 'Atlanta', 60, 17, 43, 0.283, '11-18', '6-25']]}, {'name': 'WestConfStandingsByDay', 'headers': ['TEAM_ID', 'LEAGUE_ID', 'SEASON_ID', 'STANDINGSDATE', 'CONFERENCE', 'TEAM', 'G', 'W', 'L', 'W_PCT', 'HOME_RECORD', 'ROAD_RECORD'], 'rowSet': [[1610612747, '00', '22019', '02/27/2020', 'West', 'L.A. Lakers', 57, 45, 12, 0.789, '21-7', '24-5'], [1610612743, '00', '22019', '02/27/2020', 'West', 'Denver', 58, 40, 18, 0.69, '23-7', '17-11'], [1610612746, '00', '22019', '02/27/2020', 'West', 'LA Clippers', 58, 39, 19, 0.672, '23-6', '16-13'], [1610612745, '00', '22019', '02/27/2020', 'West', 'Houston', 58, 38, 20, 0.655, '21-8', '17-12'], [1610612760, '00', '22019', '02/27/2020', 'West', 'Oklahoma City', 59, 37, 22, 0.627, '20-12', '17-10'], [1610612762, '00', '22019', '02/27/2020', 'West', 'Utah', 58, 36, 22, 0.621, '20-9', '16-13'], [1610612742, '00', '22019', '02/27/2020', 'West', 'Dallas', 59, 36, 23, 0.61, '16-14', '20-9'], [1610612763, '00', '22019', '02/27/2020', 'West', 'Memphis', 58, 28, 30, 0.483, '16-13', '12-17'], [1610612757, '00', '22019', '02/27/2020', 'West', 'Portland', 60, 26, 34, 0.433, '16-13', '10-21'], [1610612740, '00', '22019', '02/27/2020', 'West', 'New Orleans', 58, 25, 33, 0.431, '11-17', '14-16'], [1610612759, '00', '22019', '02/27/2020', 'West', 'San Antonio', 57, 24, 33, 0.421, '14-13', '10-20'], [1610612758, '00', '22019', '02/27/2020', 'West', 'Sacramento', 58, 24, 34, 0.414, '12-15', '12-19'], [1610612756, '00', '22019', '02/27/2020', 'West', 'Phoenix', 59, 24, 35, 0.407, '11-19', '13-16'], [1610612750, '00', '22019', '02/27/2020', 'West', 'Minnesota', 57, 17, 40, 0.298, '7-21', '10-19'], [1610612744, '00', '22019', '02/27/2020', 'West', 'Golden State', 59, 12, 47, 0.203, '7-23', '5-24']]}, {'name': 'Available', 'headers': ['GAME_ID', 'PT_AVAILABLE'], 'rowSet': [['0021900873', 1], ['0021900874', 1], ['0021900875', 1], ['0021900876', 1]]}, {'name': 'TeamLeaders', 'headers': ['GAME_ID', 'TEAM_ID', 'TEAM_CITY', 'TEAM_NICKNAME', 'TEAM_ABBREVIATION', 'PTS_PLAYER_ID', 'PTS_PLAYER_NAME', 'PTS', 'REB_PLAYER_ID', 'REB_PLAYER_NAME', 'REB', 'AST_PLAYER_ID', 'AST_PLAYER_NAME', 'AST'], 'rowSet': [['0021900873', 1610612752, 'New York', 'Knicks', 'NYK', 203944, 'Julius Randle', 30, 203944, 'Julius Randle', 10, 203901, 'Elfrid Payton', 12], ['0021900873', 1610612755, 'Philadelphia', '76ers', 'PHI', 202699, 'Tobias Harris', 34, 203124, \"Kyle O'Quinn\", 10, 201143, 'Al Horford', 9], ['0021900874', 1610612754, 'Indiana', 'Pacers', 'IND', 1627734, 'Domantas Sabonis', 20, 1627734, 'Domantas Sabonis', 11, 1627763, 'Malcolm Brogdon', 8], ['0021900874', 1610612757, 'Portland', 'Trail Blazers', 'POR', 203468, 'CJ McCollum', 28, 202355, 'Hassan Whiteside', 16, 203468, 'CJ McCollum', 8], ['0021900875', 1610612758, 'Sacramento', 'Kings', 'SAC', 203084, 'Harrison Barnes', 21, 203458, 'Alex Len', 11, 202709, 'Cory Joseph', 11], ['0021900875', 1610612760, 'Oklahoma City', 'Thunder', 'OKC', 201568, 'Danilo Gallinari', 24, 203457, 'Nerlens Noel', 7, 101108, 'Chris Paul', 7], ['0021900876', 1610612744, 'Golden State', 'Warriors', 'GSW', 1629672, 'Eric Paschall', 23, 1627737, 'Marquese Chriss', 7, 1629673, 'Jordan Poole', 8], ['0021900876', 1610612747, 'Los Angeles', 'Lakers', 'LAL', 203076, 'Anthony Davis', 23, 2730, 'Dwight Howard', 9, 200765, 'Rajon Rondo', 6]]}, {'name': 'TicketLinks', 'headers': ['GAME_ID', 'LEAG_TIX'], 'rowSet': [['0021900873', 'https://www.stubhub.com/event/104274250/?gcid=chPRT-_-geoUS-_-genNBA-_-cmpgame30-_-part76ers'], ['0021900874', 'https://ticketmaster.com/event/05005709A38C3D33?brand=nba&extcmp=gw513149&wt.mc_id=NBA_LEAGUE_IND_SINGLE_GAME_LINK&utm_source=NBA.com&utm_medium=client&utm_campaign=NBA_LEAGUE_IND&utm_content=SINGLE_GAME_LINK'], ['0021900875', 'https://www.ticketmaster.com/event/0C00570BD03E306C?brand=nba&extcmp=gw513157&wt.mc_id=NBA_LEAGUE_OKC_SINGLE_GAME_LINK&utm_source=NBA.com&utm_medium=client&utm_campaign=NBA_LEAGUE_OKC&utm_content=SINGLE_GAME_LINK'], ['0021900876', 'https://www.ticketmaster.com/event/1C005707E1185918?brand=nba&extcmp=gw513148&wt.mc_id=NBA_LEAGUE_GSW_SINGLE_GAME_LINK&utm_source=NBA.com&utm_medium=client&utm_campaign=NBA_LEAGUE_GSW&utm_content=SINGLE_GAME_LINK']]}, {'name': 'WinProbability', 'headers': [], 'rowSet': []}]}\n"
    }
   ],
   "source": [
    "response = requests.get(\"https://stats.nba.com/stats/scoreboardV2\", params=parameters, headers=headers, verify=False, timeout=10)\n",
    "print(response.url)\n",
    "print(response.status_code)\n",
    "print(response.json())"
   ]
  },
  {
   "cell_type": "code",
   "execution_count": 61,
   "metadata": {},
   "outputs": [],
   "source": [
    "\n",
    "class BoxScoreTraditionalV2():\n",
    "    endpoint = 'boxscoretraditionalv2'\n",
    "    expected_data = {'PlayerStats': ['GAME_ID', 'TEAM_ID', 'TEAM_ABBREVIATION', 'TEAM_CITY', 'PLAYER_ID', 'PLAYER_NAME', 'START_POSITION', 'COMMENT', 'MIN', 'FGM', 'FGA', 'FG_PCT', 'FG3M', 'FG3A', 'FG3_PCT', 'FTM', 'FTA', 'FT_PCT', 'OREB', 'DREB', 'REB', 'AST', 'STL', 'BLK', 'TO', 'PF', 'PTS', 'PLUS_MINUS'], 'TeamStarterBenchStats': ['GAME_ID', 'TEAM_ID', 'TEAM_NAME', 'TEAM_ABBREVIATION', 'TEAM_CITY', 'STARTERS_BENCH', 'MIN', 'FGM', 'FGA', 'FG_PCT', 'FG3M', 'FG3A', 'FG3_PCT', 'FTM', 'FTA', 'FT_PCT', 'OREB', 'DREB', 'REB', 'AST', 'STL', 'BLK', 'TO', 'PF', 'PTS'], 'TeamStats': ['GAME_ID', 'TEAM_ID', 'TEAM_NAME', 'TEAM_ABBREVIATION', 'TEAM_CITY', 'MIN', 'FGM', 'FGA', 'FG_PCT', 'FG3M', 'FG3A', 'FG3_PCT', 'FTM', 'FTA', 'FT_PCT', 'OREB', 'DREB', 'REB', 'AST', 'STL', 'BLK', 'TO', 'PF', 'PTS', 'PLUS_MINUS']}\n",
    "\n",
    "    nba_response = None\n",
    "    data_sets = None\n",
    "    player_stats = None\n",
    "    team_stats = None\n",
    "    headers = None\n",
    "    base_url = \"\"\n",
    "\n",
    "    def __init__(self,\n",
    "                 game_id,\n",
    "                 base_url,\n",
    "                 end_period=None,\n",
    "                 end_range=None,\n",
    "                 range_type=None,\n",
    "                 start_period=None,\n",
    "                 start_range=None,\n",
    "                 proxy=None,\n",
    "                 headers=None,\n",
    "                 parameters=None,\n",
    "                 timeout=30,\n",
    "                 get_request=True):\n",
    "        self.proxy = proxy\n",
    "        self.base_url = base_url\n",
    "        if headers is not None:\n",
    "            self.headers = headers\n",
    "        else:\n",
    "            self.headers = {\n",
    "            \"Host\": \"stats.nba.com\",\n",
    "            \"User-Agent\": \"Mozilla/5.0 (X11; Ubuntu; Linux x86_64; rv:74.0) Gecko/20100101 Firefox/74.0\",\n",
    "            \"Accept\": \"application/json, text/plain, */*\",\n",
    "            \"Accept-Language\": \"en-US,en;q=0.5\",\n",
    "            \"Accept-Encoding\": \"gzip, deflate, br\",\n",
    "            \"X-NewRelic-ID\": \"VQECWF5UChAHUlNTBwgBVw==\",\n",
    "            \"x-nba-stats-origin\": \"stats\",\n",
    "            \"x-nba-stats-token\": \"true\"\n",
    "            }\n",
    "        self.timeout = timeout\n",
    "        if parameters is not None:\n",
    "            self.parameters = parameters\n",
    "        else:\n",
    "            self.parameters = {\n",
    "                    'GameID': game_id,\n",
    "                    'EndPeriod': end_period,\n",
    "                    'EndRange': end_range,\n",
    "                    'RangeType': range_type,\n",
    "                    'StartPeriod': start_period,\n",
    "                    'StartRange': start_range\n",
    "            }\n",
    "        \n",
    "        if get_request:\n",
    "            self.get_request()\n",
    "    \n",
    "    def get_request(self):\n",
    "        print(self.base_url)\n",
    "        print(self.parameters)\n",
    "        print(self.headers)\n",
    "        print(self.proxy)\n",
    "        print(self.timeout)\n",
    "        response = requests.get(url=self.base_url, params=self.parameters, headers=self.headers, verify=False, timeout=self.timeout)\n",
    "        contents = response.text\n",
    "        # custom return dictionary, TODO: modify\n",
    "        cust_game = {\n",
    "            'response_url': response.url,\n",
    "            'status': response.status_code,\n",
    "            'content': response.json()\n",
    "        }\n",
    "        return cust_game\n",
    "        \n",
    "    def load_response(self):\n",
    "        pass\n",
    "        #data_sets = self.nba_response.get_data_sets()\n",
    "        #self.data_sets = [Endpoint.DataSet(data=data_set) for data_set_name, data_set in data_sets.items()]\n",
    "        #self.player_stats = Endpoint.DataSet(data=data_sets['PlayerStats'])\n",
    "        #self.team_starter_bench_stats = Endpoint.DataSet(data=data_sets['TeamStarterBenchStats'])\n",
    "        #self.team_stats = Endpoint.DataSet(data=data_sets['TeamStats'])"
   ]
  },
  {
   "cell_type": "code",
   "execution_count": 62,
   "metadata": {},
   "outputs": [
    {
     "output_type": "stream",
     "name": "stdout",
     "text": "https://stats.nba.com/stats/scoreboardV2\n{'DayOffset': '0', 'LeagueID': '00', 'gameDate': '02/27/2020'}\n{'Host': 'stats.nba.com', 'User-Agent': 'Mozilla/5.0 (X11; Ubuntu; Linux x86_64; rv:74.0) Gecko/20100101 Firefox/74.0', 'Accept': 'application/json, text/plain, */*', 'Accept-Language': 'en-US,en;q=0.5', 'Accept-Encoding': 'gzip, deflate, br', 'X-NewRelic-ID': 'VQECWF5UChAHUlNTBwgBVw==', 'x-nba-stats-origin': 'stats', 'x-nba-stats-token': 'true'}\nNone\n30\n"
    }
   ],
   "source": [
    "test = BoxScoreTraditionalV2(base_url = 'https://stats.nba.com/stats/scoreboardV2', parameters=parameters, game_id=\"0021900808\", headers=headers)"
   ]
  },
  {
   "cell_type": "code",
   "execution_count": 63,
   "metadata": {},
   "outputs": [
    {
     "output_type": "stream",
     "name": "stdout",
     "text": "https://stats.nba.com/stats/scoreboardV2\n{'DayOffset': '0', 'LeagueID': '00', 'gameDate': '02/27/2020'}\n{'Host': 'stats.nba.com', 'User-Agent': 'Mozilla/5.0 (X11; Ubuntu; Linux x86_64; rv:74.0) Gecko/20100101 Firefox/74.0', 'Accept': 'application/json, text/plain, */*', 'Accept-Language': 'en-US,en;q=0.5', 'Accept-Encoding': 'gzip, deflate, br', 'X-NewRelic-ID': 'VQECWF5UChAHUlNTBwgBVw==', 'x-nba-stats-origin': 'stats', 'x-nba-stats-token': 'true'}\nNone\n30\n{'response_url': 'https://stats.nba.com/stats/scoreboardV2?DayOffset=0&LeagueID=00&gameDate=02%2F27%2F2020', 'status': 200, 'content': {'resource': 'scoreboardV2', 'parameters': {'GameDate': '02/27/2020', 'LeagueID': '00', 'DayOffset': '0'}, 'resultSets': [{'name': 'GameHeader', 'headers': ['GAME_DATE_EST', 'GAME_SEQUENCE', 'GAME_ID', 'GAME_STATUS_ID', 'GAME_STATUS_TEXT', 'GAMECODE', 'HOME_TEAM_ID', 'VISITOR_TEAM_ID', 'SEASON', 'LIVE_PERIOD', 'LIVE_PC_TIME', 'NATL_TV_BROADCASTER_ABBREVIATION', 'HOME_TV_BROADCASTER_ABBREVIATION', 'AWAY_TV_BROADCASTER_ABBREVIATION', 'LIVE_PERIOD_TIME_BCAST', 'ARENA_NAME', 'WH_STATUS'], 'rowSet': [['2020-02-27T00:00:00', 1, '0021900873', 3, 'Final', '20200227/NYKPHI', 1610612755, 1610612752, '2019', 4, '     ', None, 'NBCSP', 'MSG', 'Q4       - ', 'Wells Fargo Center', 1], ['2020-02-27T00:00:00', 2, '0021900874', 3, 'Final', '20200227/PORIND', 1610612754, 1610612757, '2019', 4, '     ', 'TNT', None, 'NBCSNW', 'Q4       - TNT', 'Bankers Life Fieldhouse', 1], ['2020-02-27T00:00:00', 3, '0021900875', 3, 'Final', '20200227/SACOKC', 1610612760, 1610612758, '2019', 4, '     ', None, 'FSOK', 'NBCSCA', 'Q4       - ', 'Chesapeake Energy Arena', 1], ['2020-02-27T00:00:00', 4, '0021900876', 3, 'Final', '20200227/LALGSW', 1610612744, 1610612747, '2019', 4, '     ', 'TNT', None, 'SPECSN', 'Q4       - TNT', 'Chase Center', 1]]}, {'name': 'LineScore', 'headers': ['GAME_DATE_EST', 'GAME_SEQUENCE', 'GAME_ID', 'TEAM_ID', 'TEAM_ABBREVIATION', 'TEAM_CITY_NAME', 'TEAM_NAME', 'TEAM_WINS_LOSSES', 'PTS_QTR1', 'PTS_QTR2', 'PTS_QTR3', 'PTS_QTR4', 'PTS_OT1', 'PTS_OT2', 'PTS_OT3', 'PTS_OT4', 'PTS_OT5', 'PTS_OT6', 'PTS_OT7', 'PTS_OT8', 'PTS_OT9', 'PTS_OT10', 'PTS', 'FG_PCT', 'FT_PCT', 'FG3_PCT', 'AST', 'REB', 'TOV'], 'rowSet': [['2020-02-27T00:00:00', 1, '0021900873', 1610612752, 'NYK', 'New York', 'Knicks', '17-42', 21, 25, 33, 27, 0, 0, 0, 0, 0, 0, 0, 0, 0, 0, 106, 0.506, 0.583, 0.348, 28, 39, 8], ['2020-02-27T00:00:00', 1, '0021900873', 1610612755, 'PHI', 'Philadelphia', '76ers', '37-23', 26, 35, 26, 28, 0, 0, 0, 0, 0, 0, 0, 0, 0, 0, 115, 0.495, 0.769, 0.484, 32, 44, 6], ['2020-02-27T00:00:00', 2, '0021900874', 1610612757, 'POR', 'Portland', 'Trail Blazers', '26-34', 24, 25, 26, 25, 0, 0, 0, 0, 0, 0, 0, 0, 0, 0, 100, 0.461, 0.643, 0.3, 14, 45, 14], ['2020-02-27T00:00:00', 2, '0021900874', 1610612754, 'IND', 'Indiana', 'Pacers', '35-24', 30, 13, 37, 26, 0, 0, 0, 0, 0, 0, 0, 0, 0, 0, 106, 0.444, 0.783, 0.32, 21, 48, 11], ['2020-02-27T00:00:00', 3, '0021900875', 1610612758, 'SAC', 'Sacramento', 'Kings', '24-34', 27, 34, 21, 26, 0, 0, 0, 0, 0, 0, 0, 0, 0, 0, 108, 0.451, 1.0, 0.343, 30, 45, 15], ['2020-02-27T00:00:00', 3, '0021900875', 1610612760, 'OKC', 'Oklahoma City', 'Thunder', '37-22', 25, 25, 31, 31, 0, 0, 0, 0, 0, 0, 0, 0, 0, 0, 112, 0.488, 0.724, 0.346, 20, 37, 9], ['2020-02-27T00:00:00', 4, '0021900876', 1610612747, 'LAL', 'Los Angeles', 'Lakers', '45-12', 24, 30, 40, 22, 0, 0, 0, 0, 0, 0, 0, 0, 0, 0, 116, 0.511, 0.667, 0.333, 24, 44, 16], ['2020-02-27T00:00:00', 4, '0021900876', 1610612744, 'GSW', 'Golden State', 'Warriors', '12-47', 24, 28, 17, 17, 0, 0, 0, 0, 0, 0, 0, 0, 0, 0, 86, 0.425, 0.9, 0.281, 27, 37, 26]]}, {'name': 'SeriesStandings', 'headers': ['GAME_ID', 'HOME_TEAM_ID', 'VISITOR_TEAM_ID', 'GAME_DATE_EST', 'HOME_TEAM_WINS', 'HOME_TEAM_LOSSES', 'SERIES_LEADER'], 'rowSet': [['0021900875', 1610612760, 1610612758, '2020-02-27T00:00:00', 2, 1, 'Oklahoma City'], ['0021900873', 1610612755, 1610612752, '2020-02-27T00:00:00', 4, 0, 'Philadelphia'], ['0021900874', 1610612754, 1610612757, '2020-02-27T00:00:00', 1, 1, 'Tied'], ['0021900876', 1610612744, 1610612747, '2020-02-27T00:00:00', 0, 3, 'L.A. Lakers']]}, {'name': 'LastMeeting', 'headers': ['GAME_ID', 'LAST_GAME_ID', 'LAST_GAME_DATE_EST', 'LAST_GAME_HOME_TEAM_ID', 'LAST_GAME_HOME_TEAM_CITY', 'LAST_GAME_HOME_TEAM_NAME', 'LAST_GAME_HOME_TEAM_ABBREVIATION', 'LAST_GAME_HOME_TEAM_POINTS', 'LAST_GAME_VISITOR_TEAM_ID', 'LAST_GAME_VISITOR_TEAM_CITY', 'LAST_GAME_VISITOR_TEAM_NAME', 'LAST_GAME_VISITOR_TEAM_CITY1', 'LAST_GAME_VISITOR_TEAM_POINTS'], 'rowSet': [['0021900873', '0021900630', '2020-01-18T00:00:00', 1610612755, 'Philadelphia', '76ers', 'PHI', 90, 1610612752, 'New York', 'Knicks', 'NYK', 87], ['0021900874', '0021900692', '2020-01-26T00:00:00', 1610612754, 'Indiana', 'Pacers', 'IND', 129, 1610612757, 'Portland', 'Trail Blazers', 'POR', 139], ['0021900875', '0021900713', '2020-01-29T00:00:00', 1610612760, 'Oklahoma City', 'Thunder', 'OKC', 120, 1610612758, 'Sacramento', 'Kings', 'SAC', 100], ['0021900876', '0021900783', '2020-02-08T00:00:00', 1610612744, 'Golden State', 'Warriors', 'GSW', 120, 1610612747, 'Los Angeles', 'Lakers', 'LAL', 125]]}, {'name': 'EastConfStandingsByDay', 'headers': ['TEAM_ID', 'LEAGUE_ID', 'SEASON_ID', 'STANDINGSDATE', 'CONFERENCE', 'TEAM', 'G', 'W', 'L', 'W_PCT', 'HOME_RECORD', 'ROAD_RECORD'], 'rowSet': [[1610612749, '00', '22019', '02/27/2020', 'East', 'Milwaukee', 58, 50, 8, 0.862, '26-3', '24-5'], [1610612761, '00', '22019', '02/27/2020', 'East', 'Toronto', 58, 42, 16, 0.724, '23-8', '19-8'], [1610612738, '00', '22019', '02/27/2020', 'East', 'Boston', 58, 41, 17, 0.707, '23-5', '18-12'], [1610612748, '00', '22019', '02/27/2020', 'East', 'Miami', 58, 36, 22, 0.621, '23-4', '13-18'], [1610612755, '00', '22019', '02/27/2020', 'East', 'Philadelphia', 60, 37, 23, 0.617, '28-2', '9-21'], [1610612754, '00', '22019', '02/27/2020', 'East', 'Indiana', 59, 35, 24, 0.593, '21-10', '14-14'], [1610612751, '00', '22019', '02/27/2020', 'East', 'Brooklyn', 57, 26, 31, 0.456, '16-13', '10-18'], [1610612753, '00', '22019', '02/27/2020', 'East', 'Orlando', 58, 26, 32, 0.448, '15-14', '11-18'], [1610612764, '00', '22019', '02/27/2020', 'East', 'Washington', 57, 21, 36, 0.368, '14-15', '7-21'], [1610612766, '00', '22019', '02/27/2020', 'East', 'Charlotte', 58, 20, 38, 0.345, '9-18', '11-20'], [1610612741, '00', '22019', '02/27/2020', 'East', 'Chicago', 59, 20, 39, 0.339, '12-19', '8-20'], [1610612765, '00', '22019', '02/27/2020', 'East', 'Detroit', 60, 19, 41, 0.317, '11-20', '8-21'], [1610612739, '00', '22019', '02/27/2020', 'East', 'Cleveland', 58, 17, 41, 0.293, '9-22', '8-19'], [1610612752, '00', '22019', '02/27/2020', 'East', 'New York', 59, 17, 42, 0.288, '8-20', '9-22'], [1610612737, '00', '22019', '02/27/2020', 'East', 'Atlanta', 60, 17, 43, 0.283, '11-18', '6-25']]}, {'name': 'WestConfStandingsByDay', 'headers': ['TEAM_ID', 'LEAGUE_ID', 'SEASON_ID', 'STANDINGSDATE', 'CONFERENCE', 'TEAM', 'G', 'W', 'L', 'W_PCT', 'HOME_RECORD', 'ROAD_RECORD'], 'rowSet': [[1610612747, '00', '22019', '02/27/2020', 'West', 'L.A. Lakers', 57, 45, 12, 0.789, '21-7', '24-5'], [1610612743, '00', '22019', '02/27/2020', 'West', 'Denver', 58, 40, 18, 0.69, '23-7', '17-11'], [1610612746, '00', '22019', '02/27/2020', 'West', 'LA Clippers', 58, 39, 19, 0.672, '23-6', '16-13'], [1610612745, '00', '22019', '02/27/2020', 'West', 'Houston', 58, 38, 20, 0.655, '21-8', '17-12'], [1610612760, '00', '22019', '02/27/2020', 'West', 'Oklahoma City', 59, 37, 22, 0.627, '20-12', '17-10'], [1610612762, '00', '22019', '02/27/2020', 'West', 'Utah', 58, 36, 22, 0.621, '20-9', '16-13'], [1610612742, '00', '22019', '02/27/2020', 'West', 'Dallas', 59, 36, 23, 0.61, '16-14', '20-9'], [1610612763, '00', '22019', '02/27/2020', 'West', 'Memphis', 58, 28, 30, 0.483, '16-13', '12-17'], [1610612757, '00', '22019', '02/27/2020', 'West', 'Portland', 60, 26, 34, 0.433, '16-13', '10-21'], [1610612740, '00', '22019', '02/27/2020', 'West', 'New Orleans', 58, 25, 33, 0.431, '11-17', '14-16'], [1610612759, '00', '22019', '02/27/2020', 'West', 'San Antonio', 57, 24, 33, 0.421, '14-13', '10-20'], [1610612758, '00', '22019', '02/27/2020', 'West', 'Sacramento', 58, 24, 34, 0.414, '12-15', '12-19'], [1610612756, '00', '22019', '02/27/2020', 'West', 'Phoenix', 59, 24, 35, 0.407, '11-19', '13-16'], [1610612750, '00', '22019', '02/27/2020', 'West', 'Minnesota', 57, 17, 40, 0.298, '7-21', '10-19'], [1610612744, '00', '22019', '02/27/2020', 'West', 'Golden State', 59, 12, 47, 0.203, '7-23', '5-24']]}, {'name': 'Available', 'headers': ['GAME_ID', 'PT_AVAILABLE'], 'rowSet': [['0021900873', 1], ['0021900874', 1], ['0021900875', 1], ['0021900876', 1]]}, {'name': 'TeamLeaders', 'headers': ['GAME_ID', 'TEAM_ID', 'TEAM_CITY', 'TEAM_NICKNAME', 'TEAM_ABBREVIATION', 'PTS_PLAYER_ID', 'PTS_PLAYER_NAME', 'PTS', 'REB_PLAYER_ID', 'REB_PLAYER_NAME', 'REB', 'AST_PLAYER_ID', 'AST_PLAYER_NAME', 'AST'], 'rowSet': [['0021900873', 1610612752, 'New York', 'Knicks', 'NYK', 203944, 'Julius Randle', 30, 203944, 'Julius Randle', 10, 203901, 'Elfrid Payton', 12], ['0021900873', 1610612755, 'Philadelphia', '76ers', 'PHI', 202699, 'Tobias Harris', 34, 203124, \"Kyle O'Quinn\", 10, 201143, 'Al Horford', 9], ['0021900874', 1610612754, 'Indiana', 'Pacers', 'IND', 1627734, 'Domantas Sabonis', 20, 1627734, 'Domantas Sabonis', 11, 1627763, 'Malcolm Brogdon', 8], ['0021900874', 1610612757, 'Portland', 'Trail Blazers', 'POR', 203468, 'CJ McCollum', 28, 202355, 'Hassan Whiteside', 16, 203468, 'CJ McCollum', 8], ['0021900875', 1610612758, 'Sacramento', 'Kings', 'SAC', 203084, 'Harrison Barnes', 21, 203458, 'Alex Len', 11, 202709, 'Cory Joseph', 11], ['0021900875', 1610612760, 'Oklahoma City', 'Thunder', 'OKC', 201568, 'Danilo Gallinari', 24, 203457, 'Nerlens Noel', 7, 101108, 'Chris Paul', 7], ['0021900876', 1610612744, 'Golden State', 'Warriors', 'GSW', 1629672, 'Eric Paschall', 23, 1627737, 'Marquese Chriss', 7, 1629673, 'Jordan Poole', 8], ['0021900876', 1610612747, 'Los Angeles', 'Lakers', 'LAL', 203076, 'Anthony Davis', 23, 2730, 'Dwight Howard', 9, 200765, 'Rajon Rondo', 6]]}, {'name': 'TicketLinks', 'headers': ['GAME_ID', 'LEAG_TIX'], 'rowSet': [['0021900873', 'https://www.stubhub.com/event/104274250/?gcid=chPRT-_-geoUS-_-genNBA-_-cmpgame30-_-part76ers'], ['0021900874', 'https://ticketmaster.com/event/05005709A38C3D33?brand=nba&extcmp=gw513149&wt.mc_id=NBA_LEAGUE_IND_SINGLE_GAME_LINK&utm_source=NBA.com&utm_medium=client&utm_campaign=NBA_LEAGUE_IND&utm_content=SINGLE_GAME_LINK'], ['0021900875', 'https://www.ticketmaster.com/event/0C00570BD03E306C?brand=nba&extcmp=gw513157&wt.mc_id=NBA_LEAGUE_OKC_SINGLE_GAME_LINK&utm_source=NBA.com&utm_medium=client&utm_campaign=NBA_LEAGUE_OKC&utm_content=SINGLE_GAME_LINK'], ['0021900876', 'https://www.ticketmaster.com/event/1C005707E1185918?brand=nba&extcmp=gw513148&wt.mc_id=NBA_LEAGUE_GSW_SINGLE_GAME_LINK&utm_source=NBA.com&utm_medium=client&utm_campaign=NBA_LEAGUE_GSW&utm_content=SINGLE_GAME_LINK']]}, {'name': 'WinProbability', 'headers': [], 'rowSet': []}]}}\n"
    }
   ],
   "source": [
    "print(test.get_request())"
   ]
  }
 ]
}