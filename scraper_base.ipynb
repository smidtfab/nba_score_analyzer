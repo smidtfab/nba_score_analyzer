{
 "nbformat": 4,
 "nbformat_minor": 2,
 "metadata": {
  "language_info": {
   "name": "python",
   "codemirror_mode": {
    "name": "ipython",
    "version": 3
   },
   "version": "3.8.2-final"
  },
  "orig_nbformat": 2,
  "file_extension": ".py",
  "mimetype": "text/x-python",
  "name": "python",
  "npconvert_exporter": "python",
  "pygments_lexer": "ipython3",
  "version": 3,
  "kernelspec": {
   "name": "python37664bitbaseconda48e309b451f343b1ae2876c53010da4c",
   "display_name": "Python 3.7.6 64-bit ('base': conda)"
  }
 },
 "cells": [
  {
   "cell_type": "code",
   "execution_count": 1,
   "metadata": {},
   "outputs": [],
   "source": [
    "import requests\n",
    "from bs4 import BeautifulSoup as bs\n",
    "#from collections import deque\n",
    "import urllib.request\n",
    "#import re\n",
    "import json\n",
    "import pandas as pd\n",
    "import numpy as np"
   ]
  },
  {
   "cell_type": "code",
   "execution_count": 2,
   "metadata": {},
   "outputs": [
    {
     "output_type": "stream",
     "name": "stdout",
     "text": "0021900735\n0021900736\n0021900734\n0021900732\n0021900733\n0021900731\n0021900730\n0021900728\n0021900729\n0021900727\n"
    }
   ],
   "source": [
    "url = \"https://stats.nba.com/js/data/boxscorebreakdowns/2020/boxscore_breakdown_20200201.json\"\n",
    "response = requests.get(url)\n",
    "response.status_code\n",
    "data = response.json()\n",
    "games = data['results']\n",
    "\n",
    "game_ids = []\n",
    "\n",
    "for i in range(0, len(games)):\n",
    "   game_id = games[i]['GameID']\n",
    "   game_ids.append(game_id)\n",
    "   print(game_id)"
   ]
  },
  {
   "cell_type": "code",
   "execution_count": 3,
   "metadata": {},
   "outputs": [
    {
     "output_type": "execute_result",
     "data": {
      "text/plain": "{'DayOffset': '0', 'LeagueID': '00', 'gameDate': '02/27/2020'}"
     },
     "metadata": {},
     "execution_count": 3
    }
   ],
   "source": [
    "parameters = {\n",
    "    \"DayOffset\": \"0\",\n",
    "    \"LeagueID\": \"00\",\n",
    "    \"gameDate\": \"02/27/2020\"\n",
    "}\n",
    "parameters"
   ]
  },
  {
   "cell_type": "code",
   "execution_count": 4,
   "metadata": {},
   "outputs": [
    {
     "output_type": "execute_result",
     "data": {
      "text/plain": "{'Host': 'stats.nba.com',\n 'User-Agent': 'Mozilla/5.0 (X11; Ubuntu; Linux x86_64; rv:74.0) Gecko/20100101 Firefox/74.0',\n 'Accept': 'application/json, text/plain, */*',\n 'Accept-Language': 'en-US,en;q=0.5',\n 'Accept-Encoding': 'gzip, deflate, br',\n 'X-NewRelic-ID': 'VQECWF5UChAHUlNTBwgBVw==',\n 'x-nba-stats-origin': 'stats',\n 'x-nba-stats-token': 'true'}"
     },
     "metadata": {},
     "execution_count": 4
    }
   ],
   "source": [
    "headers = {\n",
    "    \"Host\": \"stats.nba.com\",\n",
    "    \"User-Agent\": \"Mozilla/5.0 (X11; Ubuntu; Linux x86_64; rv:74.0) Gecko/20100101 Firefox/74.0\",\n",
    "    \"Accept\": \"application/json, text/plain, */*\",\n",
    "    \"Accept-Language\": \"en-US,en;q=0.5\",\n",
    "    \"Accept-Encoding\": \"gzip, deflate, br\",\n",
    "    \"X-NewRelic-ID\": \"VQECWF5UChAHUlNTBwgBVw==\",\n",
    "    \"x-nba-stats-origin\": \"stats\",\n",
    "    \"x-nba-stats-token\": \"true\"\n",
    "}\n",
    "headers\n",
    ""
   ]
  },
  {
   "cell_type": "code",
   "execution_count": 5,
   "metadata": {},
   "outputs": [
    {
     "output_type": "stream",
     "name": "stdout",
     "text": "https://stats.nba.com/stats/scoreboardV2?DayOffset=0&LeagueID=00&gameDate=02%2F27%2F2020\n200\n{'resource': 'scoreboardV2', 'parameters': {'GameDate': '02/27/2020', 'LeagueID': '00', 'DayOffset': '0'}, 'resultSets': [{'name': 'GameHeader', 'headers': ['GAME_DATE_EST', 'GAME_SEQUENCE', 'GAME_ID', 'GAME_STATUS_ID', 'GAME_STATUS_TEXT', 'GAMECODE', 'HOME_TEAM_ID', 'VISITOR_TEAM_ID', 'SEASON', 'LIVE_PERIOD', 'LIVE_PC_TIME', 'NATL_TV_BROADCASTER_ABBREVIATION', 'HOME_TV_BROADCASTER_ABBREVIATION', 'AWAY_TV_BROADCASTER_ABBREVIATION', 'LIVE_PERIOD_TIME_BCAST', 'ARENA_NAME', 'WH_STATUS'], 'rowSet': [['2020-02-27T00:00:00', 1, '0021900873', 3, 'Final', '20200227/NYKPHI', 1610612755, 1610612752, '2019', 4, '     ', None, 'NBCSP', 'MSG', 'Q4       - ', 'Wells Fargo Center', 1], ['2020-02-27T00:00:00', 2, '0021900874', 3, 'Final', '20200227/PORIND', 1610612754, 1610612757, '2019', 4, '     ', 'TNT', None, 'NBCSNW', 'Q4       - TNT', 'Bankers Life Fieldhouse', 1], ['2020-02-27T00:00:00', 3, '0021900875', 3, 'Final', '20200227/SACOKC', 1610612760, 1610612758, '2019', 4, '     ', None, 'FSOK', 'NBCSCA', 'Q4       - ', 'Chesapeake Energy Arena', 1], ['2020-02-27T00:00:00', 4, '0021900876', 3, 'Final', '20200227/LALGSW', 1610612744, 1610612747, '2019', 4, '     ', 'TNT', None, 'SPECSN', 'Q4       - TNT', 'Chase Center', 1]]}, {'name': 'LineScore', 'headers': ['GAME_DATE_EST', 'GAME_SEQUENCE', 'GAME_ID', 'TEAM_ID', 'TEAM_ABBREVIATION', 'TEAM_CITY_NAME', 'TEAM_NAME', 'TEAM_WINS_LOSSES', 'PTS_QTR1', 'PTS_QTR2', 'PTS_QTR3', 'PTS_QTR4', 'PTS_OT1', 'PTS_OT2', 'PTS_OT3', 'PTS_OT4', 'PTS_OT5', 'PTS_OT6', 'PTS_OT7', 'PTS_OT8', 'PTS_OT9', 'PTS_OT10', 'PTS', 'FG_PCT', 'FT_PCT', 'FG3_PCT', 'AST', 'REB', 'TOV'], 'rowSet': [['2020-02-27T00:00:00', 1, '0021900873', 1610612752, 'NYK', 'New York', 'Knicks', '17-42', 21, 25, 33, 27, 0, 0, 0, 0, 0, 0, 0, 0, 0, 0, 106, 0.506, 0.583, 0.348, 28, 39, 8], ['2020-02-27T00:00:00', 1, '0021900873', 1610612755, 'PHI', 'Philadelphia', '76ers', '37-23', 26, 35, 26, 28, 0, 0, 0, 0, 0, 0, 0, 0, 0, 0, 115, 0.495, 0.769, 0.484, 32, 44, 6], ['2020-02-27T00:00:00', 2, '0021900874', 1610612757, 'POR', 'Portland', 'Trail Blazers', '26-34', 24, 25, 26, 25, 0, 0, 0, 0, 0, 0, 0, 0, 0, 0, 100, 0.461, 0.643, 0.3, 14, 45, 14], ['2020-02-27T00:00:00', 2, '0021900874', 1610612754, 'IND', 'Indiana', 'Pacers', '35-24', 30, 13, 37, 26, 0, 0, 0, 0, 0, 0, 0, 0, 0, 0, 106, 0.444, 0.783, 0.32, 21, 48, 11], ['2020-02-27T00:00:00', 3, '0021900875', 1610612758, 'SAC', 'Sacramento', 'Kings', '24-34', 27, 34, 21, 26, 0, 0, 0, 0, 0, 0, 0, 0, 0, 0, 108, 0.451, 1.0, 0.343, 30, 45, 15], ['2020-02-27T00:00:00', 3, '0021900875', 1610612760, 'OKC', 'Oklahoma City', 'Thunder', '37-22', 25, 25, 31, 31, 0, 0, 0, 0, 0, 0, 0, 0, 0, 0, 112, 0.488, 0.724, 0.346, 20, 37, 9], ['2020-02-27T00:00:00', 4, '0021900876', 1610612747, 'LAL', 'Los Angeles', 'Lakers', '45-12', 24, 30, 40, 22, 0, 0, 0, 0, 0, 0, 0, 0, 0, 0, 116, 0.511, 0.667, 0.333, 24, 44, 16], ['2020-02-27T00:00:00', 4, '0021900876', 1610612744, 'GSW', 'Golden State', 'Warriors', '12-47', 24, 28, 17, 17, 0, 0, 0, 0, 0, 0, 0, 0, 0, 0, 86, 0.425, 0.9, 0.281, 27, 37, 26]]}, {'name': 'SeriesStandings', 'headers': ['GAME_ID', 'HOME_TEAM_ID', 'VISITOR_TEAM_ID', 'GAME_DATE_EST', 'HOME_TEAM_WINS', 'HOME_TEAM_LOSSES', 'SERIES_LEADER'], 'rowSet': [['0021900875', 1610612760, 1610612758, '2020-02-27T00:00:00', 2, 1, 'Oklahoma City'], ['0021900873', 1610612755, 1610612752, '2020-02-27T00:00:00', 4, 0, 'Philadelphia'], ['0021900874', 1610612754, 1610612757, '2020-02-27T00:00:00', 1, 1, 'Tied'], ['0021900876', 1610612744, 1610612747, '2020-02-27T00:00:00', 0, 3, 'L.A. Lakers']]}, {'name': 'LastMeeting', 'headers': ['GAME_ID', 'LAST_GAME_ID', 'LAST_GAME_DATE_EST', 'LAST_GAME_HOME_TEAM_ID', 'LAST_GAME_HOME_TEAM_CITY', 'LAST_GAME_HOME_TEAM_NAME', 'LAST_GAME_HOME_TEAM_ABBREVIATION', 'LAST_GAME_HOME_TEAM_POINTS', 'LAST_GAME_VISITOR_TEAM_ID', 'LAST_GAME_VISITOR_TEAM_CITY', 'LAST_GAME_VISITOR_TEAM_NAME', 'LAST_GAME_VISITOR_TEAM_CITY1', 'LAST_GAME_VISITOR_TEAM_POINTS'], 'rowSet': [['0021900873', '0021900630', '2020-01-18T00:00:00', 1610612755, 'Philadelphia', '76ers', 'PHI', 90, 1610612752, 'New York', 'Knicks', 'NYK', 87], ['0021900874', '0021900692', '2020-01-26T00:00:00', 1610612754, 'Indiana', 'Pacers', 'IND', 129, 1610612757, 'Portland', 'Trail Blazers', 'POR', 139], ['0021900875', '0021900713', '2020-01-29T00:00:00', 1610612760, 'Oklahoma City', 'Thunder', 'OKC', 120, 1610612758, 'Sacramento', 'Kings', 'SAC', 100], ['0021900876', '0021900783', '2020-02-08T00:00:00', 1610612744, 'Golden State', 'Warriors', 'GSW', 120, 1610612747, 'Los Angeles', 'Lakers', 'LAL', 125]]}, {'name': 'EastConfStandingsByDay', 'headers': ['TEAM_ID', 'LEAGUE_ID', 'SEASON_ID', 'STANDINGSDATE', 'CONFERENCE', 'TEAM', 'G', 'W', 'L', 'W_PCT', 'HOME_RECORD', 'ROAD_RECORD'], 'rowSet': [[1610612749, '00', '22019', '02/27/2020', 'East', 'Milwaukee', 58, 50, 8, 0.862, '26-3', '24-5'], [1610612761, '00', '22019', '02/27/2020', 'East', 'Toronto', 58, 42, 16, 0.724, '23-8', '19-8'], [1610612738, '00', '22019', '02/27/2020', 'East', 'Boston', 58, 41, 17, 0.707, '23-5', '18-12'], [1610612748, '00', '22019', '02/27/2020', 'East', 'Miami', 58, 36, 22, 0.621, '23-4', '13-18'], [1610612755, '00', '22019', '02/27/2020', 'East', 'Philadelphia', 60, 37, 23, 0.617, '28-2', '9-21'], [1610612754, '00', '22019', '02/27/2020', 'East', 'Indiana', 59, 35, 24, 0.593, '21-10', '14-14'], [1610612751, '00', '22019', '02/27/2020', 'East', 'Brooklyn', 57, 26, 31, 0.456, '16-13', '10-18'], [1610612753, '00', '22019', '02/27/2020', 'East', 'Orlando', 58, 26, 32, 0.448, '15-14', '11-18'], [1610612764, '00', '22019', '02/27/2020', 'East', 'Washington', 57, 21, 36, 0.368, '14-15', '7-21'], [1610612766, '00', '22019', '02/27/2020', 'East', 'Charlotte', 58, 20, 38, 0.345, '9-18', '11-20'], [1610612741, '00', '22019', '02/27/2020', 'East', 'Chicago', 59, 20, 39, 0.339, '12-19', '8-20'], [1610612765, '00', '22019', '02/27/2020', 'East', 'Detroit', 60, 19, 41, 0.317, '11-20', '8-21'], [1610612739, '00', '22019', '02/27/2020', 'East', 'Cleveland', 58, 17, 41, 0.293, '9-22', '8-19'], [1610612752, '00', '22019', '02/27/2020', 'East', 'New York', 59, 17, 42, 0.288, '8-20', '9-22'], [1610612737, '00', '22019', '02/27/2020', 'East', 'Atlanta', 60, 17, 43, 0.283, '11-18', '6-25']]}, {'name': 'WestConfStandingsByDay', 'headers': ['TEAM_ID', 'LEAGUE_ID', 'SEASON_ID', 'STANDINGSDATE', 'CONFERENCE', 'TEAM', 'G', 'W', 'L', 'W_PCT', 'HOME_RECORD', 'ROAD_RECORD'], 'rowSet': [[1610612747, '00', '22019', '02/27/2020', 'West', 'L.A. Lakers', 57, 45, 12, 0.789, '21-7', '24-5'], [1610612743, '00', '22019', '02/27/2020', 'West', 'Denver', 58, 40, 18, 0.69, '23-7', '17-11'], [1610612746, '00', '22019', '02/27/2020', 'West', 'LA Clippers', 58, 39, 19, 0.672, '23-6', '16-13'], [1610612745, '00', '22019', '02/27/2020', 'West', 'Houston', 58, 38, 20, 0.655, '21-8', '17-12'], [1610612760, '00', '22019', '02/27/2020', 'West', 'Oklahoma City', 59, 37, 22, 0.627, '20-12', '17-10'], [1610612762, '00', '22019', '02/27/2020', 'West', 'Utah', 58, 36, 22, 0.621, '20-9', '16-13'], [1610612742, '00', '22019', '02/27/2020', 'West', 'Dallas', 59, 36, 23, 0.61, '16-14', '20-9'], [1610612763, '00', '22019', '02/27/2020', 'West', 'Memphis', 58, 28, 30, 0.483, '16-13', '12-17'], [1610612757, '00', '22019', '02/27/2020', 'West', 'Portland', 60, 26, 34, 0.433, '16-13', '10-21'], [1610612740, '00', '22019', '02/27/2020', 'West', 'New Orleans', 58, 25, 33, 0.431, '11-17', '14-16'], [1610612759, '00', '22019', '02/27/2020', 'West', 'San Antonio', 57, 24, 33, 0.421, '14-13', '10-20'], [1610612758, '00', '22019', '02/27/2020', 'West', 'Sacramento', 58, 24, 34, 0.414, '12-15', '12-19'], [1610612756, '00', '22019', '02/27/2020', 'West', 'Phoenix', 59, 24, 35, 0.407, '11-19', '13-16'], [1610612750, '00', '22019', '02/27/2020', 'West', 'Minnesota', 57, 17, 40, 0.298, '7-21', '10-19'], [1610612744, '00', '22019', '02/27/2020', 'West', 'Golden State', 59, 12, 47, 0.203, '7-23', '5-24']]}, {'name': 'Available', 'headers': ['GAME_ID', 'PT_AVAILABLE'], 'rowSet': [['0021900873', 1], ['0021900874', 1], ['0021900875', 1], ['0021900876', 1]]}, {'name': 'TeamLeaders', 'headers': ['GAME_ID', 'TEAM_ID', 'TEAM_CITY', 'TEAM_NICKNAME', 'TEAM_ABBREVIATION', 'PTS_PLAYER_ID', 'PTS_PLAYER_NAME', 'PTS', 'REB_PLAYER_ID', 'REB_PLAYER_NAME', 'REB', 'AST_PLAYER_ID', 'AST_PLAYER_NAME', 'AST'], 'rowSet': [['0021900873', 1610612752, 'New York', 'Knicks', 'NYK', 203944, 'Julius Randle', 30, 203944, 'Julius Randle', 10, 203901, 'Elfrid Payton', 12], ['0021900873', 1610612755, 'Philadelphia', '76ers', 'PHI', 202699, 'Tobias Harris', 34, 203124, \"Kyle O'Quinn\", 10, 201143, 'Al Horford', 9], ['0021900874', 1610612754, 'Indiana', 'Pacers', 'IND', 1627734, 'Domantas Sabonis', 20, 1627734, 'Domantas Sabonis', 11, 1627763, 'Malcolm Brogdon', 8], ['0021900874', 1610612757, 'Portland', 'Trail Blazers', 'POR', 203468, 'CJ McCollum', 28, 202355, 'Hassan Whiteside', 16, 203468, 'CJ McCollum', 8], ['0021900875', 1610612758, 'Sacramento', 'Kings', 'SAC', 203084, 'Harrison Barnes', 21, 203458, 'Alex Len', 11, 202709, 'Cory Joseph', 11], ['0021900875', 1610612760, 'Oklahoma City', 'Thunder', 'OKC', 201568, 'Danilo Gallinari', 24, 203457, 'Nerlens Noel', 7, 101108, 'Chris Paul', 7], ['0021900876', 1610612744, 'Golden State', 'Warriors', 'GSW', 1629672, 'Eric Paschall', 23, 1627737, 'Marquese Chriss', 7, 1629673, 'Jordan Poole', 8], ['0021900876', 1610612747, 'Los Angeles', 'Lakers', 'LAL', 203076, 'Anthony Davis', 23, 2730, 'Dwight Howard', 9, 200765, 'Rajon Rondo', 6]]}, {'name': 'TicketLinks', 'headers': ['GAME_ID', 'LEAG_TIX'], 'rowSet': [['0021900873', 'https://www.stubhub.com/event/104274250/?gcid=chPRT-_-geoUS-_-genNBA-_-cmpgame30-_-part76ers'], ['0021900874', 'https://ticketmaster.com/event/05005709A38C3D33?brand=nba&extcmp=gw513149&wt.mc_id=NBA_LEAGUE_IND_SINGLE_GAME_LINK&utm_source=NBA.com&utm_medium=client&utm_campaign=NBA_LEAGUE_IND&utm_content=SINGLE_GAME_LINK'], ['0021900875', 'https://www.ticketmaster.com/event/0C00570BD03E306C?brand=nba&extcmp=gw513157&wt.mc_id=NBA_LEAGUE_OKC_SINGLE_GAME_LINK&utm_source=NBA.com&utm_medium=client&utm_campaign=NBA_LEAGUE_OKC&utm_content=SINGLE_GAME_LINK'], ['0021900876', 'https://www.ticketmaster.com/event/1C005707E1185918?brand=nba&extcmp=gw513148&wt.mc_id=NBA_LEAGUE_GSW_SINGLE_GAME_LINK&utm_source=NBA.com&utm_medium=client&utm_campaign=NBA_LEAGUE_GSW&utm_content=SINGLE_GAME_LINK']]}, {'name': 'WinProbability', 'headers': [], 'rowSet': []}]}\n"
    }
   ],
   "source": [
    "response = requests.get(\"https://stats.nba.com/stats/scoreboardV2\", params=parameters, headers=headers, verify=False, timeout=10)\n",
    "print(response.url)\n",
    "print(response.status_code)\n",
    "print(response.json())"
   ]
  },
  {
   "cell_type": "code",
   "execution_count": 6,
   "metadata": {},
   "outputs": [],
   "source": [
    "\n",
    "class BoxScoreTraditionalV2():\n",
    "    endpoint = 'boxscoretraditionalv2'\n",
    "    expected_data = {'PlayerStats': ['GAME_ID', 'TEAM_ID', 'TEAM_ABBREVIATION', 'TEAM_CITY', 'PLAYER_ID', 'PLAYER_NAME', 'START_POSITION', 'COMMENT', 'MIN', 'FGM', 'FGA', 'FG_PCT', 'FG3M', 'FG3A', 'FG3_PCT', 'FTM', 'FTA', 'FT_PCT', 'OREB', 'DREB', 'REB', 'AST', 'STL', 'BLK', 'TO', 'PF', 'PTS', 'PLUS_MINUS'], 'TeamStarterBenchStats': ['GAME_ID', 'TEAM_ID', 'TEAM_NAME', 'TEAM_ABBREVIATION', 'TEAM_CITY', 'STARTERS_BENCH', 'MIN', 'FGM', 'FGA', 'FG_PCT', 'FG3M', 'FG3A', 'FG3_PCT', 'FTM', 'FTA', 'FT_PCT', 'OREB', 'DREB', 'REB', 'AST', 'STL', 'BLK', 'TO', 'PF', 'PTS'], 'TeamStats': ['GAME_ID', 'TEAM_ID', 'TEAM_NAME', 'TEAM_ABBREVIATION', 'TEAM_CITY', 'MIN', 'FGM', 'FGA', 'FG_PCT', 'FG3M', 'FG3A', 'FG3_PCT', 'FTM', 'FTA', 'FT_PCT', 'OREB', 'DREB', 'REB', 'AST', 'STL', 'BLK', 'TO', 'PF', 'PTS', 'PLUS_MINUS']}\n",
    "\n",
    "    nba_response = None\n",
    "    data_sets = None\n",
    "    player_stats = None\n",
    "    team_stats = None\n",
    "    headers = None\n",
    "    base_url = \"\"\n",
    "\n",
    "    def __init__(self,\n",
    "                 game_id,\n",
    "                 base_url,\n",
    "                 end_period=None,\n",
    "                 end_range=None,\n",
    "                 range_type=None,\n",
    "                 start_period=None,\n",
    "                 start_range=None,\n",
    "                 proxy=None,\n",
    "                 headers=None,\n",
    "                 timeout=30,\n",
    "                 get_request=True):\n",
    "        self.proxy = proxy\n",
    "        self.base_url = base_url\n",
    "        if headers is not None:\n",
    "            self.headers = headers\n",
    "        else:\n",
    "            self.headers = {\n",
    "            \"Host\": \"stats.nba.com\",\n",
    "            \"User-Agent\": \"Mozilla/5.0 (X11; Ubuntu; Linux x86_64; rv:74.0) Gecko/20100101 Firefox/74.0\",\n",
    "            \"Accept\": \"application/json, text/plain, */*\",\n",
    "            \"Accept-Language\": \"en-US,en;q=0.5\",\n",
    "            \"Accept-Encoding\": \"gzip, deflate, br\",\n",
    "            \"X-NewRelic-ID\": \"VQECWF5UChAHUlNTBwgBVw==\",\n",
    "            \"x-nba-stats-origin\": \"stats\",\n",
    "            \"x-nba-stats-token\": \"true\"\n",
    "            }\n",
    "        self.timeout = timeout\n",
    "        # if parameters is not None:\n",
    "        #     self.parameters = parameters\n",
    "        # else:\n",
    "        #     self.parameters = {\n",
    "        #             'GameID': game_id,\n",
    "        #             'EndPeriod': end_period,\n",
    "        #             'EndRange': end_range,\n",
    "        #             'RangeType': range_type,\n",
    "        #             'StartPeriod': start_period,\n",
    "        #             'StartRange': start_range\n",
    "        #     }\n",
    "        \n",
    "        # if get_request:\n",
    "        #     self.get_request()\n",
    "    \n",
    "    def get_request(self, params):\n",
    "        # print(self.base_url)\n",
    "        # print(self.parameters)\n",
    "        # print(self.headers)\n",
    "        # print(self.proxy)\n",
    "        # print(self.timeout)\n",
    "        response = requests.get(url=self.base_url, params=params, headers=self.headers, verify=False, timeout=self.timeout)\n",
    "        contents = response.text\n",
    "        # custom return dictionary, TODO: modify\n",
    "        cust_game = {\n",
    "            'response_url': response.url,\n",
    "            'status': response.status_code,\n",
    "            'content': response.json()\n",
    "        }\n",
    "        return cust_game\n",
    "        \n",
    "    def load_response(self, scraper_response):\n",
    "        # get all games for given day\n",
    "        games = scraper_response['content']['resultSets'][1]\n",
    "\n",
    "        # get headers\n",
    "        headers = games['headers']\n",
    "\n",
    "        # get rows --> the games (2 rows per game with same gameid)\n",
    "        rows = games['rowSet']\n",
    "        print(rows)\n",
    "\n",
    "        # create df from response\n",
    "        df = pd.DataFrame(np.array(rows), columns=headers)\n",
    "        \n",
    "        return df"
   ]
  },
  {
   "cell_type": "code",
   "execution_count": 7,
   "metadata": {},
   "outputs": [],
   "source": [
    "scraper = BoxScoreTraditionalV2(base_url = 'https://stats.nba.com/stats/scoreboardV2', game_id=\"0021900808\", headers=headers)"
   ]
  },
  {
   "cell_type": "code",
   "execution_count": 8,
   "metadata": {},
   "outputs": [
    {
     "output_type": "stream",
     "name": "stdout",
     "text": "[['2020-02-27T00:00:00', 1, '0021900873', 1610612752, 'NYK', 'New York', 'Knicks', '17-42', 21, 25, 33, 27, 0, 0, 0, 0, 0, 0, 0, 0, 0, 0, 106, 0.506, 0.583, 0.348, 28, 39, 8], ['2020-02-27T00:00:00', 1, '0021900873', 1610612755, 'PHI', 'Philadelphia', '76ers', '37-23', 26, 35, 26, 28, 0, 0, 0, 0, 0, 0, 0, 0, 0, 0, 115, 0.495, 0.769, 0.484, 32, 44, 6], ['2020-02-27T00:00:00', 2, '0021900874', 1610612757, 'POR', 'Portland', 'Trail Blazers', '26-34', 24, 25, 26, 25, 0, 0, 0, 0, 0, 0, 0, 0, 0, 0, 100, 0.461, 0.643, 0.3, 14, 45, 14], ['2020-02-27T00:00:00', 2, '0021900874', 1610612754, 'IND', 'Indiana', 'Pacers', '35-24', 30, 13, 37, 26, 0, 0, 0, 0, 0, 0, 0, 0, 0, 0, 106, 0.444, 0.783, 0.32, 21, 48, 11], ['2020-02-27T00:00:00', 3, '0021900875', 1610612758, 'SAC', 'Sacramento', 'Kings', '24-34', 27, 34, 21, 26, 0, 0, 0, 0, 0, 0, 0, 0, 0, 0, 108, 0.451, 1.0, 0.343, 30, 45, 15], ['2020-02-27T00:00:00', 3, '0021900875', 1610612760, 'OKC', 'Oklahoma City', 'Thunder', '37-22', 25, 25, 31, 31, 0, 0, 0, 0, 0, 0, 0, 0, 0, 0, 112, 0.488, 0.724, 0.346, 20, 37, 9], ['2020-02-27T00:00:00', 4, '0021900876', 1610612747, 'LAL', 'Los Angeles', 'Lakers', '45-12', 24, 30, 40, 22, 0, 0, 0, 0, 0, 0, 0, 0, 0, 0, 116, 0.511, 0.667, 0.333, 24, 44, 16], ['2020-02-27T00:00:00', 4, '0021900876', 1610612744, 'GSW', 'Golden State', 'Warriors', '12-47', 24, 28, 17, 17, 0, 0, 0, 0, 0, 0, 0, 0, 0, 0, 86, 0.425, 0.9, 0.281, 27, 37, 26]]\n"
    }
   ],
   "source": [
    "scraper_response = scraper.get_request(params=parameters)\n",
    "response_df1 = scraper.load_response(scraper_response)"
   ]
  },
  {
   "cell_type": "code",
   "execution_count": 9,
   "metadata": {},
   "outputs": [
    {
     "output_type": "execute_result",
     "data": {
      "text/plain": "         GAME_DATE_EST GAME_SEQUENCE     GAME_ID     TEAM_ID  \\\n0  2020-02-27T00:00:00             1  0021900873  1610612752   \n1  2020-02-27T00:00:00             1  0021900873  1610612755   \n2  2020-02-27T00:00:00             2  0021900874  1610612757   \n3  2020-02-27T00:00:00             2  0021900874  1610612754   \n4  2020-02-27T00:00:00             3  0021900875  1610612758   \n5  2020-02-27T00:00:00             3  0021900875  1610612760   \n6  2020-02-27T00:00:00             4  0021900876  1610612747   \n7  2020-02-27T00:00:00             4  0021900876  1610612744   \n\n  TEAM_ABBREVIATION TEAM_CITY_NAME      TEAM_NAME TEAM_WINS_LOSSES PTS_QTR1  \\\n0               NYK       New York         Knicks            17-42       21   \n1               PHI   Philadelphia          76ers            37-23       26   \n2               POR       Portland  Trail Blazers            26-34       24   \n3               IND        Indiana         Pacers            35-24       30   \n4               SAC     Sacramento          Kings            24-34       27   \n5               OKC  Oklahoma City        Thunder            37-22       25   \n6               LAL    Los Angeles         Lakers            45-12       24   \n7               GSW   Golden State       Warriors            12-47       24   \n\n  PTS_QTR2  ... PTS_OT8 PTS_OT9 PTS_OT10  PTS FG_PCT FT_PCT FG3_PCT AST REB  \\\n0       25  ...       0       0        0  106  0.506  0.583   0.348  28  39   \n1       35  ...       0       0        0  115  0.495  0.769   0.484  32  44   \n2       25  ...       0       0        0  100  0.461  0.643     0.3  14  45   \n3       13  ...       0       0        0  106  0.444  0.783    0.32  21  48   \n4       34  ...       0       0        0  108  0.451    1.0   0.343  30  45   \n5       25  ...       0       0        0  112  0.488  0.724   0.346  20  37   \n6       30  ...       0       0        0  116  0.511  0.667   0.333  24  44   \n7       28  ...       0       0        0   86  0.425    0.9   0.281  27  37   \n\n  TOV  \n0   8  \n1   6  \n2  14  \n3  11  \n4  15  \n5   9  \n6  16  \n7  26  \n\n[8 rows x 29 columns]",
      "text/html": "<div>\n<style scoped>\n    .dataframe tbody tr th:only-of-type {\n        vertical-align: middle;\n    }\n\n    .dataframe tbody tr th {\n        vertical-align: top;\n    }\n\n    .dataframe thead th {\n        text-align: right;\n    }\n</style>\n<table border=\"1\" class=\"dataframe\">\n  <thead>\n    <tr style=\"text-align: right;\">\n      <th></th>\n      <th>GAME_DATE_EST</th>\n      <th>GAME_SEQUENCE</th>\n      <th>GAME_ID</th>\n      <th>TEAM_ID</th>\n      <th>TEAM_ABBREVIATION</th>\n      <th>TEAM_CITY_NAME</th>\n      <th>TEAM_NAME</th>\n      <th>TEAM_WINS_LOSSES</th>\n      <th>PTS_QTR1</th>\n      <th>PTS_QTR2</th>\n      <th>...</th>\n      <th>PTS_OT8</th>\n      <th>PTS_OT9</th>\n      <th>PTS_OT10</th>\n      <th>PTS</th>\n      <th>FG_PCT</th>\n      <th>FT_PCT</th>\n      <th>FG3_PCT</th>\n      <th>AST</th>\n      <th>REB</th>\n      <th>TOV</th>\n    </tr>\n  </thead>\n  <tbody>\n    <tr>\n      <th>0</th>\n      <td>2020-02-27T00:00:00</td>\n      <td>1</td>\n      <td>0021900873</td>\n      <td>1610612752</td>\n      <td>NYK</td>\n      <td>New York</td>\n      <td>Knicks</td>\n      <td>17-42</td>\n      <td>21</td>\n      <td>25</td>\n      <td>...</td>\n      <td>0</td>\n      <td>0</td>\n      <td>0</td>\n      <td>106</td>\n      <td>0.506</td>\n      <td>0.583</td>\n      <td>0.348</td>\n      <td>28</td>\n      <td>39</td>\n      <td>8</td>\n    </tr>\n    <tr>\n      <th>1</th>\n      <td>2020-02-27T00:00:00</td>\n      <td>1</td>\n      <td>0021900873</td>\n      <td>1610612755</td>\n      <td>PHI</td>\n      <td>Philadelphia</td>\n      <td>76ers</td>\n      <td>37-23</td>\n      <td>26</td>\n      <td>35</td>\n      <td>...</td>\n      <td>0</td>\n      <td>0</td>\n      <td>0</td>\n      <td>115</td>\n      <td>0.495</td>\n      <td>0.769</td>\n      <td>0.484</td>\n      <td>32</td>\n      <td>44</td>\n      <td>6</td>\n    </tr>\n    <tr>\n      <th>2</th>\n      <td>2020-02-27T00:00:00</td>\n      <td>2</td>\n      <td>0021900874</td>\n      <td>1610612757</td>\n      <td>POR</td>\n      <td>Portland</td>\n      <td>Trail Blazers</td>\n      <td>26-34</td>\n      <td>24</td>\n      <td>25</td>\n      <td>...</td>\n      <td>0</td>\n      <td>0</td>\n      <td>0</td>\n      <td>100</td>\n      <td>0.461</td>\n      <td>0.643</td>\n      <td>0.3</td>\n      <td>14</td>\n      <td>45</td>\n      <td>14</td>\n    </tr>\n    <tr>\n      <th>3</th>\n      <td>2020-02-27T00:00:00</td>\n      <td>2</td>\n      <td>0021900874</td>\n      <td>1610612754</td>\n      <td>IND</td>\n      <td>Indiana</td>\n      <td>Pacers</td>\n      <td>35-24</td>\n      <td>30</td>\n      <td>13</td>\n      <td>...</td>\n      <td>0</td>\n      <td>0</td>\n      <td>0</td>\n      <td>106</td>\n      <td>0.444</td>\n      <td>0.783</td>\n      <td>0.32</td>\n      <td>21</td>\n      <td>48</td>\n      <td>11</td>\n    </tr>\n    <tr>\n      <th>4</th>\n      <td>2020-02-27T00:00:00</td>\n      <td>3</td>\n      <td>0021900875</td>\n      <td>1610612758</td>\n      <td>SAC</td>\n      <td>Sacramento</td>\n      <td>Kings</td>\n      <td>24-34</td>\n      <td>27</td>\n      <td>34</td>\n      <td>...</td>\n      <td>0</td>\n      <td>0</td>\n      <td>0</td>\n      <td>108</td>\n      <td>0.451</td>\n      <td>1.0</td>\n      <td>0.343</td>\n      <td>30</td>\n      <td>45</td>\n      <td>15</td>\n    </tr>\n    <tr>\n      <th>5</th>\n      <td>2020-02-27T00:00:00</td>\n      <td>3</td>\n      <td>0021900875</td>\n      <td>1610612760</td>\n      <td>OKC</td>\n      <td>Oklahoma City</td>\n      <td>Thunder</td>\n      <td>37-22</td>\n      <td>25</td>\n      <td>25</td>\n      <td>...</td>\n      <td>0</td>\n      <td>0</td>\n      <td>0</td>\n      <td>112</td>\n      <td>0.488</td>\n      <td>0.724</td>\n      <td>0.346</td>\n      <td>20</td>\n      <td>37</td>\n      <td>9</td>\n    </tr>\n    <tr>\n      <th>6</th>\n      <td>2020-02-27T00:00:00</td>\n      <td>4</td>\n      <td>0021900876</td>\n      <td>1610612747</td>\n      <td>LAL</td>\n      <td>Los Angeles</td>\n      <td>Lakers</td>\n      <td>45-12</td>\n      <td>24</td>\n      <td>30</td>\n      <td>...</td>\n      <td>0</td>\n      <td>0</td>\n      <td>0</td>\n      <td>116</td>\n      <td>0.511</td>\n      <td>0.667</td>\n      <td>0.333</td>\n      <td>24</td>\n      <td>44</td>\n      <td>16</td>\n    </tr>\n    <tr>\n      <th>7</th>\n      <td>2020-02-27T00:00:00</td>\n      <td>4</td>\n      <td>0021900876</td>\n      <td>1610612744</td>\n      <td>GSW</td>\n      <td>Golden State</td>\n      <td>Warriors</td>\n      <td>12-47</td>\n      <td>24</td>\n      <td>28</td>\n      <td>...</td>\n      <td>0</td>\n      <td>0</td>\n      <td>0</td>\n      <td>86</td>\n      <td>0.425</td>\n      <td>0.9</td>\n      <td>0.281</td>\n      <td>27</td>\n      <td>37</td>\n      <td>26</td>\n    </tr>\n  </tbody>\n</table>\n<p>8 rows × 29 columns</p>\n</div>"
     },
     "metadata": {},
     "execution_count": 9
    }
   ],
   "source": [
    "response_df1"
   ]
  },
  {
   "cell_type": "code",
   "execution_count": 10,
   "metadata": {},
   "outputs": [],
   "source": [
    "parameters = {\n",
    "    \"DayOffset\": \"0\",\n",
    "    \"LeagueID\": \"00\",\n",
    "    \"gameDate\": \"02/01/2020\"\n",
    "}"
   ]
  },
  {
   "cell_type": "code",
   "execution_count": 11,
   "metadata": {},
   "outputs": [],
   "source": [
    "scraper_response_2 = scraper.get_request(params=parameters)\n",
    "#scraper_response_2"
   ]
  },
  {
   "cell_type": "code",
   "execution_count": 12,
   "metadata": {},
   "outputs": [
    {
     "output_type": "stream",
     "name": "stdout",
     "text": "[['2020-02-01T00:00:00', 1, '0021900727', 1610612750, 'MIN', 'Minnesota', 'Timberwolves', '15-33', 32, 23, 31, 20, 0, 0, 0, 0, 0, 0, 0, 0, 0, 0, 106, 0.405, 0.838, 0.179, 24, 44, 17], ['2020-02-01T00:00:00', 1, '0021900727', 1610612746, 'LAC', 'LA', 'Clippers', '34-15', 40, 22, 36, 20, 0, 0, 0, 0, 0, 0, 0, 0, 0, 0, 118, 0.459, 0.889, 0.353, 20, 50, 13], ['2020-02-01T00:00:00', 2, '0021900728', 1610612752, 'NYK', 'New York', 'Knicks', '14-36', 24, 26, 22, 20, 0, 0, 0, 0, 0, 0, 0, 0, 0, 0, 92, 0.415, 0.739, 0.269, 19, 57, 12], ['2020-02-01T00:00:00', 2, '0021900728', 1610612754, 'IND', 'Indiana', 'Pacers', '31-18', 11, 28, 32, 14, 0, 0, 0, 0, 0, 0, 0, 0, 0, 0, 85, 0.421, 0.619, 0.333, 21, 34, 11], ['2020-02-01T00:00:00', 3, '0021900729', 1610612748, 'MIA', 'Miami', 'Heat', '33-15', 28, 29, 19, 26, 0, 0, 0, 0, 0, 0, 0, 0, 0, 0, 102, 0.429, 0.808, 0.455, 24, 48, 13], ['2020-02-01T00:00:00', 3, '0021900729', 1610612753, 'ORL', 'Orlando', 'Magic', '21-28', 25, 24, 18, 22, 0, 0, 0, 0, 0, 0, 0, 0, 0, 0, 89, 0.398, 0.824, 0.273, 21, 39, 9], ['2020-02-01T00:00:00', 4, '0021900730', 1610612744, 'GSW', 'Golden State', 'Warriors', '11-39', 31, 30, 44, 26, 0, 0, 0, 0, 0, 0, 0, 0, 0, 0, 131, 0.533, 0.895, 0.514, 39, 44, 11], ['2020-02-01T00:00:00', 4, '0021900730', 1610612739, 'CLE', 'Cleveland', 'Cavaliers', '13-37', 32, 27, 19, 34, 0, 0, 0, 0, 0, 0, 0, 0, 0, 0, 112, 0.432, 1.0, 0.364, 26, 46, 15], ['2020-02-01T00:00:00', 5, '0021900731', 1610612751, 'BKN', 'Brooklyn', 'Nets', '21-27', 36, 25, 23, 23, 0, 0, 0, 0, 0, 0, 0, 0, 0, 0, 107, 0.415, 0.619, 0.34, 25, 53, 15], ['2020-02-01T00:00:00', 5, '0021900731', 1610612764, 'WAS', 'Washington', 'Wizards', '17-31', 27, 32, 22, 32, 0, 0, 0, 0, 0, 0, 0, 0, 0, 0, 113, 0.44, 0.615, 0.281, 21, 51, 9], ['2020-02-01T00:00:00', 6, '0021900732', 1610612755, 'PHI', 'Philadelphia', '76ers', '31-19', 19, 32, 16, 28, 0, 0, 0, 0, 0, 0, 0, 0, 0, 0, 95, 0.369, 0.839, 0.212, 15, 47, 14], ['2020-02-01T00:00:00', 6, '0021900732', 1610612738, 'BOS', 'Boston', 'Celtics', '33-15', 32, 27, 27, 30, 0, 0, 0, 0, 0, 0, 0, 0, 0, 0, 116, 0.475, 0.78, 0.267, 15, 42, 10], ['2020-02-01T00:00:00', 7, '0021900733', 1610612737, 'ATL', 'Atlanta', 'Hawks', '13-37', 26, 23, 23, 28, 0, 0, 0, 0, 0, 0, 0, 0, 0, 0, 100, 0.407, 0.762, 0.303, 19, 50, 11], ['2020-02-01T00:00:00', 7, '0021900733', 1610612742, 'DAL', 'Dallas', 'Mavericks', '30-19', 36, 26, 35, 26, 0, 0, 0, 0, 0, 0, 0, 0, 0, 0, 123, 0.468, 0.938, 0.513, 26, 53, 9], ['2020-02-01T00:00:00', 8, '0021900734', 1610612766, 'CHA', 'Charlotte', 'Hornets', '16-33', 28, 35, 11, 16, 0, 0, 0, 0, 0, 0, 0, 0, 0, 0, 90, 0.422, 0.833, 0.278, 29, 37, 17], ['2020-02-01T00:00:00', 8, '0021900734', 1610612759, 'SAS', 'San Antonio', 'Spurs', '22-26', 30, 20, 29, 35, 0, 0, 0, 0, 0, 0, 0, 0, 0, 0, 114, 0.517, 0.667, 0.357, 27, 44, 10], ['2020-02-01T00:00:00', 9, '0021900736', 1610612747, 'LAL', 'Los Angeles', 'Lakers', '37-11', 44, 37, 23, 25, 0, 0, 0, 0, 0, 0, 0, 0, 0, 0, 129, 0.512, 0.815, 0.442, 33, 46, 14], ['2020-02-01T00:00:00', 9, '0021900736', 1610612758, 'SAC', 'Sacramento', 'Kings', '18-31', 22, 42, 25, 24, 0, 0, 0, 0, 0, 0, 0, 0, 0, 0, 113, 0.429, 0.808, 0.318, 21, 44, 16], ['2020-02-01T00:00:00', 10, '0021900735', 1610612762, 'UTA', 'Utah', 'Jazz', '32-17', 34, 19, 30, 24, 0, 0, 0, 0, 0, 0, 0, 0, 0, 0, 107, 0.426, 1.0, 0.439, 19, 37, 9], ['2020-02-01T00:00:00', 10, '0021900735', 1610612757, 'POR', 'Portland', 'Trail Blazers', '23-27', 33, 30, 31, 30, 0, 0, 0, 0, 0, 0, 0, 0, 0, 0, 124, 0.511, 0.833, 0.517, 20, 51, 12]]\n"
    },
    {
     "output_type": "execute_result",
     "data": {
      "text/plain": "          GAME_DATE_EST GAME_SEQUENCE     GAME_ID     TEAM_ID  \\\n0   2020-02-01T00:00:00             1  0021900727  1610612750   \n1   2020-02-01T00:00:00             1  0021900727  1610612746   \n2   2020-02-01T00:00:00             2  0021900728  1610612752   \n3   2020-02-01T00:00:00             2  0021900728  1610612754   \n4   2020-02-01T00:00:00             3  0021900729  1610612748   \n5   2020-02-01T00:00:00             3  0021900729  1610612753   \n6   2020-02-01T00:00:00             4  0021900730  1610612744   \n7   2020-02-01T00:00:00             4  0021900730  1610612739   \n8   2020-02-01T00:00:00             5  0021900731  1610612751   \n9   2020-02-01T00:00:00             5  0021900731  1610612764   \n10  2020-02-01T00:00:00             6  0021900732  1610612755   \n11  2020-02-01T00:00:00             6  0021900732  1610612738   \n12  2020-02-01T00:00:00             7  0021900733  1610612737   \n13  2020-02-01T00:00:00             7  0021900733  1610612742   \n14  2020-02-01T00:00:00             8  0021900734  1610612766   \n15  2020-02-01T00:00:00             8  0021900734  1610612759   \n16  2020-02-01T00:00:00             9  0021900736  1610612747   \n17  2020-02-01T00:00:00             9  0021900736  1610612758   \n18  2020-02-01T00:00:00            10  0021900735  1610612762   \n19  2020-02-01T00:00:00            10  0021900735  1610612757   \n\n   TEAM_ABBREVIATION TEAM_CITY_NAME      TEAM_NAME TEAM_WINS_LOSSES PTS_QTR1  \\\n0                MIN      Minnesota   Timberwolves            15-33       32   \n1                LAC             LA       Clippers            34-15       40   \n2                NYK       New York         Knicks            14-36       24   \n3                IND        Indiana         Pacers            31-18       11   \n4                MIA          Miami           Heat            33-15       28   \n5                ORL        Orlando          Magic            21-28       25   \n6                GSW   Golden State       Warriors            11-39       31   \n7                CLE      Cleveland      Cavaliers            13-37       32   \n8                BKN       Brooklyn           Nets            21-27       36   \n9                WAS     Washington        Wizards            17-31       27   \n10               PHI   Philadelphia          76ers            31-19       19   \n11               BOS         Boston        Celtics            33-15       32   \n12               ATL        Atlanta          Hawks            13-37       26   \n13               DAL         Dallas      Mavericks            30-19       36   \n14               CHA      Charlotte        Hornets            16-33       28   \n15               SAS    San Antonio          Spurs            22-26       30   \n16               LAL    Los Angeles         Lakers            37-11       44   \n17               SAC     Sacramento          Kings            18-31       22   \n18               UTA           Utah           Jazz            32-17       34   \n19               POR       Portland  Trail Blazers            23-27       33   \n\n   PTS_QTR2  ... PTS_OT8 PTS_OT9 PTS_OT10  PTS FG_PCT FT_PCT FG3_PCT AST REB  \\\n0        23  ...       0       0        0  106  0.405  0.838   0.179  24  44   \n1        22  ...       0       0        0  118  0.459  0.889   0.353  20  50   \n2        26  ...       0       0        0   92  0.415  0.739   0.269  19  57   \n3        28  ...       0       0        0   85  0.421  0.619   0.333  21  34   \n4        29  ...       0       0        0  102  0.429  0.808   0.455  24  48   \n5        24  ...       0       0        0   89  0.398  0.824   0.273  21  39   \n6        30  ...       0       0        0  131  0.533  0.895   0.514  39  44   \n7        27  ...       0       0        0  112  0.432    1.0   0.364  26  46   \n8        25  ...       0       0        0  107  0.415  0.619    0.34  25  53   \n9        32  ...       0       0        0  113   0.44  0.615   0.281  21  51   \n10       32  ...       0       0        0   95  0.369  0.839   0.212  15  47   \n11       27  ...       0       0        0  116  0.475   0.78   0.267  15  42   \n12       23  ...       0       0        0  100  0.407  0.762   0.303  19  50   \n13       26  ...       0       0        0  123  0.468  0.938   0.513  26  53   \n14       35  ...       0       0        0   90  0.422  0.833   0.278  29  37   \n15       20  ...       0       0        0  114  0.517  0.667   0.357  27  44   \n16       37  ...       0       0        0  129  0.512  0.815   0.442  33  46   \n17       42  ...       0       0        0  113  0.429  0.808   0.318  21  44   \n18       19  ...       0       0        0  107  0.426    1.0   0.439  19  37   \n19       30  ...       0       0        0  124  0.511  0.833   0.517  20  51   \n\n   TOV  \n0   17  \n1   13  \n2   12  \n3   11  \n4   13  \n5    9  \n6   11  \n7   15  \n8   15  \n9    9  \n10  14  \n11  10  \n12  11  \n13   9  \n14  17  \n15  10  \n16  14  \n17  16  \n18   9  \n19  12  \n\n[20 rows x 29 columns]",
      "text/html": "<div>\n<style scoped>\n    .dataframe tbody tr th:only-of-type {\n        vertical-align: middle;\n    }\n\n    .dataframe tbody tr th {\n        vertical-align: top;\n    }\n\n    .dataframe thead th {\n        text-align: right;\n    }\n</style>\n<table border=\"1\" class=\"dataframe\">\n  <thead>\n    <tr style=\"text-align: right;\">\n      <th></th>\n      <th>GAME_DATE_EST</th>\n      <th>GAME_SEQUENCE</th>\n      <th>GAME_ID</th>\n      <th>TEAM_ID</th>\n      <th>TEAM_ABBREVIATION</th>\n      <th>TEAM_CITY_NAME</th>\n      <th>TEAM_NAME</th>\n      <th>TEAM_WINS_LOSSES</th>\n      <th>PTS_QTR1</th>\n      <th>PTS_QTR2</th>\n      <th>...</th>\n      <th>PTS_OT8</th>\n      <th>PTS_OT9</th>\n      <th>PTS_OT10</th>\n      <th>PTS</th>\n      <th>FG_PCT</th>\n      <th>FT_PCT</th>\n      <th>FG3_PCT</th>\n      <th>AST</th>\n      <th>REB</th>\n      <th>TOV</th>\n    </tr>\n  </thead>\n  <tbody>\n    <tr>\n      <th>0</th>\n      <td>2020-02-01T00:00:00</td>\n      <td>1</td>\n      <td>0021900727</td>\n      <td>1610612750</td>\n      <td>MIN</td>\n      <td>Minnesota</td>\n      <td>Timberwolves</td>\n      <td>15-33</td>\n      <td>32</td>\n      <td>23</td>\n      <td>...</td>\n      <td>0</td>\n      <td>0</td>\n      <td>0</td>\n      <td>106</td>\n      <td>0.405</td>\n      <td>0.838</td>\n      <td>0.179</td>\n      <td>24</td>\n      <td>44</td>\n      <td>17</td>\n    </tr>\n    <tr>\n      <th>1</th>\n      <td>2020-02-01T00:00:00</td>\n      <td>1</td>\n      <td>0021900727</td>\n      <td>1610612746</td>\n      <td>LAC</td>\n      <td>LA</td>\n      <td>Clippers</td>\n      <td>34-15</td>\n      <td>40</td>\n      <td>22</td>\n      <td>...</td>\n      <td>0</td>\n      <td>0</td>\n      <td>0</td>\n      <td>118</td>\n      <td>0.459</td>\n      <td>0.889</td>\n      <td>0.353</td>\n      <td>20</td>\n      <td>50</td>\n      <td>13</td>\n    </tr>\n    <tr>\n      <th>2</th>\n      <td>2020-02-01T00:00:00</td>\n      <td>2</td>\n      <td>0021900728</td>\n      <td>1610612752</td>\n      <td>NYK</td>\n      <td>New York</td>\n      <td>Knicks</td>\n      <td>14-36</td>\n      <td>24</td>\n      <td>26</td>\n      <td>...</td>\n      <td>0</td>\n      <td>0</td>\n      <td>0</td>\n      <td>92</td>\n      <td>0.415</td>\n      <td>0.739</td>\n      <td>0.269</td>\n      <td>19</td>\n      <td>57</td>\n      <td>12</td>\n    </tr>\n    <tr>\n      <th>3</th>\n      <td>2020-02-01T00:00:00</td>\n      <td>2</td>\n      <td>0021900728</td>\n      <td>1610612754</td>\n      <td>IND</td>\n      <td>Indiana</td>\n      <td>Pacers</td>\n      <td>31-18</td>\n      <td>11</td>\n      <td>28</td>\n      <td>...</td>\n      <td>0</td>\n      <td>0</td>\n      <td>0</td>\n      <td>85</td>\n      <td>0.421</td>\n      <td>0.619</td>\n      <td>0.333</td>\n      <td>21</td>\n      <td>34</td>\n      <td>11</td>\n    </tr>\n    <tr>\n      <th>4</th>\n      <td>2020-02-01T00:00:00</td>\n      <td>3</td>\n      <td>0021900729</td>\n      <td>1610612748</td>\n      <td>MIA</td>\n      <td>Miami</td>\n      <td>Heat</td>\n      <td>33-15</td>\n      <td>28</td>\n      <td>29</td>\n      <td>...</td>\n      <td>0</td>\n      <td>0</td>\n      <td>0</td>\n      <td>102</td>\n      <td>0.429</td>\n      <td>0.808</td>\n      <td>0.455</td>\n      <td>24</td>\n      <td>48</td>\n      <td>13</td>\n    </tr>\n    <tr>\n      <th>5</th>\n      <td>2020-02-01T00:00:00</td>\n      <td>3</td>\n      <td>0021900729</td>\n      <td>1610612753</td>\n      <td>ORL</td>\n      <td>Orlando</td>\n      <td>Magic</td>\n      <td>21-28</td>\n      <td>25</td>\n      <td>24</td>\n      <td>...</td>\n      <td>0</td>\n      <td>0</td>\n      <td>0</td>\n      <td>89</td>\n      <td>0.398</td>\n      <td>0.824</td>\n      <td>0.273</td>\n      <td>21</td>\n      <td>39</td>\n      <td>9</td>\n    </tr>\n    <tr>\n      <th>6</th>\n      <td>2020-02-01T00:00:00</td>\n      <td>4</td>\n      <td>0021900730</td>\n      <td>1610612744</td>\n      <td>GSW</td>\n      <td>Golden State</td>\n      <td>Warriors</td>\n      <td>11-39</td>\n      <td>31</td>\n      <td>30</td>\n      <td>...</td>\n      <td>0</td>\n      <td>0</td>\n      <td>0</td>\n      <td>131</td>\n      <td>0.533</td>\n      <td>0.895</td>\n      <td>0.514</td>\n      <td>39</td>\n      <td>44</td>\n      <td>11</td>\n    </tr>\n    <tr>\n      <th>7</th>\n      <td>2020-02-01T00:00:00</td>\n      <td>4</td>\n      <td>0021900730</td>\n      <td>1610612739</td>\n      <td>CLE</td>\n      <td>Cleveland</td>\n      <td>Cavaliers</td>\n      <td>13-37</td>\n      <td>32</td>\n      <td>27</td>\n      <td>...</td>\n      <td>0</td>\n      <td>0</td>\n      <td>0</td>\n      <td>112</td>\n      <td>0.432</td>\n      <td>1.0</td>\n      <td>0.364</td>\n      <td>26</td>\n      <td>46</td>\n      <td>15</td>\n    </tr>\n    <tr>\n      <th>8</th>\n      <td>2020-02-01T00:00:00</td>\n      <td>5</td>\n      <td>0021900731</td>\n      <td>1610612751</td>\n      <td>BKN</td>\n      <td>Brooklyn</td>\n      <td>Nets</td>\n      <td>21-27</td>\n      <td>36</td>\n      <td>25</td>\n      <td>...</td>\n      <td>0</td>\n      <td>0</td>\n      <td>0</td>\n      <td>107</td>\n      <td>0.415</td>\n      <td>0.619</td>\n      <td>0.34</td>\n      <td>25</td>\n      <td>53</td>\n      <td>15</td>\n    </tr>\n    <tr>\n      <th>9</th>\n      <td>2020-02-01T00:00:00</td>\n      <td>5</td>\n      <td>0021900731</td>\n      <td>1610612764</td>\n      <td>WAS</td>\n      <td>Washington</td>\n      <td>Wizards</td>\n      <td>17-31</td>\n      <td>27</td>\n      <td>32</td>\n      <td>...</td>\n      <td>0</td>\n      <td>0</td>\n      <td>0</td>\n      <td>113</td>\n      <td>0.44</td>\n      <td>0.615</td>\n      <td>0.281</td>\n      <td>21</td>\n      <td>51</td>\n      <td>9</td>\n    </tr>\n    <tr>\n      <th>10</th>\n      <td>2020-02-01T00:00:00</td>\n      <td>6</td>\n      <td>0021900732</td>\n      <td>1610612755</td>\n      <td>PHI</td>\n      <td>Philadelphia</td>\n      <td>76ers</td>\n      <td>31-19</td>\n      <td>19</td>\n      <td>32</td>\n      <td>...</td>\n      <td>0</td>\n      <td>0</td>\n      <td>0</td>\n      <td>95</td>\n      <td>0.369</td>\n      <td>0.839</td>\n      <td>0.212</td>\n      <td>15</td>\n      <td>47</td>\n      <td>14</td>\n    </tr>\n    <tr>\n      <th>11</th>\n      <td>2020-02-01T00:00:00</td>\n      <td>6</td>\n      <td>0021900732</td>\n      <td>1610612738</td>\n      <td>BOS</td>\n      <td>Boston</td>\n      <td>Celtics</td>\n      <td>33-15</td>\n      <td>32</td>\n      <td>27</td>\n      <td>...</td>\n      <td>0</td>\n      <td>0</td>\n      <td>0</td>\n      <td>116</td>\n      <td>0.475</td>\n      <td>0.78</td>\n      <td>0.267</td>\n      <td>15</td>\n      <td>42</td>\n      <td>10</td>\n    </tr>\n    <tr>\n      <th>12</th>\n      <td>2020-02-01T00:00:00</td>\n      <td>7</td>\n      <td>0021900733</td>\n      <td>1610612737</td>\n      <td>ATL</td>\n      <td>Atlanta</td>\n      <td>Hawks</td>\n      <td>13-37</td>\n      <td>26</td>\n      <td>23</td>\n      <td>...</td>\n      <td>0</td>\n      <td>0</td>\n      <td>0</td>\n      <td>100</td>\n      <td>0.407</td>\n      <td>0.762</td>\n      <td>0.303</td>\n      <td>19</td>\n      <td>50</td>\n      <td>11</td>\n    </tr>\n    <tr>\n      <th>13</th>\n      <td>2020-02-01T00:00:00</td>\n      <td>7</td>\n      <td>0021900733</td>\n      <td>1610612742</td>\n      <td>DAL</td>\n      <td>Dallas</td>\n      <td>Mavericks</td>\n      <td>30-19</td>\n      <td>36</td>\n      <td>26</td>\n      <td>...</td>\n      <td>0</td>\n      <td>0</td>\n      <td>0</td>\n      <td>123</td>\n      <td>0.468</td>\n      <td>0.938</td>\n      <td>0.513</td>\n      <td>26</td>\n      <td>53</td>\n      <td>9</td>\n    </tr>\n    <tr>\n      <th>14</th>\n      <td>2020-02-01T00:00:00</td>\n      <td>8</td>\n      <td>0021900734</td>\n      <td>1610612766</td>\n      <td>CHA</td>\n      <td>Charlotte</td>\n      <td>Hornets</td>\n      <td>16-33</td>\n      <td>28</td>\n      <td>35</td>\n      <td>...</td>\n      <td>0</td>\n      <td>0</td>\n      <td>0</td>\n      <td>90</td>\n      <td>0.422</td>\n      <td>0.833</td>\n      <td>0.278</td>\n      <td>29</td>\n      <td>37</td>\n      <td>17</td>\n    </tr>\n    <tr>\n      <th>15</th>\n      <td>2020-02-01T00:00:00</td>\n      <td>8</td>\n      <td>0021900734</td>\n      <td>1610612759</td>\n      <td>SAS</td>\n      <td>San Antonio</td>\n      <td>Spurs</td>\n      <td>22-26</td>\n      <td>30</td>\n      <td>20</td>\n      <td>...</td>\n      <td>0</td>\n      <td>0</td>\n      <td>0</td>\n      <td>114</td>\n      <td>0.517</td>\n      <td>0.667</td>\n      <td>0.357</td>\n      <td>27</td>\n      <td>44</td>\n      <td>10</td>\n    </tr>\n    <tr>\n      <th>16</th>\n      <td>2020-02-01T00:00:00</td>\n      <td>9</td>\n      <td>0021900736</td>\n      <td>1610612747</td>\n      <td>LAL</td>\n      <td>Los Angeles</td>\n      <td>Lakers</td>\n      <td>37-11</td>\n      <td>44</td>\n      <td>37</td>\n      <td>...</td>\n      <td>0</td>\n      <td>0</td>\n      <td>0</td>\n      <td>129</td>\n      <td>0.512</td>\n      <td>0.815</td>\n      <td>0.442</td>\n      <td>33</td>\n      <td>46</td>\n      <td>14</td>\n    </tr>\n    <tr>\n      <th>17</th>\n      <td>2020-02-01T00:00:00</td>\n      <td>9</td>\n      <td>0021900736</td>\n      <td>1610612758</td>\n      <td>SAC</td>\n      <td>Sacramento</td>\n      <td>Kings</td>\n      <td>18-31</td>\n      <td>22</td>\n      <td>42</td>\n      <td>...</td>\n      <td>0</td>\n      <td>0</td>\n      <td>0</td>\n      <td>113</td>\n      <td>0.429</td>\n      <td>0.808</td>\n      <td>0.318</td>\n      <td>21</td>\n      <td>44</td>\n      <td>16</td>\n    </tr>\n    <tr>\n      <th>18</th>\n      <td>2020-02-01T00:00:00</td>\n      <td>10</td>\n      <td>0021900735</td>\n      <td>1610612762</td>\n      <td>UTA</td>\n      <td>Utah</td>\n      <td>Jazz</td>\n      <td>32-17</td>\n      <td>34</td>\n      <td>19</td>\n      <td>...</td>\n      <td>0</td>\n      <td>0</td>\n      <td>0</td>\n      <td>107</td>\n      <td>0.426</td>\n      <td>1.0</td>\n      <td>0.439</td>\n      <td>19</td>\n      <td>37</td>\n      <td>9</td>\n    </tr>\n    <tr>\n      <th>19</th>\n      <td>2020-02-01T00:00:00</td>\n      <td>10</td>\n      <td>0021900735</td>\n      <td>1610612757</td>\n      <td>POR</td>\n      <td>Portland</td>\n      <td>Trail Blazers</td>\n      <td>23-27</td>\n      <td>33</td>\n      <td>30</td>\n      <td>...</td>\n      <td>0</td>\n      <td>0</td>\n      <td>0</td>\n      <td>124</td>\n      <td>0.511</td>\n      <td>0.833</td>\n      <td>0.517</td>\n      <td>20</td>\n      <td>51</td>\n      <td>12</td>\n    </tr>\n  </tbody>\n</table>\n<p>20 rows × 29 columns</p>\n</div>"
     },
     "metadata": {},
     "execution_count": 12
    }
   ],
   "source": [
    "response_df2 = scraper.load_response(scraper_response_2)\n",
    "response_df2"
   ]
  }
 ]
}