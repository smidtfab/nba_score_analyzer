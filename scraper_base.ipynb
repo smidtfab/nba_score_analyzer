{
 "nbformat": 4,
 "nbformat_minor": 2,
 "metadata": {
  "language_info": {
   "name": "python",
   "codemirror_mode": {
    "name": "ipython",
    "version": 3
   },
   "version": "3.7.6-final"
  },
  "orig_nbformat": 2,
  "file_extension": ".py",
  "mimetype": "text/x-python",
  "name": "python",
  "npconvert_exporter": "python",
  "pygments_lexer": "ipython3",
  "version": 3,
  "kernelspec": {
   "name": "python37664bitwicondac9dbfe63c07f4b009c73784f08b30020",
   "display_name": "Python 3.7.6 64-bit ('WI': conda)"
  }
 },
 "cells": [
  {
   "cell_type": "code",
   "execution_count": 1,
   "metadata": {},
   "outputs": [],
   "source": [
    "import requests\n",
    "from bs4 import BeautifulSoup as bs\n",
    "#from collections import deque\n",
    "import urllib.request\n",
    "#import re\n",
    "import json"
   ]
  },
  {
   "cell_type": "code",
   "execution_count": 2,
   "metadata": {},
   "outputs": [
    {
     "name": "stdout",
     "output_type": "stream",
     "text": "0021900735\n0021900736\n0021900734\n0021900732\n0021900733\n0021900731\n0021900730\n0021900728\n0021900729\n0021900727\n"
    }
   ],
   "source": [
    "url = \"https://stats.nba.com/js/data/boxscorebreakdowns/2020/boxscore_breakdown_20200201.json\"\n",
    "response = requests.get(url)\n",
    "response.status_code\n",
    "data = response.json()\n",
    "games = data['results']\n",
    "\n",
    "game_ids = []\n",
    "\n",
    "for i in range(0, len(games)):\n",
    "   game_id = games[i]['GameID']\n",
    "   game_ids.append(game_id)\n",
    "   print(game_id)"
   ]
  },
  {
   "cell_type": "code",
   "execution_count": 3,
   "metadata": {},
   "outputs": [],
   "source": [
    "# url = \"https://stats.nba.com/stats/boxscoretraditionalv2?GameID={game_id}\".format(game_id=str(game_ids[0]))\n",
    "# response = requests.get(url)\n",
    "# response.status_code\n",
    "# data = response.json()"
   ]
  },
  {
   "cell_type": "code",
   "execution_count": 4,
   "metadata": {},
   "outputs": [],
   "source": [
    "# url = \"https://stats.nba.com/stats/boxscoretraditionalv2?EndPeriod=10&EndRange=31800&GameID=0021900808&RangeType=0&Season=2019-20&SeasonType=Regular+Season&StartPeriod=1&StartRange=0\"\n",
    "# response = requests.get(url)\n",
    "# response.status_code\n",
    "# data = response.json()\n",
    "# games = data['resultsSets']"
   ]
  }
 ]
}